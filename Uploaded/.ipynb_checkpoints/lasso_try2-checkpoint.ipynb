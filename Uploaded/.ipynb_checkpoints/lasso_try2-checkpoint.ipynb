{
 "cells": [
  {
   "cell_type": "code",
   "execution_count": 19,
   "metadata": {
    "_cell_guid": "6c1b5539-1759-e753-6dae-41f655ad31eb",
    "collapsed": true
   },
   "outputs": [],
   "source": [
    "import pandas as pd\n",
    "import numpy as np\n",
    "import matplotlib.pyplot as plt\n",
    "from sklearn.linear_model import Lasso\n",
    "%matplotlib inline"
   ]
  },
  {
   "cell_type": "code",
   "execution_count": 20,
   "metadata": {
    "_cell_guid": "4966d147-a568-0ce2-d84e-6dd84b2c62eb",
    "collapsed": false
   },
   "outputs": [],
   "source": [
    "train = pd.read_csv(\"train.csv\")\n",
    "test = pd.read_csv(\"test.csv\")"
   ]
  },
  {
   "cell_type": "code",
   "execution_count": 21,
   "metadata": {
    "_cell_guid": "a8af6127-0180-983a-8ffd-ec18d569bbb8",
    "collapsed": false
   },
   "outputs": [
    {
     "data": {
      "text/html": [
       "<div>\n",
       "<table border=\"1\" class=\"dataframe\">\n",
       "  <thead>\n",
       "    <tr style=\"text-align: right;\">\n",
       "      <th></th>\n",
       "      <th>MSSubClass</th>\n",
       "      <th>MSZoning</th>\n",
       "      <th>LotFrontage</th>\n",
       "      <th>LotArea</th>\n",
       "      <th>Street</th>\n",
       "      <th>Alley</th>\n",
       "      <th>LotShape</th>\n",
       "      <th>LandContour</th>\n",
       "      <th>Utilities</th>\n",
       "      <th>LotConfig</th>\n",
       "      <th>...</th>\n",
       "      <th>ScreenPorch</th>\n",
       "      <th>PoolArea</th>\n",
       "      <th>PoolQC</th>\n",
       "      <th>Fence</th>\n",
       "      <th>MiscFeature</th>\n",
       "      <th>MiscVal</th>\n",
       "      <th>MoSold</th>\n",
       "      <th>YrSold</th>\n",
       "      <th>SaleType</th>\n",
       "      <th>SaleCondition</th>\n",
       "    </tr>\n",
       "  </thead>\n",
       "  <tbody>\n",
       "    <tr>\n",
       "      <th>0</th>\n",
       "      <td>60</td>\n",
       "      <td>RL</td>\n",
       "      <td>65.0</td>\n",
       "      <td>8450</td>\n",
       "      <td>Pave</td>\n",
       "      <td>NaN</td>\n",
       "      <td>Reg</td>\n",
       "      <td>Lvl</td>\n",
       "      <td>AllPub</td>\n",
       "      <td>Inside</td>\n",
       "      <td>...</td>\n",
       "      <td>0</td>\n",
       "      <td>0</td>\n",
       "      <td>NaN</td>\n",
       "      <td>NaN</td>\n",
       "      <td>NaN</td>\n",
       "      <td>0</td>\n",
       "      <td>2</td>\n",
       "      <td>2008</td>\n",
       "      <td>WD</td>\n",
       "      <td>Normal</td>\n",
       "    </tr>\n",
       "    <tr>\n",
       "      <th>1</th>\n",
       "      <td>20</td>\n",
       "      <td>RL</td>\n",
       "      <td>80.0</td>\n",
       "      <td>9600</td>\n",
       "      <td>Pave</td>\n",
       "      <td>NaN</td>\n",
       "      <td>Reg</td>\n",
       "      <td>Lvl</td>\n",
       "      <td>AllPub</td>\n",
       "      <td>FR2</td>\n",
       "      <td>...</td>\n",
       "      <td>0</td>\n",
       "      <td>0</td>\n",
       "      <td>NaN</td>\n",
       "      <td>NaN</td>\n",
       "      <td>NaN</td>\n",
       "      <td>0</td>\n",
       "      <td>5</td>\n",
       "      <td>2007</td>\n",
       "      <td>WD</td>\n",
       "      <td>Normal</td>\n",
       "    </tr>\n",
       "    <tr>\n",
       "      <th>2</th>\n",
       "      <td>60</td>\n",
       "      <td>RL</td>\n",
       "      <td>68.0</td>\n",
       "      <td>11250</td>\n",
       "      <td>Pave</td>\n",
       "      <td>NaN</td>\n",
       "      <td>IR1</td>\n",
       "      <td>Lvl</td>\n",
       "      <td>AllPub</td>\n",
       "      <td>Inside</td>\n",
       "      <td>...</td>\n",
       "      <td>0</td>\n",
       "      <td>0</td>\n",
       "      <td>NaN</td>\n",
       "      <td>NaN</td>\n",
       "      <td>NaN</td>\n",
       "      <td>0</td>\n",
       "      <td>9</td>\n",
       "      <td>2008</td>\n",
       "      <td>WD</td>\n",
       "      <td>Normal</td>\n",
       "    </tr>\n",
       "    <tr>\n",
       "      <th>3</th>\n",
       "      <td>70</td>\n",
       "      <td>RL</td>\n",
       "      <td>60.0</td>\n",
       "      <td>9550</td>\n",
       "      <td>Pave</td>\n",
       "      <td>NaN</td>\n",
       "      <td>IR1</td>\n",
       "      <td>Lvl</td>\n",
       "      <td>AllPub</td>\n",
       "      <td>Corner</td>\n",
       "      <td>...</td>\n",
       "      <td>0</td>\n",
       "      <td>0</td>\n",
       "      <td>NaN</td>\n",
       "      <td>NaN</td>\n",
       "      <td>NaN</td>\n",
       "      <td>0</td>\n",
       "      <td>2</td>\n",
       "      <td>2006</td>\n",
       "      <td>WD</td>\n",
       "      <td>Abnorml</td>\n",
       "    </tr>\n",
       "    <tr>\n",
       "      <th>4</th>\n",
       "      <td>60</td>\n",
       "      <td>RL</td>\n",
       "      <td>84.0</td>\n",
       "      <td>14260</td>\n",
       "      <td>Pave</td>\n",
       "      <td>NaN</td>\n",
       "      <td>IR1</td>\n",
       "      <td>Lvl</td>\n",
       "      <td>AllPub</td>\n",
       "      <td>FR2</td>\n",
       "      <td>...</td>\n",
       "      <td>0</td>\n",
       "      <td>0</td>\n",
       "      <td>NaN</td>\n",
       "      <td>NaN</td>\n",
       "      <td>NaN</td>\n",
       "      <td>0</td>\n",
       "      <td>12</td>\n",
       "      <td>2008</td>\n",
       "      <td>WD</td>\n",
       "      <td>Normal</td>\n",
       "    </tr>\n",
       "  </tbody>\n",
       "</table>\n",
       "<p>5 rows × 79 columns</p>\n",
       "</div>"
      ],
      "text/plain": [
       "   MSSubClass MSZoning  LotFrontage  LotArea Street Alley LotShape  \\\n",
       "0          60       RL         65.0     8450   Pave   NaN      Reg   \n",
       "1          20       RL         80.0     9600   Pave   NaN      Reg   \n",
       "2          60       RL         68.0    11250   Pave   NaN      IR1   \n",
       "3          70       RL         60.0     9550   Pave   NaN      IR1   \n",
       "4          60       RL         84.0    14260   Pave   NaN      IR1   \n",
       "\n",
       "  LandContour Utilities LotConfig      ...       ScreenPorch PoolArea PoolQC  \\\n",
       "0         Lvl    AllPub    Inside      ...                 0        0    NaN   \n",
       "1         Lvl    AllPub       FR2      ...                 0        0    NaN   \n",
       "2         Lvl    AllPub    Inside      ...                 0        0    NaN   \n",
       "3         Lvl    AllPub    Corner      ...                 0        0    NaN   \n",
       "4         Lvl    AllPub       FR2      ...                 0        0    NaN   \n",
       "\n",
       "  Fence MiscFeature MiscVal  MoSold  YrSold  SaleType  SaleCondition  \n",
       "0   NaN         NaN       0       2    2008        WD         Normal  \n",
       "1   NaN         NaN       0       5    2007        WD         Normal  \n",
       "2   NaN         NaN       0       9    2008        WD         Normal  \n",
       "3   NaN         NaN       0       2    2006        WD        Abnorml  \n",
       "4   NaN         NaN       0      12    2008        WD         Normal  \n",
       "\n",
       "[5 rows x 79 columns]"
      ]
     },
     "execution_count": 21,
     "metadata": {},
     "output_type": "execute_result"
    }
   ],
   "source": [
    "all_data = pd.concat((train.loc[:,'MSSubClass':'SaleCondition'], test.loc[:,'MSSubClass':'SaleCondition']), ignore_index=True)\n",
    "all_data.head()"
   ]
  },
  {
   "cell_type": "markdown",
   "metadata": {
    "_cell_guid": "7ffbc4c8-bf8e-b7ad-8a31-7cd41bfbb1fa"
   },
   "source": [
    "## Imputation of missing values ##"
   ]
  },
  {
   "cell_type": "code",
   "execution_count": 22,
   "metadata": {
    "_cell_guid": "41f21588-54a2-cccf-ebfb-b82f22818d08",
    "collapsed": false
   },
   "outputs": [
    {
     "name": "stdout",
     "output_type": "stream",
     "text": [
      "MODIFIED\n"
     ]
    },
    {
     "data": {
      "text/html": [
       "<div>\n",
       "<table border=\"1\" class=\"dataframe\">\n",
       "  <thead>\n",
       "    <tr style=\"text-align: right;\">\n",
       "      <th></th>\n",
       "      <th>MSSubClass</th>\n",
       "      <th>MSZoning</th>\n",
       "      <th>LotFrontage</th>\n",
       "      <th>LotArea</th>\n",
       "      <th>Street</th>\n",
       "      <th>Alley</th>\n",
       "      <th>LotShape</th>\n",
       "      <th>LandContour</th>\n",
       "      <th>Utilities</th>\n",
       "      <th>LotConfig</th>\n",
       "      <th>...</th>\n",
       "      <th>ScreenPorch</th>\n",
       "      <th>PoolArea</th>\n",
       "      <th>PoolQC</th>\n",
       "      <th>Fence</th>\n",
       "      <th>MiscFeature</th>\n",
       "      <th>MiscVal</th>\n",
       "      <th>MoSold</th>\n",
       "      <th>YrSold</th>\n",
       "      <th>SaleType</th>\n",
       "      <th>SaleCondition</th>\n",
       "    </tr>\n",
       "  </thead>\n",
       "  <tbody>\n",
       "    <tr>\n",
       "      <th>0</th>\n",
       "      <td>60</td>\n",
       "      <td>RL</td>\n",
       "      <td>65.0</td>\n",
       "      <td>8450</td>\n",
       "      <td>Pave</td>\n",
       "      <td>NaN</td>\n",
       "      <td>Reg</td>\n",
       "      <td>Lvl</td>\n",
       "      <td>AllPub</td>\n",
       "      <td>Inside</td>\n",
       "      <td>...</td>\n",
       "      <td>0</td>\n",
       "      <td>0</td>\n",
       "      <td>NaN</td>\n",
       "      <td>NaN</td>\n",
       "      <td>NaN</td>\n",
       "      <td>0</td>\n",
       "      <td>2</td>\n",
       "      <td>2008</td>\n",
       "      <td>WD</td>\n",
       "      <td>Normal</td>\n",
       "    </tr>\n",
       "    <tr>\n",
       "      <th>1</th>\n",
       "      <td>20</td>\n",
       "      <td>RL</td>\n",
       "      <td>80.0</td>\n",
       "      <td>9600</td>\n",
       "      <td>Pave</td>\n",
       "      <td>NaN</td>\n",
       "      <td>Reg</td>\n",
       "      <td>Lvl</td>\n",
       "      <td>AllPub</td>\n",
       "      <td>FR2</td>\n",
       "      <td>...</td>\n",
       "      <td>0</td>\n",
       "      <td>0</td>\n",
       "      <td>NaN</td>\n",
       "      <td>NaN</td>\n",
       "      <td>NaN</td>\n",
       "      <td>0</td>\n",
       "      <td>5</td>\n",
       "      <td>2007</td>\n",
       "      <td>WD</td>\n",
       "      <td>Normal</td>\n",
       "    </tr>\n",
       "    <tr>\n",
       "      <th>2</th>\n",
       "      <td>60</td>\n",
       "      <td>RL</td>\n",
       "      <td>68.0</td>\n",
       "      <td>11250</td>\n",
       "      <td>Pave</td>\n",
       "      <td>NaN</td>\n",
       "      <td>IR1</td>\n",
       "      <td>Lvl</td>\n",
       "      <td>AllPub</td>\n",
       "      <td>Inside</td>\n",
       "      <td>...</td>\n",
       "      <td>0</td>\n",
       "      <td>0</td>\n",
       "      <td>NaN</td>\n",
       "      <td>NaN</td>\n",
       "      <td>NaN</td>\n",
       "      <td>0</td>\n",
       "      <td>9</td>\n",
       "      <td>2008</td>\n",
       "      <td>WD</td>\n",
       "      <td>Normal</td>\n",
       "    </tr>\n",
       "    <tr>\n",
       "      <th>3</th>\n",
       "      <td>70</td>\n",
       "      <td>RL</td>\n",
       "      <td>60.0</td>\n",
       "      <td>9550</td>\n",
       "      <td>Pave</td>\n",
       "      <td>NaN</td>\n",
       "      <td>IR1</td>\n",
       "      <td>Lvl</td>\n",
       "      <td>AllPub</td>\n",
       "      <td>Corner</td>\n",
       "      <td>...</td>\n",
       "      <td>0</td>\n",
       "      <td>0</td>\n",
       "      <td>NaN</td>\n",
       "      <td>NaN</td>\n",
       "      <td>NaN</td>\n",
       "      <td>0</td>\n",
       "      <td>2</td>\n",
       "      <td>2006</td>\n",
       "      <td>WD</td>\n",
       "      <td>Abnorml</td>\n",
       "    </tr>\n",
       "    <tr>\n",
       "      <th>4</th>\n",
       "      <td>60</td>\n",
       "      <td>RL</td>\n",
       "      <td>84.0</td>\n",
       "      <td>14260</td>\n",
       "      <td>Pave</td>\n",
       "      <td>NaN</td>\n",
       "      <td>IR1</td>\n",
       "      <td>Lvl</td>\n",
       "      <td>AllPub</td>\n",
       "      <td>FR2</td>\n",
       "      <td>...</td>\n",
       "      <td>0</td>\n",
       "      <td>0</td>\n",
       "      <td>NaN</td>\n",
       "      <td>NaN</td>\n",
       "      <td>NaN</td>\n",
       "      <td>0</td>\n",
       "      <td>12</td>\n",
       "      <td>2008</td>\n",
       "      <td>WD</td>\n",
       "      <td>Normal</td>\n",
       "    </tr>\n",
       "  </tbody>\n",
       "</table>\n",
       "<p>5 rows × 79 columns</p>\n",
       "</div>"
      ],
      "text/plain": [
       "   MSSubClass MSZoning  LotFrontage  LotArea Street Alley LotShape  \\\n",
       "0          60       RL         65.0     8450   Pave   NaN      Reg   \n",
       "1          20       RL         80.0     9600   Pave   NaN      Reg   \n",
       "2          60       RL         68.0    11250   Pave   NaN      IR1   \n",
       "3          70       RL         60.0     9550   Pave   NaN      IR1   \n",
       "4          60       RL         84.0    14260   Pave   NaN      IR1   \n",
       "\n",
       "  LandContour Utilities LotConfig      ...       ScreenPorch PoolArea PoolQC  \\\n",
       "0         Lvl    AllPub    Inside      ...                 0        0    NaN   \n",
       "1         Lvl    AllPub       FR2      ...                 0        0    NaN   \n",
       "2         Lvl    AllPub    Inside      ...                 0        0    NaN   \n",
       "3         Lvl    AllPub    Corner      ...                 0        0    NaN   \n",
       "4         Lvl    AllPub       FR2      ...                 0        0    NaN   \n",
       "\n",
       "  Fence MiscFeature MiscVal  MoSold  YrSold  SaleType  SaleCondition  \n",
       "0   NaN         NaN       0       2    2008        WD         Normal  \n",
       "1   NaN         NaN       0       5    2007        WD         Normal  \n",
       "2   NaN         NaN       0       9    2008        WD         Normal  \n",
       "3   NaN         NaN       0       2    2006        WD        Abnorml  \n",
       "4   NaN         NaN       0      12    2008        WD         Normal  \n",
       "\n",
       "[5 rows x 79 columns]"
      ]
     },
     "execution_count": 22,
     "metadata": {},
     "output_type": "execute_result"
    }
   ],
   "source": [
    "import warnings\n",
    "warnings.simplefilter('ignore', np.RankWarning)\n",
    "x = all_data.loc[np.logical_not(all_data[\"LotFrontage\"].isnull()), \"LotArea\"]\n",
    "y = all_data.loc[np.logical_not(all_data[\"LotFrontage\"].isnull()), \"LotFrontage\"]\n",
    "\n",
    "t = (x <= 25000) & (y <= 150) #Extract Values  \n",
    "p = np.polyfit(x[t], y[t], 1)\n",
    "all_data.loc[all_data['LotFrontage'].isnull(), 'LotFrontage'] = np.polyval(p, all_data.loc[all_data['LotFrontage'].isnull(), 'LotArea'])\n",
    "print (\"MODIFIED\")\n",
    "all_data.head()"
   ]
  },
  {
   "cell_type": "markdown",
   "metadata": {
    "_cell_guid": "adad1d8c-1f3a-cc8d-eebd-d0f97110a7da"
   },
   "source": [
    "There are many features were NaN should be considered as absence of such property. In other cases I replace NaN with most common value"
   ]
  },
  {
   "cell_type": "code",
   "execution_count": 23,
   "metadata": {
    "_cell_guid": "3bfae950-1716-ccdd-1fe7-c01a0f07cfd3",
    "collapsed": false
   },
   "outputs": [],
   "source": [
    "all_data.loc[all_data.Alley.isnull(), 'Alley'] = 'NoAlley'\n",
    "all_data.loc[all_data.MasVnrType.isnull(), 'MasVnrType'] = 'None' # no good\n",
    "all_data.loc[all_data.MasVnrType == 'None', 'MasVnrArea'] = 0\n",
    "all_data.loc[all_data.BsmtQual.isnull(), 'BsmtQual'] = 'NoBsmt'\n",
    "all_data.loc[all_data.BsmtCond.isnull(), 'BsmtCond'] = 'NoBsmt'\n",
    "all_data.loc[all_data.BsmtExposure.isnull(), 'BsmtExposure'] = 'NoBsmt'\n",
    "all_data.loc[all_data.BsmtFinType1.isnull(), 'BsmtFinType1'] = 'NoBsmt'\n",
    "all_data.loc[all_data.BsmtFinType2.isnull(), 'BsmtFinType2'] = 'NoBsmt'\n",
    "all_data.loc[all_data.BsmtFinType1=='NoBsmt', 'BsmtFinSF1'] = 0\n",
    "all_data.loc[all_data.BsmtFinType2=='NoBsmt', 'BsmtFinSF2'] = 0\n",
    "all_data.loc[all_data.BsmtFinSF1.isnull(), 'BsmtFinSF1'] = all_data.BsmtFinSF1.median()\n",
    "all_data.loc[all_data.BsmtQual=='NoBsmt', 'BsmtUnfSF'] = 0\n",
    "all_data.loc[all_data.BsmtUnfSF.isnull(), 'BsmtUnfSF'] = all_data.BsmtUnfSF.median()\n",
    "all_data.loc[all_data.BsmtQual=='NoBsmt', 'TotalBsmtSF'] = 0\n",
    "all_data.loc[all_data.FireplaceQu.isnull(), 'FireplaceQu'] = 'NoFireplace'\n",
    "all_data.loc[all_data.GarageType.isnull(), 'GarageType'] = 'NoGarage'\n",
    "all_data.loc[all_data.GarageFinish.isnull(), 'GarageFinish'] = 'NoGarage'\n",
    "all_data.loc[all_data.GarageQual.isnull(), 'GarageQual'] = 'NoGarage'\n",
    "all_data.loc[all_data.GarageCond.isnull(), 'GarageCond'] = 'NoGarage'\n",
    "all_data.loc[all_data.BsmtFullBath.isnull(), 'BsmtFullBath'] = 0\n",
    "all_data.loc[all_data.BsmtHalfBath.isnull(), 'BsmtHalfBath'] = 0\n",
    "all_data.loc[all_data.KitchenQual.isnull(), 'KitchenQual'] = 'TA'\n",
    "all_data.loc[all_data.MSZoning.isnull(), 'MSZoning'] = 'RL'\n",
    "all_data.loc[all_data.Utilities.isnull(), 'Utilities'] = 'AllPub'\n",
    "all_data.loc[all_data.Exterior1st.isnull(), 'Exterior1st'] = 'VinylSd'\n",
    "all_data.loc[all_data.Exterior2nd.isnull(), 'Exterior2nd'] = 'VinylSd'\n",
    "all_data.loc[all_data.Functional.isnull(), 'Functional'] = 'Typ'\n",
    "all_data.loc[all_data.SaleCondition.isnull(), 'SaleCondition'] = 'Normal'\n",
    "all_data.loc[all_data.SaleCondition.isnull(), 'SaleType'] = 'WD'\n",
    "all_data.loc[all_data['PoolQC'].isnull(), 'PoolQC'] = 'NoPool'\n",
    "all_data.loc[all_data['Fence'].isnull(), 'Fence'] = 'NoFence'\n",
    "all_data.loc[all_data['MiscFeature'].isnull(), 'MiscFeature'] = 'None'\n",
    "all_data.loc[all_data['Electrical'].isnull(), 'Electrical'] = 'SBrkr'\n",
    "# only one is null and it has type Detchd\n",
    "all_data.loc[all_data['GarageArea'].isnull(), 'GarageArea'] = all_data.loc[all_data['GarageType']=='Detchd', 'GarageArea'].mean()\n",
    "all_data.loc[all_data['GarageCars'].isnull(), 'GarageCars'] = all_data.loc[all_data['GarageType']=='Detchd', 'GarageCars'].median()"
   ]
  },
  {
   "cell_type": "markdown",
   "metadata": {
    "_cell_guid": "9bb00740-bde7-a678-c29f-fb1e2709105b"
   },
   "source": [
    "## Normalization ##"
   ]
  },
  {
   "cell_type": "code",
   "execution_count": 24,
   "metadata": {
    "_cell_guid": "f706c097-313b-d53e-908d-2d02a10868c4",
    "collapsed": true
   },
   "outputs": [],
   "source": [
    "# where we have order we will use numeric\n",
    "all_data = all_data.replace({'Utilities': {'AllPub': 1, 'NoSeWa': 0, 'NoSewr': 0, 'ELO': 0},\n",
    "                             'Street': {'Pave': 1, 'Grvl': 0 },\n",
    "                             'FireplaceQu': {'Ex': 5, \n",
    "                                            'Gd': 4, \n",
    "                                            'TA': 3, \n",
    "                                            'Fa': 2,\n",
    "                                            'Po': 1,\n",
    "                                            'NoFireplace': 0 \n",
    "                                            },\n",
    "                             'Fence': {'GdPrv': 2, \n",
    "                                       'GdWo': 2, \n",
    "                                       'MnPrv': 1, \n",
    "                                       'MnWw': 1,\n",
    "                                       'NoFence': 0},\n",
    "                             'ExterQual': {'Ex': 5, \n",
    "                                            'Gd': 4, \n",
    "                                            'TA': 3, \n",
    "                                            'Fa': 2,\n",
    "                                            'Po': 1\n",
    "                                            },\n",
    "                             'ExterCond': {'Ex': 5, \n",
    "                                            'Gd': 4, \n",
    "                                            'TA': 3, \n",
    "                                            'Fa': 2,\n",
    "                                            'Po': 1\n",
    "                                            },\n",
    "                             'BsmtQual': {'Ex': 5, \n",
    "                                            'Gd': 4, \n",
    "                                            'TA': 3, \n",
    "                                            'Fa': 2,\n",
    "                                            'Po': 1,\n",
    "                                            'NoBsmt': 0},\n",
    "                             'BsmtExposure': {'Gd': 3, \n",
    "                                            'Av': 2, \n",
    "                                            'Mn': 1,\n",
    "                                            'No': 0,\n",
    "                                            'NoBsmt': 0},\n",
    "                             'BsmtCond': {'Ex': 5, \n",
    "                                            'Gd': 4, \n",
    "                                            'TA': 3, \n",
    "                                            'Fa': 2,\n",
    "                                            'Po': 1,\n",
    "                                            'NoBsmt': 0},\n",
    "                             'GarageQual': {'Ex': 5, \n",
    "                                            'Gd': 4, \n",
    "                                            'TA': 3, \n",
    "                                            'Fa': 2,\n",
    "                                            'Po': 1,\n",
    "                                            'NoGarage': 0},\n",
    "                             'GarageCond': {'Ex': 5, \n",
    "                                            'Gd': 4, \n",
    "                                            'TA': 3, \n",
    "                                            'Fa': 2,\n",
    "                                            'Po': 1,\n",
    "                                            'NoGarage': 0},\n",
    "                             'KitchenQual': {'Ex': 5, \n",
    "                                            'Gd': 4, \n",
    "                                            'TA': 3, \n",
    "                                            'Fa': 2,\n",
    "                                            'Po': 1},\n",
    "                             'Functional': {'Typ': 0,\n",
    "                                            'Min1': 1,\n",
    "                                            'Min2': 1,\n",
    "                                            'Mod': 2,\n",
    "                                            'Maj1': 3,\n",
    "                                            'Maj2': 4,\n",
    "                                            'Sev': 5,\n",
    "                                            'Sal': 6}                             \n",
    "                            })"
   ]
  },
  {
   "cell_type": "code",
   "execution_count": 25,
   "metadata": {
    "_cell_guid": "a22c83af-1b99-80c5-c9e0-ae3b98fc8277",
    "collapsed": true
   },
   "outputs": [],
   "source": [
    "newer_dwelling = all_data.MSSubClass.replace({20: 1, \n",
    "                                            30: 0, \n",
    "                                            40: 0, \n",
    "                                            45: 0,\n",
    "                                            50: 0, \n",
    "                                            60: 1,\n",
    "                                            70: 0,\n",
    "                                            75: 0,\n",
    "                                            80: 0,\n",
    "                                            85: 0,\n",
    "                                            90: 0,\n",
    "                                           120: 1,\n",
    "                                           150: 0,\n",
    "                                           160: 0,\n",
    "                                           180: 0,\n",
    "                                           190: 0})\n",
    "newer_dwelling.name = 'newer_dwelling'"
   ]
  },
  {
   "cell_type": "code",
   "execution_count": 26,
   "metadata": {
    "_cell_guid": "fcc7f095-ba43-0377-66bc-8ebdfbb18e31",
    "collapsed": true
   },
   "outputs": [],
   "source": [
    "all_data = all_data.replace({'MSSubClass': {20: 'SubClass_20', \n",
    "                                            30: 'SubClass_30', \n",
    "                                            40: 'SubClass_40', \n",
    "                                            45: 'SubClass_45',\n",
    "                                            50: 'SubClass_50', \n",
    "                                            60: 'SubClass_60',\n",
    "                                            70: 'SubClass_70',\n",
    "                                            75: 'SubClass_75',\n",
    "                                            80: 'SubClass_80',\n",
    "                                            85: 'SubClass_85',\n",
    "                                            90: 'SubClass_90',\n",
    "                                           120: 'SubClass_120',\n",
    "                                           150: 'SubClass_150',\n",
    "                                           160: 'SubClass_160',\n",
    "                                           180: 'SubClass_180',\n",
    "                                           190: 'SubClass_190'}})"
   ]
  },
  {
   "cell_type": "code",
   "execution_count": 27,
   "metadata": {
    "_cell_guid": "4245cfd6-86f6-4590-fbf3-3f292f3f0495",
    "collapsed": false
   },
   "outputs": [],
   "source": [
    "# The idea is good quality should rise price, poor quality - reduce price\n",
    "overall_poor_qu = all_data.OverallQual.copy()\n",
    "overall_poor_qu = 5 - overall_poor_qu\n",
    "overall_poor_qu[overall_poor_qu<0] = 0\n",
    "overall_poor_qu.name = 'overall_poor_qu'\n",
    "\n",
    "overall_good_qu = all_data.OverallQual.copy()\n",
    "overall_good_qu = overall_good_qu - 5\n",
    "overall_good_qu[overall_good_qu<0] = 0\n",
    "overall_good_qu.name = 'overall_good_qu'\n",
    "\n",
    "overall_poor_cond = all_data.OverallCond.copy()\n",
    "overall_poor_cond = 5 - overall_poor_cond\n",
    "overall_poor_cond[overall_poor_cond<0] = 0\n",
    "overall_poor_cond.name = 'overall_poor_cond'\n",
    "\n",
    "overall_good_cond = all_data.OverallCond.copy()\n",
    "overall_good_cond = overall_good_cond - 5\n",
    "overall_good_cond[overall_good_cond<0] = 0\n",
    "overall_good_cond.name = 'overall_good_cond'\n",
    "\n",
    "exter_poor_qu = all_data.ExterQual.copy()\n",
    "exter_poor_qu[exter_poor_qu<3] = 1\n",
    "exter_poor_qu[exter_poor_qu>=3] = 0\n",
    "exter_poor_qu.name = 'exter_poor_qu'\n",
    "\n",
    "exter_good_qu = all_data.ExterQual.copy()\n",
    "exter_good_qu[exter_good_qu<=3] = 0\n",
    "exter_good_qu[exter_good_qu>3] = 1\n",
    "exter_good_qu.name = 'exter_good_qu'\n",
    "\n",
    "exter_poor_cond = all_data.ExterCond.copy()\n",
    "exter_poor_cond[exter_poor_cond<3] = 1\n",
    "exter_poor_cond[exter_poor_cond>=3] = 0\n",
    "exter_poor_cond.name = 'exter_poor_cond'\n",
    "\n",
    "exter_good_cond = all_data.ExterCond.copy()\n",
    "exter_good_cond[exter_good_cond<=3] = 0\n",
    "exter_good_cond[exter_good_cond>3] = 1\n",
    "exter_good_cond.name = 'exter_good_cond'\n",
    "\n",
    "bsmt_poor_cond = all_data.BsmtCond.copy()\n",
    "bsmt_poor_cond[bsmt_poor_cond<3] = 1\n",
    "bsmt_poor_cond[bsmt_poor_cond>=3] = 0\n",
    "bsmt_poor_cond.name = 'bsmt_poor_cond'\n",
    "\n",
    "bsmt_good_cond = all_data.BsmtCond.copy()\n",
    "bsmt_good_cond[bsmt_good_cond<=3] = 0\n",
    "bsmt_good_cond[bsmt_good_cond>3] = 1\n",
    "bsmt_good_cond.name = 'bsmt_good_cond'\n",
    "\n",
    "garage_poor_qu = all_data.GarageQual.copy()\n",
    "garage_poor_qu[garage_poor_qu<3] = 1\n",
    "garage_poor_qu[garage_poor_qu>=3] = 0\n",
    "garage_poor_qu.name = 'garage_poor_qu'\n",
    "\n",
    "garage_good_qu = all_data.GarageQual.copy()\n",
    "garage_good_qu[garage_good_qu<=3] = 0\n",
    "garage_good_qu[garage_good_qu>3] = 1\n",
    "garage_good_qu.name = 'garage_good_qu'\n",
    "\n",
    "garage_poor_cond = all_data.GarageCond.copy()\n",
    "garage_poor_cond[garage_poor_cond<3] = 1\n",
    "garage_poor_cond[garage_poor_cond>=3] = 0\n",
    "garage_poor_cond.name = 'garage_poor_cond'\n",
    "\n",
    "garage_good_cond = all_data.GarageCond.copy()\n",
    "garage_good_cond[garage_good_cond<=3] = 0\n",
    "garage_good_cond[garage_good_cond>3] = 1\n",
    "garage_good_cond.name = 'garage_good_cond'\n",
    "\n",
    "kitchen_poor_qu = all_data.KitchenQual.copy()\n",
    "kitchen_poor_qu[kitchen_poor_qu<3] = 1\n",
    "kitchen_poor_qu[kitchen_poor_qu>=3] = 0\n",
    "kitchen_poor_qu.name = 'kitchen_poor_qu'\n",
    "\n",
    "kitchen_good_qu = all_data.KitchenQual.copy()\n",
    "kitchen_good_qu[kitchen_good_qu<=3] = 0\n",
    "kitchen_good_qu[kitchen_good_qu>3] = 1\n",
    "kitchen_good_qu.name = 'kitchen_good_qu'\n",
    "\n",
    "qu_list = pd.concat((overall_poor_qu, overall_good_qu, overall_poor_cond, overall_good_cond, exter_poor_qu,\n",
    "                     exter_good_qu, exter_poor_cond, exter_good_cond, bsmt_poor_cond, bsmt_good_cond, garage_poor_qu,\n",
    "                     garage_good_qu, garage_poor_cond, garage_good_cond, kitchen_poor_qu, kitchen_good_qu), axis=1)\n",
    "\n",
    "\n",
    "\n",
    "bad_heating = all_data.HeatingQC.replace({'Ex': 0, \n",
    "                                          'Gd': 0, \n",
    "                                          'TA': 0, \n",
    "                                          'Fa': 1,\n",
    "                                          'Po': 1})\n",
    "bad_heating.name = 'bad_heating'\n",
    "                                          \n",
    "MasVnrType_Any = all_data.MasVnrType.replace({'BrkCmn': 1,\n",
    "                                              'BrkFace': 1,\n",
    "                                              'CBlock': 1,\n",
    "                                              'Stone': 1,\n",
    "                                              'None': 0})\n",
    "MasVnrType_Any.name = 'MasVnrType_Any'\n",
    "\n",
    "SaleCondition_PriceDown = all_data.SaleCondition.replace({'Abnorml': 1,\n",
    "                                                          'Alloca': 1,\n",
    "                                                          'AdjLand': 1,\n",
    "                                                          'Family': 1,\n",
    "                                                          'Normal': 0,\n",
    "                                                          'Partial': 0})\n",
    "SaleCondition_PriceDown.name = 'SaleCondition_PriceDown'\n",
    "\n",
    "Neighborhood_Good = pd.DataFrame(np.zeros((all_data.shape[0],1)), columns=['Neighborhood_Good'])\n",
    "Neighborhood_Good[all_data.Neighborhood=='NridgHt'] = 1\n",
    "Neighborhood_Good[all_data.Neighborhood=='Crawfor'] = 1\n",
    "Neighborhood_Good[all_data.Neighborhood=='StoneBr'] = 1\n",
    "Neighborhood_Good[all_data.Neighborhood=='Somerst'] = 1\n",
    "Neighborhood_Good[all_data.Neighborhood=='NoRidge'] = 1\n",
    "\n",
    "\n",
    "BsmtFinType1 = all_data.BsmtFinType1.replace({'Unf': 1, \n",
    "                                          'LwQ': 2, \n",
    "                                          'Rec': 3, \n",
    "                                          'BLQ': 4,\n",
    "                                          'ALQ': 5,\n",
    "                                          'GLQ': 6})\n",
    "BsmtFinType1.name = 'BsmtFinType1'\n",
    "\n",
    "\n",
    "BsmtFinType2 = all_data.BsmtFinType2.replace({'Unf': 1, \n",
    "                                          'LwQ': 2, \n",
    "                                          'Rec': 3, \n",
    "                                          'BLQ': 4,\n",
    "                                          'ALQ': 5,\n",
    "                                          'GLQ': 6})\n",
    "BsmtFinType2.name = 'BsmtFinType2'\n",
    "# do smth with BsmtFinType1, BsmtFinType2|"
   ]
  },
  {
   "cell_type": "markdown",
   "metadata": {
    "_cell_guid": "8cbb3844-4bef-bbad-3d78-6f834300d110"
   },
   "source": [
    "I have no idea what to do with Exterior1st, Exterior2nd, RoofMatl, Condition1, Condition2, BldgType. I'll try convert them into some kind of price brackets"
   ]
  },
  {
   "cell_type": "code",
   "execution_count": 28,
   "metadata": {
    "_cell_guid": "f0fdf976-c5bb-fe0b-3ffe-511197bf11b4",
    "collapsed": false
   },
   "outputs": [
    {
     "name": "stdout",
     "output_type": "stream",
     "text": [
      "SVC(C=100, cache_size=200, class_weight=None, coef0=0.0,\n",
      "  decision_function_shape=None, degree=3, gamma='auto', kernel='rbf',\n",
      "  max_iter=-1, probability=False, random_state=None, shrinking=True,\n",
      "  tol=0.001, verbose=False)\n"
     ]
    }
   ],
   "source": [
    "from sklearn.svm import SVC\n",
    "svm = SVC(C=100)\n",
    "# price categories\n",
    "print (svm)\n",
    "pc = pd.Series(np.zeros(train.shape[0]))\n",
    "\n",
    "pc[:] = 'pc1'\n",
    "pc[train.SalePrice >= 150000] = 'pc2'\n",
    "pc[train.SalePrice >= 220000] = 'pc3'\n",
    "columns_for_pc = ['Exterior1st', 'Exterior2nd', 'RoofMatl', 'Condition1', 'Condition2', 'BldgType']\n",
    "X_t = pd.get_dummies(train.loc[:, columns_for_pc], sparse=True)\n",
    "svm.fit(X_t, pc) #Training\n",
    "pc_pred = svm.predict(X_t)"
   ]
  },
  {
   "cell_type": "code",
   "execution_count": 29,
   "metadata": {
    "_cell_guid": "b7ecdeae-937b-a58d-befc-4d2b638e1041",
    "collapsed": false
   },
   "outputs": [],
   "source": [
    "p = train.SalePrice/100000"
   ]
  },
  {
   "cell_type": "code",
   "execution_count": 30,
   "metadata": {
    "_cell_guid": "b444fe09-fd4b-28e9-a08d-6080f8e9ea1d",
    "collapsed": false
   },
   "outputs": [
    {
     "name": "stdout",
     "output_type": "stream",
     "text": [
      "       pc\n",
      "0     2.0\n",
      "1     0.0\n",
      "2     2.0\n",
      "3     0.0\n",
      "4     2.0\n",
      "5     2.0\n",
      "6     2.0\n",
      "7     1.0\n",
      "8     0.0\n",
      "9     0.0\n",
      "10    1.0\n",
      "11    0.0\n",
      "12    0.0\n",
      "13    2.0\n",
      "14    0.0\n",
      "15    0.0\n",
      "16    0.0\n",
      "17    0.0\n",
      "18    1.0\n",
      "19    0.0\n",
      "20    2.0\n",
      "21    0.0\n",
      "22    2.0\n",
      "23    0.0\n",
      "24    1.0\n",
      "25    2.0\n",
      "26    0.0\n",
      "27    2.0\n",
      "28    0.0\n",
      "29    0.0\n",
      "...   ...\n",
      "2889  0.0\n",
      "2890  0.0\n",
      "2891  0.0\n",
      "2892  0.0\n",
      "2893  0.0\n",
      "2894  0.0\n",
      "2895  0.0\n",
      "2896  1.0\n",
      "2897  0.0\n",
      "2898  2.0\n",
      "2899  1.0\n",
      "2900  2.0\n",
      "2901  2.0\n",
      "2902  2.0\n",
      "2903  2.0\n",
      "2904  0.0\n",
      "2905  0.0\n",
      "2906  0.0\n",
      "2907  1.0\n",
      "2908  0.0\n",
      "2909  0.0\n",
      "2910  0.0\n",
      "2911  1.0\n",
      "2912  0.0\n",
      "2913  0.0\n",
      "2914  0.0\n",
      "2915  0.0\n",
      "2916  2.0\n",
      "2917  0.0\n",
      "2918  1.0\n",
      "\n",
      "[2919 rows x 1 columns]\n"
     ]
    }
   ],
   "source": [
    "price_category = pd.DataFrame(np.zeros((all_data.shape[0],1)), columns=['pc'])\n",
    "X_t = pd.get_dummies(all_data.loc[:, columns_for_pc], sparse=True)\n",
    "pc_pred = svm.predict(X_t)\n",
    "price_category[pc_pred=='pc2'] = 1\n",
    "price_category[pc_pred=='pc3'] = 2\n",
    "\n",
    "price_category = price_category.to_sparse()\n",
    "print (price_category)"
   ]
  },
  {
   "cell_type": "code",
   "execution_count": 31,
   "metadata": {
    "_cell_guid": "df571648-bb68-1eed-ad9f-e924911f4dbf",
    "collapsed": false
   },
   "outputs": [
    {
     "data": {
      "text/plain": [
       "Index(['MSSubClass', 'MSZoning', 'LotFrontage', 'LotArea', 'Street', 'Alley',\n",
       "       'LotShape', 'LandContour', 'Utilities', 'LotConfig', 'LandSlope',\n",
       "       'Neighborhood', 'Condition1', 'Condition2', 'BldgType', 'HouseStyle',\n",
       "       'OverallQual', 'OverallCond', 'YearBuilt', 'YearRemodAdd', 'RoofStyle',\n",
       "       'RoofMatl', 'Exterior1st', 'Exterior2nd', 'MasVnrType', 'MasVnrArea',\n",
       "       'ExterQual', 'ExterCond', 'Foundation', 'BsmtQual', 'BsmtCond',\n",
       "       'BsmtExposure', 'BsmtFinType1', 'BsmtFinSF1', 'BsmtFinType2',\n",
       "       'BsmtFinSF2', 'BsmtUnfSF', 'TotalBsmtSF', 'Heating', 'HeatingQC',\n",
       "       'CentralAir', 'Electrical', '1stFlrSF', '2ndFlrSF', 'LowQualFinSF',\n",
       "       'GrLivArea', 'BsmtFullBath', 'BsmtHalfBath', 'FullBath', 'HalfBath',\n",
       "       'BedroomAbvGr', 'KitchenAbvGr', 'KitchenQual', 'TotRmsAbvGrd',\n",
       "       'Functional', 'Fireplaces', 'FireplaceQu', 'GarageType', 'GarageYrBlt',\n",
       "       'GarageFinish', 'GarageCars', 'GarageArea', 'GarageQual', 'GarageCond',\n",
       "       'PavedDrive', 'WoodDeckSF', 'OpenPorchSF', 'EnclosedPorch', '3SsnPorch',\n",
       "       'ScreenPorch', 'PoolArea', 'PoolQC', 'Fence', 'MiscFeature', 'MiscVal',\n",
       "       'MoSold', 'YrSold', 'SaleType', 'SaleCondition'],\n",
       "      dtype='object')"
      ]
     },
     "execution_count": 31,
     "metadata": {},
     "output_type": "execute_result"
    }
   ],
   "source": [
    "# Monthes with the lagest number of deals may be significant\n",
    "season = all_data.MoSold.replace( {1: 0, \n",
    "                                   2: 0, \n",
    "                                   3: 0, \n",
    "                                   4: 1,\n",
    "                                   5: 1, \n",
    "                                   6: 1,\n",
    "                                   7: 1,\n",
    "                                   8: 0,\n",
    "                                   9: 0,\n",
    "                                  10: 0,\n",
    "                                  11: 0,\n",
    "                                  12: 0})\n",
    "season.name = 'season'\n",
    "\n",
    "# Numer month is not significant\n",
    "all_data = all_data.replace({'MoSold': {1: 'Yan', \n",
    "                                        2: 'Feb', \n",
    "                                        3: 'Mar', \n",
    "                                        4: 'Apr',\n",
    "                                        5: 'May', \n",
    "                                        6: 'Jun',\n",
    "                                        7: 'Jul',\n",
    "                                        8: 'Avg',\n",
    "                                        9: 'Sep',\n",
    "                                        10: 'Oct',\n",
    "                                        11: 'Nov',\n",
    "                                        12: 'Dec'}})\n",
    "all_data.columns"
   ]
  },
  {
   "cell_type": "code",
   "execution_count": 32,
   "metadata": {
    "_cell_guid": "7428a0fe-0695-1709-fbee-e57148f7eb39",
    "collapsed": true
   },
   "outputs": [],
   "source": [
    "all_data = all_data.replace({'CentralAir': {'Y': 1, \n",
    "                                            'N': 0}})\n",
    "all_data = all_data.replace({'PavedDrive': {'Y': 1, \n",
    "                                            'P': 0,\n",
    "                                            'N': 0}})"
   ]
  },
  {
   "cell_type": "code",
   "execution_count": 33,
   "metadata": {
    "_cell_guid": "4a4b1ece-a80f-0071-8020-522e9c75fa26",
    "collapsed": true
   },
   "outputs": [],
   "source": [
    "reconstruct = pd.DataFrame(np.zeros((all_data.shape[0],1)), columns=['Reconstruct'])\n",
    "reconstruct[all_data.YrSold < all_data.YearRemodAdd] = 1\n",
    "reconstruct = reconstruct.to_sparse()\n",
    "\n",
    "recon_after_buy = pd.DataFrame(np.zeros((all_data.shape[0],1)), columns=['ReconstructAfterBuy'])\n",
    "recon_after_buy[all_data.YearRemodAdd >= all_data.YrSold] = 1\n",
    "recon_after_buy = recon_after_buy.to_sparse()\n",
    "\n",
    "build_eq_buy = pd.DataFrame(np.zeros((all_data.shape[0],1)), columns=['Build.eq.Buy'])\n",
    "build_eq_buy[all_data.YearBuilt >= all_data.YrSold] = 1\n",
    "build_eq_buy = build_eq_buy.to_sparse()"
   ]
  },
  {
   "cell_type": "code",
   "execution_count": 34,
   "metadata": {
    "_cell_guid": "4aac1977-9a4c-0dfe-8abc-737cb0c945cb",
    "collapsed": true
   },
   "outputs": [],
   "source": [
    "# I hope this will help\n",
    "all_data.YrSold = 2010 - all_data.YrSold"
   ]
  },
  {
   "cell_type": "code",
   "execution_count": 35,
   "metadata": {
    "_cell_guid": "54ee71df-fdcd-00df-6adf-f76453daacdf",
    "collapsed": true
   },
   "outputs": [],
   "source": [
    "year_map = pd.concat(pd.Series('YearGroup' + str(i+1), index=range(1871+i*20,1891+i*20)) for i in range(0, 7))\n",
    "all_data.GarageYrBlt = all_data.GarageYrBlt.map(year_map)\n",
    "all_data.loc[all_data['GarageYrBlt'].isnull(), 'GarageYrBlt'] = 'NoGarage'"
   ]
  },
  {
   "cell_type": "code",
   "execution_count": 36,
   "metadata": {
    "_cell_guid": "060e746d-16fb-1d41-468a-584b1c5b1cb3",
    "collapsed": true
   },
   "outputs": [],
   "source": [
    "all_data.YearBuilt = all_data.YearBuilt.map(year_map)\n",
    "all_data.YearRemodAdd = all_data.YearRemodAdd.map(year_map)"
   ]
  },
  {
   "cell_type": "markdown",
   "metadata": {
    "_cell_guid": "6ebb4194-80fb-a91d-e153-cd38688b4a1d"
   },
   "source": [
    "Scaling numeric data"
   ]
  },
  {
   "cell_type": "code",
   "execution_count": 37,
   "metadata": {
    "_cell_guid": "2b153f12-8081-ebe4-e503-3c55c8350618",
    "collapsed": true
   },
   "outputs": [],
   "source": [
    "numeric_feats = all_data.dtypes[all_data.dtypes != \"object\"].index\n",
    "\n",
    "t = all_data[numeric_feats].quantile(.95)\n",
    "use_max_scater = t[t == 0].index\n",
    "use_95_scater = t[t != 0].index\n",
    "all_data[use_max_scater] = all_data[use_max_scater]/all_data[use_max_scater].max()\n",
    "all_data[use_95_scater] = all_data[use_95_scater]/all_data[use_95_scater].quantile(.95)"
   ]
  },
  {
   "cell_type": "code",
   "execution_count": 38,
   "metadata": {
    "_cell_guid": "89aace43-ac8c-3c7d-eaf7-c6d85adec796",
    "collapsed": true
   },
   "outputs": [],
   "source": [
    "t = ['LotFrontage', 'LotArea', 'MasVnrArea', 'BsmtFinSF1', 'BsmtFinSF2', 'BsmtUnfSF', 'TotalBsmtSF', \n",
    "     '1stFlrSF', '2ndFlrSF', 'LowQualFinSF', 'GrLivArea', 'GarageArea', 'WoodDeckSF', 'OpenPorchSF', \n",
    "     'EnclosedPorch', '3SsnPorch', 'ScreenPorch', 'PoolArea', 'MiscVal']\n",
    "\n",
    "all_data.loc[:, t] = np.log1p(all_data.loc[:, t])"
   ]
  },
  {
   "cell_type": "markdown",
   "metadata": {
    "_cell_guid": "063dfaf9-7f49-5c62-655b-8c35d5d2f19e"
   },
   "source": [
    "## Preparing for sklearn##"
   ]
  },
  {
   "cell_type": "code",
   "execution_count": 39,
   "metadata": {
    "_cell_guid": "83da8155-1385-dce5-9e8b-4630ef12ff61",
    "collapsed": true
   },
   "outputs": [],
   "source": [
    "# all classes in sklearn requires numeric data only\n",
    "# transform categorical variable into binary\n",
    "X = pd.get_dummies(all_data, sparse=True)\n",
    "X = X.fillna(0)"
   ]
  },
  {
   "cell_type": "code",
   "execution_count": 40,
   "metadata": {
    "_cell_guid": "a64a33b1-9cd0-986a-bc12-76b30a69f912",
    "collapsed": true
   },
   "outputs": [],
   "source": [
    "X = X.drop('RoofMatl_ClyTile', axis=1) # only one is not zero\n",
    "X = X.drop('Condition2_PosN', axis=1) # only two is not zero\n",
    "X = X.drop('MSZoning_C (all)', axis=1)\n",
    "X = X.drop('MSSubClass_SubClass_160', axis=1)\n",
    "# this features definitely couse overfitting"
   ]
  },
  {
   "cell_type": "code",
   "execution_count": 41,
   "metadata": {
    "_cell_guid": "4c3e142c-018d-484d-1b49-997d671a8b12",
    "collapsed": true
   },
   "outputs": [],
   "source": [
    "# add new features\n",
    "X = pd.concat((X, newer_dwelling, season, reconstruct, recon_after_buy,\n",
    "               qu_list, bad_heating, MasVnrType_Any, price_category, build_eq_buy), axis=1)"
   ]
  },
  {
   "cell_type": "markdown",
   "metadata": {
    "_cell_guid": "a3d8ee03-439b-1fe1-0170-2948e08f2fb2"
   },
   "source": [
    "Next step is guess what new feachers we need to intoduse to make the model better. I'll make a lot of feachers and model wiil choose"
   ]
  },
  {
   "cell_type": "code",
   "execution_count": 42,
   "metadata": {
    "_cell_guid": "ab19a761-2876-11c8-3fdb-9fbe703872e3",
    "collapsed": true
   },
   "outputs": [],
   "source": [
    "from itertools import product, chain\n",
    "\n",
    "def poly(X):\n",
    "    areas = ['LotArea', 'TotalBsmtSF', 'GrLivArea', 'GarageArea', 'BsmtUnfSF']\n",
    "    # t = [s for s in X.axes[1].get_values() if s not in areas]\n",
    "    t = chain(qu_list.axes[1].get_values(), \n",
    "              ['OverallQual', 'OverallCond', 'ExterQual', 'ExterCond', 'BsmtCond', 'GarageQual', 'GarageCond',\n",
    "               'KitchenQual', 'HeatingQC', 'bad_heating', 'MasVnrType_Any', 'SaleCondition_PriceDown', 'Reconstruct',\n",
    "               'ReconstructAfterBuy', 'Build.eq.Buy'])\n",
    "    for a, t in product(areas, t):\n",
    "        x = X.loc[:, [a, t]].prod(1)\n",
    "        x.name = a + '_' + t\n",
    "        yield x\n",
    "\n",
    "XP = pd.concat(poly(X), axis=1)\n",
    "X = pd.concat((X, XP), axis=1)"
   ]
  },
  {
   "cell_type": "code",
   "execution_count": 43,
   "metadata": {
    "_cell_guid": "cbdd91b4-6ea3-d1bd-3f13-8b92f9265048",
    "collapsed": true
   },
   "outputs": [],
   "source": [
    "X_train = X[:train.shape[0]]\n",
    "X_test = X[train.shape[0]:]"
   ]
  },
  {
   "cell_type": "code",
   "execution_count": 44,
   "metadata": {
    "_cell_guid": "b4560804-7a54-6f1f-6781-1b173b55e5cd",
    "collapsed": false
   },
   "outputs": [
    {
     "data": {
      "text/plain": [
       "(1460, 466)"
      ]
     },
     "execution_count": 44,
     "metadata": {},
     "output_type": "execute_result"
    }
   ],
   "source": [
    "# the model has become really big\n",
    "X_train.shape"
   ]
  },
  {
   "cell_type": "code",
   "execution_count": 45,
   "metadata": {
    "_cell_guid": "b9faea74-013d-0813-9715-44d11b6665ff",
    "collapsed": true
   },
   "outputs": [],
   "source": [
    "y = np.log1p(train.SalePrice)"
   ]
  },
  {
   "cell_type": "code",
   "execution_count": 46,
   "metadata": {
    "_cell_guid": "4be5d5c6-91c1-3f5f-c548-82014a276284",
    "collapsed": false
   },
   "outputs": [
    {
     "data": {
      "text/plain": [
       "<matplotlib.collections.PathCollection at 0x7f59c1f84860>"
      ]
     },
     "execution_count": 46,
     "metadata": {},
     "output_type": "execute_result"
    },
    {
     "name": "stderr",
     "output_type": "stream",
     "text": [
      "/usr/lib/python3/dist-packages/matplotlib/collections.py:549: FutureWarning: elementwise comparison failed; returning scalar instead, but in the future will perform elementwise comparison\n",
      "  if self._edgecolors == 'face':\n"
     ]
    },
    {
     "data": {
      "image/png": "[encoded data removed]",
      "text/plain": [
       "<matplotlib.figure.Figure at 0x7f59c24b8438>"
      ]
     },
     "metadata": {},
     "output_type": "display_data"
    }
   ],
   "source": [
    "# this come from iterational model improvment. I was trying to understand why the model gives to the two points much better price\n",
    "x_plot = X_train.loc[X_train['SaleCondition_Partial']==1, 'GrLivArea']\n",
    "y_plot = y[X_train['SaleCondition_Partial']==1]\n",
    "plt.scatter(x_plot, y_plot)"
   ]
  },
  {
   "cell_type": "code",
   "execution_count": 47,
   "metadata": {
    "_cell_guid": "7b9a32b8-a62d-08c0-523c-d70b8dd23140",
    "collapsed": true
   },
   "outputs": [],
   "source": [
    "outliers_id = np.array([524, 1299])\n",
    "\n",
    "outliers_id = outliers_id - 1 # id starts with 1, index starts with 0\n",
    "X_train = X_train.drop(outliers_id)\n",
    "y = y.drop(outliers_id)\n",
    "# There are difinetly more outliers"
   ]
  },
  {
   "cell_type": "code",
   "execution_count": 48,
   "metadata": {
    "_cell_guid": "1d04b984-f245-56ed-7fd0-5aff233d4e2e",
    "collapsed": false
   },
   "outputs": [
    {
     "name": "stderr",
     "output_type": "stream",
     "text": [
      "/usr/local/lib/python3.4/dist-packages/sklearn/cross_validation.py:44: DeprecationWarning: This module was deprecated in version 0.18 in favor of the model_selection module into which all the refactored classes and functions are moved. Also note that the interface of the new CV iterators are different from that of this module. This module will be removed in 0.20.\n",
      "  \"This module will be removed in 0.20.\", DeprecationWarning)\n"
     ]
    }
   ],
   "source": [
    "from sklearn.cross_validation import cross_val_score\n",
    "from sklearn.metrics import make_scorer, mean_squared_error\n",
    "\n",
    "def rmsle(y, y_pred):\n",
    "     return np.sqrt((( (np.log1p(y_pred*price_scale)- np.log1p(y*price_scale)) )**2).mean())\n",
    "\n",
    "# scorer = make_scorer(rmsle, False)\n",
    "scorer = make_scorer(mean_squared_error, False)\n",
    "\n",
    "def rmse_cv(model, X, y):\n",
    "     return (cross_val_score(model, X, y, scoring=scorer)).mean()"
   ]
  },
  {
   "cell_type": "markdown",
   "metadata": {
    "_cell_guid": "66d40c8e-cf67-3810-965a-814f140e69c3"
   },
   "source": [
    "## Learning ##\n",
    "The model is sparse with n_features > n_samples. Likely it's linear.  It is classic case to use the Lasso model"
   ]
  },
  {
   "cell_type": "code",
   "execution_count": 49,
   "metadata": {
    "_cell_guid": "af3513a4-b20d-2ed7-705c-c9a57d9d042a",
    "collapsed": false
   },
   "outputs": [
    {
     "data": {
      "text/plain": [
       "<matplotlib.axes.AxesSubplot at 0x7f59c1e78e10>"
      ]
     },
     "execution_count": 49,
     "metadata": {},
     "output_type": "execute_result"
    },
    {
     "data": {
      "image/png": "[encoded data removed]",
      "text/plain": [
       "<matplotlib.figure.Figure at 0x7f59c1f5ab38>"
      ]
     },
     "metadata": {},
     "output_type": "display_data"
    }
   ],
   "source": [
    "alphas = [1e-4, 5e-4, 1e-3, 5e-3]\n",
    "cv_lasso = [rmse_cv(Lasso(alpha = alpha, max_iter=50000), X_train, y) for alpha in alphas]\n",
    "pd.Series(cv_lasso, index = alphas).plot()"
   ]
  },
  {
   "cell_type": "markdown",
   "metadata": {
    "_cell_guid": "c1e2a969-b462-9393-5be4-09d042567cef"
   },
   "source": [
    "Choose alpha with better score"
   ]
  },
  {
   "cell_type": "code",
   "execution_count": 50,
   "metadata": {
    "_cell_guid": "93eddc21-2573-06ac-7487-d3ad7180941b",
    "collapsed": true
   },
   "outputs": [],
   "source": [
    "model_lasso = Lasso(alpha=5e-4, max_iter=50000).fit(X_train, y)"
   ]
  },
  {
   "cell_type": "markdown",
   "metadata": {
    "_cell_guid": "27a3f809-5300-758d-f379-0c9ccaf988b5"
   },
   "source": [
    "## Getting results##"
   ]
  },
  {
   "cell_type": "code",
   "execution_count": 51,
   "metadata": {
    "_cell_guid": "09ab72bf-82c6-f2b1-3818-668fef834c62",
    "collapsed": false
   },
   "outputs": [
    {
     "data": {
      "text/plain": [
       "<matplotlib.text.Text at 0x7f59c2481a90>"
      ]
     },
     "execution_count": 51,
     "metadata": {},
     "output_type": "execute_result"
    },
    {
     "data": {
      "image/png": "[encoded data removed]",
      "text/plain": [
       "<matplotlib.figure.Figure at 0x7f59c1e684a8>"
      ]
     },
     "metadata": {},
     "output_type": "display_data"
    }
   ],
   "source": [
    "coef = pd.Series(model_lasso.coef_, index = X_train.columns).sort_values()\n",
    "imp_coef = pd.concat([coef.head(10), coef.tail(10)])\n",
    "imp_coef.plot(kind = \"barh\")\n",
    "plt.title(\"Coefficients in the Model\")"
   ]
  },
  {
   "cell_type": "markdown",
   "metadata": {
    "_cell_guid": "9aefbc31-64a7-9461-8ba0-7a72841589c0"
   },
   "source": [
    "Some features still look suspicious. May be, we need to exlude them like RoofMatl_ClyTile and others"
   ]
  },
  {
   "cell_type": "code",
   "execution_count": 52,
   "metadata": {
    "_cell_guid": "f036759b-2fd7-80e5-ecd1-f3facb725451",
    "collapsed": false
   },
   "outputs": [
    {
     "data": {
      "text/plain": [
       "[<matplotlib.lines.Line2D at 0x7f59c1dc8710>]"
      ]
     },
     "execution_count": 52,
     "metadata": {},
     "output_type": "execute_result"
    },
    {
     "name": "stderr",
     "output_type": "stream",
     "text": [
      "/usr/lib/python3/dist-packages/matplotlib/collections.py:549: FutureWarning: elementwise comparison failed; returning scalar instead, but in the future will perform elementwise comparison\n",
      "  if self._edgecolors == 'face':\n"
     ]
    },
    {
     "data": {
      "image/png": "[encoded data removed]",
      "text/plain": [
       "<matplotlib.figure.Figure at 0x7f59c1dc8748>"
      ]
     },
     "metadata": {},
     "output_type": "display_data"
    }
   ],
   "source": [
    "# This is a good way to see how model predict data\n",
    "p_pred = np.expm1(model_lasso.predict(X_train))\n",
    "plt.scatter(p_pred, np.expm1(y))\n",
    "plt.plot([min(p_pred),max(p_pred)], [min(p_pred),max(p_pred)], c=\"red\")"
   ]
  },
  {
   "cell_type": "markdown",
   "metadata": {
    "_cell_guid": "ca10ffb3-cc8d-b9a5-dd28-5cdeafd238aa"
   },
   "source": [
    "Some point are far from the red line. May be they are outliers like the 524th and the 1299th"
   ]
  },
  {
   "cell_type": "code",
   "execution_count": 53,
   "metadata": {
    "_cell_guid": "6772895c-191f-98dd-b99c-f574a68ebe0c",
    "collapsed": true
   },
   "outputs": [],
   "source": [
    "# save to file to make a submission\n",
    "p = np.expm1(model_lasso.predict(X_test))\n",
    "solution = pd.DataFrame({\"id\":test.Id, \"SalePrice\":p}, columns=['id', 'SalePrice'])\n",
    "solution.to_csv(\"lasso_4Oct1.csv\", index = False)"
   ]
  },
  {
   "cell_type": "markdown",
   "metadata": {
    "_cell_guid": "f05a8111-558e-3d8e-0b91-9febf6e45696"
   },
   "source": [
    "## Model improvement##\n",
    "With various model tunnings I've got 0.11720 in public leaderboard. Ways of improvement are find some more outliers and exlude (or include) features."
   ]
  }
 ],
 "metadata": {
  "_change_revision": 189,
  "_is_fork": false,
  "kernelspec": {
   "display_name": "Python 3",
   "language": "python",
   "name": "python3"
  },
  "language_info": {
   "codemirror_mode": {
    "name": "ipython",
    "version": 3
   },
   "file_extension": ".py",
   "mimetype": "text/x-python",
   "name": "python",
   "nbconvert_exporter": "python",
   "pygments_lexer": "ipython3",
   "version": "3.4.3"
  }
 },
 "nbformat": 4,
 "nbformat_minor": 0
}
