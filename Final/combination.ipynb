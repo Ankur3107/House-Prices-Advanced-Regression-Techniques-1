{
 "cells": [
  {
   "cell_type": "code",
   "execution_count": 19,
   "metadata": {
    "_cell_guid": "be041953-dbc2-6885-e950-a530798026ef",
    "collapsed": false
   },
   "outputs": [],
   "source": [
    "import pandas as pd\n",
    "import sklearn as sc\n",
    "import numpy as np\n",
    "import matplotlib as mp\n",
    "from scipy.stats import skew\n",
    "import csv\n",
    "import math\n",
    "from sklearn import linear_model\n",
    "import xgboost as xgb\n",
    "\n",
    "from sklearn.linear_model import Ridge,RidgeCV,ElasticNet,LassoCV,LassoLarsCV\n",
    "from sklearn.cross_validation import cross_val_score\n",
    "from sklearn.ensemble import RandomForestRegressor as rfr\n",
    "\n",
    "data_train=[]\n",
    "data_test=[]\n",
    "data_final=[]\n",
    "price=[]\n",
    "\n",
    "\n",
    "def rmse_cv(model):\n",
    "    rmse= np.sqrt(-cross_val_score(model, data_train, price, scoring=\"neg_mean_squared_error\", cv = 5))\n",
    "    return(rmse)\n",
    "\n",
    "test=pd.read_csv('../input/test.csv')\t\n",
    "train=pd.read_csv('../input/train.csv')\n",
    "\n",
    "\n",
    "data_final = pd.concat((train.loc[:,'MSSubClass':'SaleCondition'],\n",
    "                      test.loc[:,'MSSubClass':'SaleCondition']))\n",
    "\n",
    "train[\"SalePrice\"] = np.log1p(train[\"SalePrice\"])\n",
    "\n",
    "numeric_feats = data_final.dtypes[data_final.dtypes != \"object\"].index\n",
    "\n",
    "skewed_feats = train[numeric_feats].apply(lambda x: skew(x.dropna())) #compute skewness\n",
    "skewed_feats = skewed_feats[skewed_feats > 0.75]\n",
    "skewed_feats = skewed_feats.index\n",
    "data_final[skewed_feats] = np.log1p(data_final[skewed_feats])\n",
    "\n",
    "\n",
    "data_final = pd.get_dummies(data_final)\n",
    "\n",
    "data_final = data_final.fillna(data_final[:train.shape[0]].mean())\n",
    "\n",
    "data_train = data_final[:train.shape[0]]\n",
    "data_test = data_final[train.shape[0]:]\n",
    "\n",
    "price = train.SalePrice\n"
   ]
  },
  {
   "cell_type": "code",
   "execution_count": 62,
   "metadata": {
    "collapsed": false
   },
   "outputs": [],
   "source": [
    "rf_model=rfr(n_estimators=100)\n",
    "rf_model.fit(data_train,price)\n",
    "\n",
    "rmse1=np.sqrt(-cross_val_score(rf_model,data_train,price,scoring=\"neg_mean_squared_error\",cv=5))\n",
    "\n",
    "lasso_model = LassoCV(alphas = [1, 0.1, 0.001, 0.0005, 5e-4]).fit(data_train, price)\n",
    "rmse2=rmse_cv(lasso_model)"
   ]
  },
  {
   "cell_type": "code",
   "execution_count": 61,
   "metadata": {
    "collapsed": false
   },
   "outputs": [],
   "source": [
    "dtrain = xgb.DMatrix(data_train, label = price)\n",
    "dtest = xgb.DMatrix(data_test)\n",
    "\n",
    "xgb_model=xgb.XGBRegressor(colsample_bytree=0.55,\n",
    "                 gamma=0.04,  \n",
    "                 learning_rate=0.05,\n",
    "                 max_depth=20,\n",
    "                 min_child_weight=1.5,\n",
    "                 n_estimators=300,                                                                    \n",
    "                 reg_alpha=0.65,\n",
    "                 reg_lambda=0.45,\n",
    "                 subsample=0.75,\n",
    "                seed=500)\n",
    "\n",
    "\n",
    "                           \n",
    "xgb_model.fit(data_train, price)\n",
    "rf_preds = np.expm1(rf_model.predict(data_test))\n",
    "lasso_preds = np.expm1(lasso_model.predict(data_test))\n",
    "xgb_preds=np.expm1(xgb_model.predict(data_test))\n",
    "\n",
    "final_result=0.7*lasso_preds+0.25*xgb_preds+0.05*rf_preds\n",
    "\n",
    "solution = pd.DataFrame({\"id\":test.Id, \"SalePrice\":final_result}, columns=['id', 'SalePrice'])\n",
    "solution.to_csv(\"comb2.csv\", index = False)"
   ]
  },
  {
   "cell_type": "code",
   "execution_count": null,
   "metadata": {
    "collapsed": true
   },
   "outputs": [],
   "source": []
  }
 ],
 "metadata": {
  "_change_revision": 12,
  "_is_fork": false,
  "kernelspec": {
   "display_name": "Python 3",
   "language": "python",
   "name": "python3"
  },
  "language_info": {
   "codemirror_mode": {
    "name": "ipython",
    "version": 3
   },
   "file_extension": ".py",
   "mimetype": "text/x-python",
   "name": "python",
   "nbconvert_exporter": "python",
   "pygments_lexer": "ipython3",
   "version": "3.4.3"
  }
 },
 "nbformat": 4,
 "nbformat_minor": 0
}
