{
 "cells": [
  {
   "cell_type": "code",
   "execution_count": 86,
   "metadata": {
    "_cell_guid": "0d706811-b70c-aeab-a78b-3c7abd9978d3",
    "collapsed": false
   },
   "outputs": [],
   "source": [
    "import pandas as pd\n",
    "import numpy as np\n",
    "import seaborn as sns\n",
    "import matplotlib\n",
    "import matplotlib.pyplot as plt\n",
    "from scipy.stats import skew\n",
    "\n",
    "%config InlineBackend.figure_format = 'png'"
   ]
  },
  {
   "cell_type": "code",
   "execution_count": 87,
   "metadata": {
    "_cell_guid": "603292c1-44b7-d72a-5468-e6782f311603",
    "collapsed": false
   },
   "outputs": [],
   "source": [
    "train = pd.read_csv(\"train.csv\")\n",
    "test = pd.read_csv(\"test.csv\")\n"
   ]
  },
  {
   "cell_type": "code",
   "execution_count": 88,
   "metadata": {
    "_cell_guid": "cb2d88d7-7f76-4b04-d28b-d2c315ae4346",
    "collapsed": false
   },
   "outputs": [],
   "source": [
    "all_data = pd.concat((train.loc[:,'MSSubClass':'SaleCondition'],\n",
    "                      test.loc[:,'MSSubClass':'SaleCondition']))\n"
   ]
  },
  {
   "cell_type": "code",
   "execution_count": 89,
   "metadata": {
    "_cell_guid": "4ed54771-95c4-00e7-b2cd-569d17862878",
    "collapsed": false
   },
   "outputs": [],
   "source": [
    "#log transform the target:\n",
    "train[\"SalePrice\"] = np.log1p(train[\"SalePrice\"])\n",
    "\n",
    "#log transform skewed numeric features:\n",
    "numeric_feats = all_data.dtypes[all_data.dtypes != \"object\"].index\n",
    "\n",
    "skewed_feats = train[numeric_feats].apply(lambda x: skew(x.dropna())) #compute skewness\n",
    "skewed_feats = skewed_feats[skewed_feats > 0.75]\n",
    "skewed_feats = skewed_feats.index\n",
    "\n",
    "all_data[skewed_feats] = np.log1p(all_data[skewed_feats])"
   ]
  },
  {
   "cell_type": "code",
   "execution_count": 90,
   "metadata": {
    "_cell_guid": "3854ab12-a4f3-4c88-fe6e-1fee08e18af2",
    "collapsed": false
   },
   "outputs": [],
   "source": [
    "all_data = pd.get_dummies(all_data)"
   ]
  },
  {
   "cell_type": "code",
   "execution_count": 91,
   "metadata": {
    "_cell_guid": "5d417300-0deb-3353-cabf-95f75af62678",
    "collapsed": true
   },
   "outputs": [],
   "source": [
    "#filling NA's with the mean of the column:\n",
    "all_data = all_data.fillna(all_data[:train.shape[0]].mean())"
   ]
  },
  {
   "cell_type": "code",
   "execution_count": 92,
   "metadata": {
    "_cell_guid": "fe687685-cdac-0a89-4d71-af2d11d87a81",
    "collapsed": true
   },
   "outputs": [],
   "source": [
    "#creating matrices for sklearn:\n",
    "X_train = all_data[:train.shape[0]]\n",
    "X_test = all_data[train.shape[0]:]\n",
    "y = train.SalePrice"
   ]
  },
  {
   "cell_type": "code",
   "execution_count": 93,
   "metadata": {
    "_cell_guid": "82886739-eee6-5d7a-4be9-e1fe6ac059f1",
    "collapsed": true
   },
   "outputs": [],
   "source": [
    "from sklearn.linear_model import Ridge, RidgeCV, ElasticNet, LassoCV, LassoLarsCV\n",
    "from sklearn.model_selection import cross_val_score\n",
    "\n",
    "def rmse_cv(model):\n",
    "    rmse= np.sqrt(-cross_val_score(model, X_train, y, scoring=\"neg_mean_squared_error\", cv = 5))\n",
    "    return(rmse)"
   ]
  },
  {
   "cell_type": "code",
   "execution_count": 94,
   "metadata": {
    "_cell_guid": "8204520c-a595-2ad2-4685-0b84cc662b84",
    "collapsed": true
   },
   "outputs": [],
   "source": [
    "model_lasso = LassoCV(alphas = [1, 0.1, 0.001, 0.0005, 5e-4]).fit(X_train, y)\n",
    "lasso_preds = np.expm1(model_lasso.predict(X_test))"
   ]
  },
  {
   "cell_type": "code",
   "execution_count": 95,
   "metadata": {
    "_cell_guid": "ab95ec6a-a45c-af85-7677-bfc540802427",
    "collapsed": false
   },
   "outputs": [],
   "source": [
    "elastic = ElasticNet(alpha=0.0005, l1_ratio=0.9)\n",
    "elastic.fit(X_train, y)\n",
    "elas_preds = np.expm1(elastic.predict(X_test))"
   ]
  },
  {
   "cell_type": "code",
   "execution_count": 96,
   "metadata": {
    "collapsed": false,
    "scrolled": true
   },
   "outputs": [
    {
     "name": "stdout",
     "output_type": "stream",
     "text": [
      "XGBoost params. ETA: 0.2, MAX_DEPTH: 8, SUBSAMPLE: 0.8, COLSAMPLE_BY_TREE: 0.8\n",
      "[0]\ttrain-rmse:9.23086\n",
      "Will train until train-rmse hasn't improved in 10 rounds.\n",
      "[1]\ttrain-rmse:7.3908\n",
      "[2]\ttrain-rmse:5.9189\n",
      "[3]\ttrain-rmse:4.74021\n",
      "[4]\ttrain-rmse:3.79763\n",
      "[5]\ttrain-rmse:3.0428\n",
      "[6]\ttrain-rmse:2.4399\n",
      "[7]\ttrain-rmse:1.95902\n",
      "[8]\ttrain-rmse:1.57274\n",
      "[9]\ttrain-rmse:1.26409\n",
      "[10]\ttrain-rmse:1.01763\n",
      "[11]\ttrain-rmse:0.820866\n",
      "[12]\ttrain-rmse:0.663372\n",
      "[13]\ttrain-rmse:0.537915\n",
      "[14]\ttrain-rmse:0.437979\n",
      "[15]\ttrain-rmse:0.358703\n",
      "[16]\ttrain-rmse:0.295242\n",
      "[17]\ttrain-rmse:0.244099\n",
      "[18]\ttrain-rmse:0.203533\n",
      "[19]\ttrain-rmse:0.171034\n",
      "[20]\ttrain-rmse:0.144659\n",
      "[21]\ttrain-rmse:0.12465\n",
      "[22]\ttrain-rmse:0.108988\n",
      "[23]\ttrain-rmse:0.096007\n",
      "[24]\ttrain-rmse:0.087014\n",
      "[25]\ttrain-rmse:0.079559\n",
      "[26]\ttrain-rmse:0.073485\n",
      "[27]\ttrain-rmse:0.06854\n",
      "[28]\ttrain-rmse:0.064621\n",
      "[29]\ttrain-rmse:0.061588\n",
      "[30]\ttrain-rmse:0.058223\n",
      "[31]\ttrain-rmse:0.056175\n",
      "[32]\ttrain-rmse:0.054576\n",
      "[33]\ttrain-rmse:0.052084\n",
      "[34]\ttrain-rmse:0.050064\n",
      "[35]\ttrain-rmse:0.048642\n",
      "[36]\ttrain-rmse:0.047164\n",
      "[37]\ttrain-rmse:0.046014\n",
      "[38]\ttrain-rmse:0.043742\n",
      "[39]\ttrain-rmse:0.041773\n",
      "[40]\ttrain-rmse:0.040878\n",
      "[41]\ttrain-rmse:0.038731\n",
      "[42]\ttrain-rmse:0.037189\n",
      "[43]\ttrain-rmse:0.035805\n",
      "[44]\ttrain-rmse:0.034824\n",
      "[45]\ttrain-rmse:0.03344\n",
      "[46]\ttrain-rmse:0.032814\n",
      "[47]\ttrain-rmse:0.031549\n",
      "[48]\ttrain-rmse:0.030419\n",
      "[49]\ttrain-rmse:0.029781\n",
      "[50]\ttrain-rmse:0.028782\n",
      "[51]\ttrain-rmse:0.027879\n",
      "[52]\ttrain-rmse:0.026727\n",
      "[53]\ttrain-rmse:0.02591\n",
      "[54]\ttrain-rmse:0.024734\n",
      "[55]\ttrain-rmse:0.02369\n",
      "[56]\ttrain-rmse:0.022808\n",
      "[57]\ttrain-rmse:0.02197\n",
      "[58]\ttrain-rmse:0.021416\n",
      "[59]\ttrain-rmse:0.020528\n",
      "[60]\ttrain-rmse:0.019872\n",
      "[61]\ttrain-rmse:0.019155\n",
      "[62]\ttrain-rmse:0.018762\n",
      "[63]\ttrain-rmse:0.017984\n",
      "[64]\ttrain-rmse:0.017584\n",
      "[65]\ttrain-rmse:0.017274\n",
      "[66]\ttrain-rmse:0.017096\n",
      "[67]\ttrain-rmse:0.01656\n",
      "[68]\ttrain-rmse:0.016136\n",
      "[69]\ttrain-rmse:0.01569\n",
      "[70]\ttrain-rmse:0.015367\n",
      "[71]\ttrain-rmse:0.015175\n",
      "[72]\ttrain-rmse:0.014796\n",
      "[73]\ttrain-rmse:0.014375\n",
      "[74]\ttrain-rmse:0.013946\n",
      "[75]\ttrain-rmse:0.013645\n",
      "[76]\ttrain-rmse:0.013284\n",
      "[77]\ttrain-rmse:0.013048\n",
      "[78]\ttrain-rmse:0.012819\n",
      "[79]\ttrain-rmse:0.012117\n",
      "[80]\ttrain-rmse:0.012041\n",
      "[81]\ttrain-rmse:0.011453\n",
      "[82]\ttrain-rmse:0.010903\n",
      "[83]\ttrain-rmse:0.010679\n",
      "[84]\ttrain-rmse:0.010332\n",
      "[85]\ttrain-rmse:0.009989\n",
      "[86]\ttrain-rmse:0.009753\n",
      "[87]\ttrain-rmse:0.009423\n",
      "[88]\ttrain-rmse:0.009182\n",
      "[89]\ttrain-rmse:0.008879\n",
      "[90]\ttrain-rmse:0.00859\n",
      "[91]\ttrain-rmse:0.008321\n",
      "[92]\ttrain-rmse:0.00802\n",
      "[93]\ttrain-rmse:0.007867\n",
      "[94]\ttrain-rmse:0.007563\n",
      "[95]\ttrain-rmse:0.007467\n",
      "[96]\ttrain-rmse:0.007354\n",
      "[97]\ttrain-rmse:0.007137\n",
      "[98]\ttrain-rmse:0.006889\n",
      "[99]\ttrain-rmse:0.006618\n",
      "[100]\ttrain-rmse:0.006434\n",
      "[101]\ttrain-rmse:0.006292\n",
      "[102]\ttrain-rmse:0.006157\n",
      "[103]\ttrain-rmse:0.00601\n",
      "[104]\ttrain-rmse:0.005918\n",
      "[105]\ttrain-rmse:0.005799\n",
      "[106]\ttrain-rmse:0.005627\n",
      "[107]\ttrain-rmse:0.005423\n",
      "[108]\ttrain-rmse:0.005342\n",
      "[109]\ttrain-rmse:0.005199\n",
      "[110]\ttrain-rmse:0.004988\n",
      "[111]\ttrain-rmse:0.004891\n",
      "[112]\ttrain-rmse:0.004724\n",
      "[113]\ttrain-rmse:0.004564\n",
      "[114]\ttrain-rmse:0.004481\n",
      "[115]\ttrain-rmse:0.004302\n",
      "[116]\ttrain-rmse:0.004193\n",
      "[117]\ttrain-rmse:0.004073\n",
      "[118]\ttrain-rmse:0.003991\n",
      "[119]\ttrain-rmse:0.003865\n",
      "[120]\ttrain-rmse:0.00377\n",
      "[121]\ttrain-rmse:0.003711\n",
      "[122]\ttrain-rmse:0.003653\n",
      "[123]\ttrain-rmse:0.0036\n",
      "[124]\ttrain-rmse:0.003546\n",
      "[125]\ttrain-rmse:0.003479\n",
      "[126]\ttrain-rmse:0.003406\n",
      "[127]\ttrain-rmse:0.003338\n",
      "[128]\ttrain-rmse:0.003185\n",
      "[129]\ttrain-rmse:0.003088\n",
      "[130]\ttrain-rmse:0.003007\n",
      "[131]\ttrain-rmse:0.002925\n",
      "[132]\ttrain-rmse:0.00288\n",
      "[133]\ttrain-rmse:0.002836\n",
      "[134]\ttrain-rmse:0.002743\n",
      "[135]\ttrain-rmse:0.002634\n",
      "[136]\ttrain-rmse:0.00253\n",
      "[137]\ttrain-rmse:0.00243\n",
      "[138]\ttrain-rmse:0.002344\n",
      "[139]\ttrain-rmse:0.002289\n",
      "[140]\ttrain-rmse:0.002194\n",
      "[141]\ttrain-rmse:0.002131\n",
      "[142]\ttrain-rmse:0.002072\n",
      "[143]\ttrain-rmse:0.002048\n",
      "[144]\ttrain-rmse:0.002041\n",
      "[145]\ttrain-rmse:0.002014\n",
      "[146]\ttrain-rmse:0.001943\n",
      "[147]\ttrain-rmse:0.001892\n",
      "[148]\ttrain-rmse:0.001864\n",
      "[149]\ttrain-rmse:0.001808\n",
      "[150]\ttrain-rmse:0.001777\n",
      "[151]\ttrain-rmse:0.001717\n",
      "[152]\ttrain-rmse:0.001701\n",
      "[153]\ttrain-rmse:0.001667\n",
      "[154]\ttrain-rmse:0.001633\n",
      "[155]\ttrain-rmse:0.001594\n",
      "[156]\ttrain-rmse:0.001552\n",
      "[157]\ttrain-rmse:0.001521\n",
      "[158]\ttrain-rmse:0.00148\n",
      "[159]\ttrain-rmse:0.001437\n",
      "[160]\ttrain-rmse:0.001381\n",
      "[161]\ttrain-rmse:0.001341\n",
      "[162]\ttrain-rmse:0.001321\n",
      "[163]\ttrain-rmse:0.001286\n",
      "[164]\ttrain-rmse:0.001257\n",
      "[165]\ttrain-rmse:0.001211\n",
      "[166]\ttrain-rmse:0.001193\n",
      "[167]\ttrain-rmse:0.001184\n",
      "[168]\ttrain-rmse:0.001167\n",
      "[169]\ttrain-rmse:0.001151\n",
      "[170]\ttrain-rmse:0.001119\n",
      "[171]\ttrain-rmse:0.001095\n",
      "[172]\ttrain-rmse:0.001057\n",
      "[173]\ttrain-rmse:0.00105\n",
      "[174]\ttrain-rmse:0.001037\n",
      "[175]\ttrain-rmse:0.00102\n",
      "[176]\ttrain-rmse:0.000995\n",
      "[177]\ttrain-rmse:0.000971\n",
      "[178]\ttrain-rmse:0.000956\n",
      "[179]\ttrain-rmse:0.000924\n",
      "[180]\ttrain-rmse:0.000886\n",
      "[181]\ttrain-rmse:0.000868\n",
      "[182]\ttrain-rmse:0.000847\n",
      "[183]\ttrain-rmse:0.000823\n",
      "[184]\ttrain-rmse:0.000807\n",
      "[185]\ttrain-rmse:0.000791\n",
      "[186]\ttrain-rmse:0.000771\n",
      "[187]\ttrain-rmse:0.00075\n",
      "[188]\ttrain-rmse:0.000728\n",
      "[189]\ttrain-rmse:0.000712\n",
      "[190]\ttrain-rmse:0.000687\n",
      "[191]\ttrain-rmse:0.000672\n",
      "[192]\ttrain-rmse:0.00066\n",
      "[193]\ttrain-rmse:0.000649\n",
      "[194]\ttrain-rmse:0.000649\n",
      "[195]\ttrain-rmse:0.000639\n",
      "[196]\ttrain-rmse:0.000622\n",
      "[197]\ttrain-rmse:0.000618\n",
      "[198]\ttrain-rmse:0.00061\n",
      "[199]\ttrain-rmse:0.00061\n",
      "[200]\ttrain-rmse:0.00061\n",
      "[201]\ttrain-rmse:0.00061\n",
      "[202]\ttrain-rmse:0.0006\n",
      "[203]\ttrain-rmse:0.0006\n",
      "[204]\ttrain-rmse:0.0006\n",
      "[205]\ttrain-rmse:0.0006\n",
      "[206]\ttrain-rmse:0.0006\n",
      "[207]\ttrain-rmse:0.0006\n",
      "[208]\ttrain-rmse:0.000587\n",
      "[209]\ttrain-rmse:0.000587\n",
      "[210]\ttrain-rmse:0.000587\n",
      "[211]\ttrain-rmse:0.000587\n",
      "[212]\ttrain-rmse:0.000587\n",
      "[213]\ttrain-rmse:0.000587\n",
      "[214]\ttrain-rmse:0.000587\n",
      "[215]\ttrain-rmse:0.000587\n",
      "[216]\ttrain-rmse:0.000587\n",
      "[217]\ttrain-rmse:0.000587\n",
      "[218]\ttrain-rmse:0.000587\n",
      "Stopping. Best iteration:\n",
      "[208]\ttrain-rmse:0.000587\n",
      "\n"
     ]
    }
   ],
   "source": [
    "import itertools\n",
    "import xgboost as xgb\n",
    "dtrain = xgb.DMatrix(X_train, label = y)\n",
    "dtest = xgb.DMatrix(X_test)  \n",
    "\n",
    "subsample = 0.8\n",
    "colsample_bytree = 0.8\n",
    "eta = 0.2\n",
    "max_depth = 8\n",
    "\n",
    "num_boost_round = 400 \n",
    "early_stopping_rounds = 10\n",
    "test_size = 0.2 \n",
    "\n",
    "# start the training\n",
    "print('XGBoost params. ETA: {}, MAX_DEPTH: {}, SUBSAMPLE: {}, COLSAMPLE_BY_TREE: {}'.format(eta, max_depth, subsample, colsample_bytree))\n",
    "params = {\n",
    "    \"objective\": \"reg:linear\",\n",
    "    \"booster\" : \"gbtree\", \n",
    "    \"eval_metric\": \"rmse\", # this is the metric for the leardboard\n",
    "    \"eta\": eta, # shrinking parameters to prevent overfitting\n",
    "    \"tree_method\": 'exact',\n",
    "    \"max_depth\": max_depth,\n",
    "    \"subsample\": subsample, # collect 80% of the data only to prevent overfitting\n",
    "    \"colsample_bytree\": colsample_bytree,\n",
    "    \"silent\": 1,\n",
    "    \"seed\": 0,\n",
    "}\n",
    "\n",
    "watchlist = [(dtrain, 'train')] # list of things to evaluate and print\n",
    "gbm = xgb.train(params, dtrain, num_boost_round, evals=watchlist, early_stopping_rounds=early_stopping_rounds, verbose_eval=True) # find the best score\n",
    "xg_pred = np.expm1(gbm.predict(dtest))"
   ]
  },
  {
   "cell_type": "code",
   "execution_count": 100,
   "metadata": {
    "_cell_guid": "569d7154-e3b5-84ab-1d28-57bdc02955d9",
    "collapsed": false
   },
   "outputs": [],
   "source": [
    "final_result=0.7*lasso_preds+0.2*xg_pred+0.1*elas_preds\n",
    "\n",
    "solution = pd.DataFrame({\"id\":test.Id, \"SalePrice\":final_result}, columns=['id', 'SalePrice'])\n",
    "solution.to_csv(\"ElasticLasso5.csv\", index = False)"
   ]
  },
  {
   "cell_type": "code",
   "execution_count": null,
   "metadata": {
    "collapsed": true
   },
   "outputs": [],
   "source": []
  }
 ],
 "metadata": {
  "_change_revision": 180,
  "_is_fork": false,
  "anaconda-cloud": {},
  "kernelspec": {
   "display_name": "Python 3",
   "language": "python",
   "name": "python3"
  },
  "language_info": {
   "codemirror_mode": {
    "name": "ipython",
    "version": 3
   },
   "file_extension": ".py",
   "mimetype": "text/x-python",
   "name": "python",
   "nbconvert_exporter": "python",
   "pygments_lexer": "ipython3",
   "version": "3.4.3"
  }
 },
 "nbformat": 4,
 "nbformat_minor": 0
}
