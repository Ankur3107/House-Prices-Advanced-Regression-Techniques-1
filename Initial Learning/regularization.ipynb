{
 "cells": [
  {
   "cell_type": "markdown",
   "metadata": {
    "_cell_guid": "e6335977-1dcb-a5bc-4856-184dd7bce3f9"
   },
   "source": [
    "## Trying out a linear model: \n",
    "\n",
    "There have been a few [great](https://www.kaggle.com/comartel/house-prices-advanced-regression-techniques/house-price-xgboost-starter/run/348739)  [scripts](https://www.kaggle.com/zoupet/house-prices-advanced-regression-techniques/xgboost-10-kfolds-with-scikit-learn/run/357561) on [xgboost](https://www.kaggle.com/tadepalli/house-prices-advanced-regression-techniques/xgboost-with-n-trees-autostop-0-12638/run/353049) already so I'd figured I'd try something simpler: a regularized linear regression model. Surprisingly it does really well with very little feature engineering. The key point is to to log_transform the numeric variables since most of them are skewed."
   ]
  },
  {
   "cell_type": "code",
   "execution_count": 36,
   "metadata": {
    "_cell_guid": "0d706811-b70c-aeab-a78b-3c7abd9978d3",
    "collapsed": false
   },
   "outputs": [
    {
     "ename": "ImportError",
     "evalue": "No module named 'seaborn'",
     "output_type": "error",
     "traceback": [
      "\u001b[1;31m---------------------------------------------------------------------------\u001b[0m",
      "\u001b[1;31mImportError\u001b[0m                               Traceback (most recent call last)",
      "\u001b[1;32m<ipython-input-36-d7bd1692a130>\u001b[0m in \u001b[0;36m<module>\u001b[1;34m()\u001b[0m\n\u001b[0;32m      1\u001b[0m \u001b[1;32mimport\u001b[0m \u001b[0mpandas\u001b[0m \u001b[1;32mas\u001b[0m \u001b[0mpd\u001b[0m\u001b[1;33m\u001b[0m\u001b[0m\n\u001b[0;32m      2\u001b[0m \u001b[1;32mimport\u001b[0m \u001b[0mnumpy\u001b[0m \u001b[1;32mas\u001b[0m \u001b[0mnp\u001b[0m\u001b[1;33m\u001b[0m\u001b[0m\n\u001b[1;32m----> 3\u001b[1;33m \u001b[1;32mimport\u001b[0m \u001b[0mseaborn\u001b[0m \u001b[1;32mas\u001b[0m \u001b[0msns\u001b[0m\u001b[1;33m\u001b[0m\u001b[0m\n\u001b[0m\u001b[0;32m      4\u001b[0m \u001b[1;32mimport\u001b[0m \u001b[0mmatplotlib\u001b[0m\u001b[1;33m\u001b[0m\u001b[0m\n\u001b[0;32m      5\u001b[0m \u001b[1;32mimport\u001b[0m \u001b[0mmatplotlib\u001b[0m\u001b[1;33m.\u001b[0m\u001b[0mpyplot\u001b[0m \u001b[1;32mas\u001b[0m \u001b[0mplt\u001b[0m\u001b[1;33m\u001b[0m\u001b[0m\n",
      "\u001b[1;31mImportError\u001b[0m: No module named 'seaborn'"
     ]
    }
   ],
   "source": [
    "import pandas as pd\n",
    "import numpy as np\n",
    "import seaborn as sns\n",
    "import matplotlib\n",
    "import matplotlib.pyplot as plt\n",
    "from scipy.stats import skew\n",
    "\n",
    "%config InlineBackend.figure_format = 'png'"
   ]
  },
  {
   "cell_type": "code",
   "execution_count": 1,
   "metadata": {
    "_cell_guid": "603292c1-44b7-d72a-5468-e6782f311603",
    "collapsed": false
   },
   "outputs": [
    {
     "ename": "NameError",
     "evalue": "name 'pd' is not defined",
     "output_type": "error",
     "traceback": [
      "\u001b[1;31m---------------------------------------------------------------------------\u001b[0m",
      "\u001b[1;31mNameError\u001b[0m                                 Traceback (most recent call last)",
      "\u001b[1;32m<ipython-input-1-86dce884597e>\u001b[0m in \u001b[0;36m<module>\u001b[1;34m()\u001b[0m\n\u001b[1;32m----> 1\u001b[1;33m \u001b[0mtrain\u001b[0m \u001b[1;33m=\u001b[0m \u001b[0mpd\u001b[0m\u001b[1;33m.\u001b[0m\u001b[0mread_csv\u001b[0m\u001b[1;33m(\u001b[0m\u001b[1;34m\"train.csv\"\u001b[0m\u001b[1;33m)\u001b[0m\u001b[1;33m\u001b[0m\u001b[0m\n\u001b[0m\u001b[0;32m      2\u001b[0m \u001b[0mtest\u001b[0m \u001b[1;33m=\u001b[0m \u001b[0mpd\u001b[0m\u001b[1;33m.\u001b[0m\u001b[0mread_csv\u001b[0m\u001b[1;33m(\u001b[0m\u001b[1;34m\"test.csv\"\u001b[0m\u001b[1;33m)\u001b[0m\u001b[1;33m\u001b[0m\u001b[0m\n",
      "\u001b[1;31mNameError\u001b[0m: name 'pd' is not defined"
     ]
    }
   ],
   "source": [
    "train = pd.read_csv(\"train.csv\")\n",
    "test = pd.read_csv(\"test.csv\")\n"
   ]
  },
  {
   "cell_type": "code",
   "execution_count": 16,
   "metadata": {
    "_cell_guid": "d646bb1b-56c4-9b45-d5d4-27095f61b1c0",
    "collapsed": true
   },
   "outputs": [],
   "source": [
    "train.head()"
   ]
  },
  {
   "cell_type": "code",
   "execution_count": 27,
   "metadata": {
    "_cell_guid": "cb2d88d7-7f76-4b04-d28b-d2c315ae4346",
    "collapsed": false
   },
   "outputs": [
    {
     "name": "stdout",
     "output_type": "stream",
     "text": [
      "      MSSubClass MSZoning  LotFrontage  LotArea Street Alley LotShape  \\\n",
      "0             60       RL         65.0     8450   Pave   NaN      Reg   \n",
      "1             20       RL         80.0     9600   Pave   NaN      Reg   \n",
      "2             60       RL         68.0    11250   Pave   NaN      IR1   \n",
      "3             70       RL         60.0     9550   Pave   NaN      IR1   \n",
      "4             60       RL         84.0    14260   Pave   NaN      IR1   \n",
      "5             50       RL         85.0    14115   Pave   NaN      IR1   \n",
      "6             20       RL         75.0    10084   Pave   NaN      Reg   \n",
      "7             60       RL          NaN    10382   Pave   NaN      IR1   \n",
      "8             50       RM         51.0     6120   Pave   NaN      Reg   \n",
      "9            190       RL         50.0     7420   Pave   NaN      Reg   \n",
      "10            20       RL         70.0    11200   Pave   NaN      Reg   \n",
      "11            60       RL         85.0    11924   Pave   NaN      IR1   \n",
      "12            20       RL          NaN    12968   Pave   NaN      IR2   \n",
      "13            20       RL         91.0    10652   Pave   NaN      IR1   \n",
      "14            20       RL          NaN    10920   Pave   NaN      IR1   \n",
      "15            45       RM         51.0     6120   Pave   NaN      Reg   \n",
      "16            20       RL          NaN    11241   Pave   NaN      IR1   \n",
      "17            90       RL         72.0    10791   Pave   NaN      Reg   \n",
      "18            20       RL         66.0    13695   Pave   NaN      Reg   \n",
      "19            20       RL         70.0     7560   Pave   NaN      Reg   \n",
      "20            60       RL        101.0    14215   Pave   NaN      IR1   \n",
      "21            45       RM         57.0     7449   Pave  Grvl      Reg   \n",
      "22            20       RL         75.0     9742   Pave   NaN      Reg   \n",
      "23           120       RM         44.0     4224   Pave   NaN      Reg   \n",
      "24            20       RL          NaN     8246   Pave   NaN      IR1   \n",
      "25            20       RL        110.0    14230   Pave   NaN      Reg   \n",
      "26            20       RL         60.0     7200   Pave   NaN      Reg   \n",
      "27            20       RL         98.0    11478   Pave   NaN      Reg   \n",
      "28            20       RL         47.0    16321   Pave   NaN      IR1   \n",
      "29            30       RM         60.0     6324   Pave   NaN      IR1   \n",
      "...          ...      ...          ...      ...    ...   ...      ...   \n",
      "1429          30       RM         50.0     7030   Pave   NaN      Reg   \n",
      "1430          50       RM         75.0     9060   Pave   NaN      Reg   \n",
      "1431          30  C (all)         69.0    12366   Pave   NaN      Reg   \n",
      "1432         190  C (all)         50.0     9000   Pave   NaN      Reg   \n",
      "1433          50  C (all)         60.0     8520   Grvl   NaN      Reg   \n",
      "1434         120       RM         41.0     5748   Pave   NaN      IR1   \n",
      "1435         120       RM         44.0     3842   Pave   NaN      IR1   \n",
      "1436          20       RL         69.0    23580   Pave   NaN      IR1   \n",
      "1437          90       RL         65.0     8385   Pave   NaN      Reg   \n",
      "1438          20       RL         70.0     9116   Pave   NaN      Reg   \n",
      "1439          80       RL        140.0    11080   Pave   NaN      Reg   \n",
      "1440          20       RL          NaN    50102   Pave   NaN      IR1   \n",
      "1441          20       RL          NaN     8098   Pave   NaN      IR1   \n",
      "1442          20       RL         95.0    13618   Pave   NaN      Reg   \n",
      "1443          20       RL         88.0    11577   Pave   NaN      Reg   \n",
      "1444          20      NaN        125.0    31250   Pave   NaN      Reg   \n",
      "1445          90       RM         78.0     7020   Pave   NaN      Reg   \n",
      "1446         160       RM         41.0     2665   Pave   NaN      Reg   \n",
      "1447          20       RL         58.0    10172   Pave   NaN      IR1   \n",
      "1448          90       RL          NaN    11836   Pave   NaN      IR1   \n",
      "1449         180       RM         21.0     1470   Pave   NaN      Reg   \n",
      "1450         160       RM         21.0     1484   Pave   NaN      Reg   \n",
      "1451          20       RL         80.0    13384   Pave   NaN      Reg   \n",
      "1452         160       RM         21.0     1533   Pave   NaN      Reg   \n",
      "1453         160       RM         21.0     1526   Pave   NaN      Reg   \n",
      "1454         160       RM         21.0     1936   Pave   NaN      Reg   \n",
      "1455         160       RM         21.0     1894   Pave   NaN      Reg   \n",
      "1456          20       RL        160.0    20000   Pave   NaN      Reg   \n",
      "1457          85       RL         62.0    10441   Pave   NaN      Reg   \n",
      "1458          60       RL         74.0     9627   Pave   NaN      Reg   \n",
      "\n",
      "     LandContour Utilities LotConfig      ...       ScreenPorch PoolArea  \\\n",
      "0            Lvl    AllPub    Inside      ...                 0        0   \n",
      "1            Lvl    AllPub       FR2      ...                 0        0   \n",
      "2            Lvl    AllPub    Inside      ...                 0        0   \n",
      "3            Lvl    AllPub    Corner      ...                 0        0   \n",
      "4            Lvl    AllPub       FR2      ...                 0        0   \n",
      "5            Lvl    AllPub    Inside      ...                 0        0   \n",
      "6            Lvl    AllPub    Inside      ...                 0        0   \n",
      "7            Lvl    AllPub    Corner      ...                 0        0   \n",
      "8            Lvl    AllPub    Inside      ...                 0        0   \n",
      "9            Lvl    AllPub    Corner      ...                 0        0   \n",
      "10           Lvl    AllPub    Inside      ...                 0        0   \n",
      "11           Lvl    AllPub    Inside      ...                 0        0   \n",
      "12           Lvl    AllPub    Inside      ...               176        0   \n",
      "13           Lvl    AllPub    Inside      ...                 0        0   \n",
      "14           Lvl    AllPub    Corner      ...                 0        0   \n",
      "15           Lvl    AllPub    Corner      ...                 0        0   \n",
      "16           Lvl    AllPub   CulDSac      ...                 0        0   \n",
      "17           Lvl    AllPub    Inside      ...                 0        0   \n",
      "18           Lvl    AllPub    Inside      ...                 0        0   \n",
      "19           Lvl    AllPub    Inside      ...                 0        0   \n",
      "20           Lvl    AllPub    Corner      ...                 0        0   \n",
      "21           Bnk    AllPub    Inside      ...                 0        0   \n",
      "22           Lvl    AllPub    Inside      ...                 0        0   \n",
      "23           Lvl    AllPub    Inside      ...                 0        0   \n",
      "24           Lvl    AllPub    Inside      ...                 0        0   \n",
      "25           Lvl    AllPub    Corner      ...                 0        0   \n",
      "26           Lvl    AllPub    Corner      ...                 0        0   \n",
      "27           Lvl    AllPub    Inside      ...                 0        0   \n",
      "28           Lvl    AllPub   CulDSac      ...                 0        0   \n",
      "29           Lvl    AllPub    Inside      ...                 0        0   \n",
      "...          ...       ...       ...      ...               ...      ...   \n",
      "1429         Lvl    AllPub    Inside      ...                 0        0   \n",
      "1430         Lvl    AllPub    Inside      ...                 0        0   \n",
      "1431         Lvl    AllPub    Inside      ...                 0        0   \n",
      "1432         Lvl    AllPub    Inside      ...                 0        0   \n",
      "1433         Bnk    AllPub    Inside      ...                 0        0   \n",
      "1434         HLS    AllPub    Inside      ...               153        0   \n",
      "1435         HLS    AllPub    Inside      ...               155        0   \n",
      "1436         Lvl    AllPub    Inside      ...                 0        0   \n",
      "1437         Lvl    AllPub    Inside      ...                 0        0   \n",
      "1438         Lvl    AllPub    Corner      ...                 0        0   \n",
      "1439         Lvl    AllPub    Corner      ...                 0        0   \n",
      "1440         Low    AllPub    Inside      ...               138        0   \n",
      "1441         Lvl    AllPub    Inside      ...                 0        0   \n",
      "1442         Lvl    AllPub    Corner      ...                 0        0   \n",
      "1443         Lvl    AllPub    Inside      ...                 0        0   \n",
      "1444         Lvl    AllPub    Inside      ...                 0        0   \n",
      "1445         Lvl    AllPub    Inside      ...                 0        0   \n",
      "1446         Lvl    AllPub    Inside      ...                 0        0   \n",
      "1447         Lvl    AllPub    Inside      ...                 0        0   \n",
      "1448         Lvl    AllPub    Corner      ...                 0        0   \n",
      "1449         Lvl    AllPub    Inside      ...                 0        0   \n",
      "1450         Lvl    AllPub    Inside      ...                 0        0   \n",
      "1451         Lvl    AllPub    Inside      ...                 0        0   \n",
      "1452         Lvl    AllPub    Inside      ...                 0        0   \n",
      "1453         Lvl    AllPub    Inside      ...                 0        0   \n",
      "1454         Lvl    AllPub    Inside      ...                 0        0   \n",
      "1455         Lvl    AllPub    Inside      ...                 0        0   \n",
      "1456         Lvl    AllPub    Inside      ...                 0        0   \n",
      "1457         Lvl    AllPub    Inside      ...                 0        0   \n",
      "1458         Lvl    AllPub    Inside      ...                 0        0   \n",
      "\n",
      "     PoolQC  Fence MiscFeature MiscVal  MoSold  YrSold  SaleType  \\\n",
      "0       NaN    NaN         NaN       0       2    2008        WD   \n",
      "1       NaN    NaN         NaN       0       5    2007        WD   \n",
      "2       NaN    NaN         NaN       0       9    2008        WD   \n",
      "3       NaN    NaN         NaN       0       2    2006        WD   \n",
      "4       NaN    NaN         NaN       0      12    2008        WD   \n",
      "5       NaN  MnPrv        Shed     700      10    2009        WD   \n",
      "6       NaN    NaN         NaN       0       8    2007        WD   \n",
      "7       NaN    NaN        Shed     350      11    2009        WD   \n",
      "8       NaN    NaN         NaN       0       4    2008        WD   \n",
      "9       NaN    NaN         NaN       0       1    2008        WD   \n",
      "10      NaN    NaN         NaN       0       2    2008        WD   \n",
      "11      NaN    NaN         NaN       0       7    2006       New   \n",
      "12      NaN    NaN         NaN       0       9    2008        WD   \n",
      "13      NaN    NaN         NaN       0       8    2007       New   \n",
      "14      NaN   GdWo         NaN       0       5    2008        WD   \n",
      "15      NaN  GdPrv         NaN       0       7    2007        WD   \n",
      "16      NaN    NaN        Shed     700       3    2010        WD   \n",
      "17      NaN    NaN        Shed     500      10    2006        WD   \n",
      "18      NaN    NaN         NaN       0       6    2008        WD   \n",
      "19      NaN  MnPrv         NaN       0       5    2009       COD   \n",
      "20      NaN    NaN         NaN       0      11    2006       New   \n",
      "21      NaN  GdPrv         NaN       0       6    2007        WD   \n",
      "22      NaN    NaN         NaN       0       9    2008        WD   \n",
      "23      NaN    NaN         NaN       0       6    2007        WD   \n",
      "24      NaN  MnPrv         NaN       0       5    2010        WD   \n",
      "25      NaN    NaN         NaN       0       7    2009        WD   \n",
      "26      NaN    NaN         NaN       0       5    2010        WD   \n",
      "27      NaN    NaN         NaN       0       5    2010        WD   \n",
      "28      NaN    NaN         NaN       0      12    2006        WD   \n",
      "29      NaN    NaN         NaN       0       5    2008        WD   \n",
      "...     ...    ...         ...     ...     ...     ...       ...   \n",
      "1429    NaN  MnPrv         NaN       0       3    2006        WD   \n",
      "1430    NaN    NaN         NaN       0       4    2006        WD   \n",
      "1431    NaN    NaN         NaN       0      10    2006        WD   \n",
      "1432    NaN    NaN         NaN       0      10    2006        WD   \n",
      "1433    NaN    NaN         NaN       0       4    2006        WD   \n",
      "1434    NaN    NaN         NaN       0       2    2006       New   \n",
      "1435    NaN    NaN         NaN       0      12    2006        WD   \n",
      "1436    NaN    NaN         NaN       0       9    2006        WD   \n",
      "1437    NaN    NaN         NaN       0      10    2006        WD   \n",
      "1438    NaN    NaN         NaN       0       5    2006        WD   \n",
      "1439    NaN    NaN         NaN       0       5    2006        WD   \n",
      "1440    NaN    NaN         NaN       0       3    2006        WD   \n",
      "1441    NaN    NaN         NaN       0      10    2006        WD   \n",
      "1442    NaN    NaN         NaN       0      11    2006       New   \n",
      "1443    NaN    NaN         NaN       0       9    2006       New   \n",
      "1444    NaN    NaN         NaN       0       5    2006        WD   \n",
      "1445    NaN    NaN         NaN       0      11    2006        WD   \n",
      "1446    NaN    NaN         NaN       0       5    2006        WD   \n",
      "1447    NaN    NaN         NaN       0      10    2006        WD   \n",
      "1448    NaN    NaN         NaN       0       3    2006        WD   \n",
      "1449    NaN    NaN         NaN       0       4    2006        WD   \n",
      "1450    NaN    NaN         NaN       0       5    2006        WD   \n",
      "1451    NaN    NaN         NaN       0       5    2006        WD   \n",
      "1452    NaN    NaN         NaN       0      12    2006        WD   \n",
      "1453    NaN  GdPrv         NaN       0       6    2006        WD   \n",
      "1454    NaN    NaN         NaN       0       6    2006        WD   \n",
      "1455    NaN    NaN         NaN       0       4    2006        WD   \n",
      "1456    NaN    NaN         NaN       0       9    2006        WD   \n",
      "1457    NaN  MnPrv        Shed     700       7    2006        WD   \n",
      "1458    NaN    NaN         NaN       0      11    2006        WD   \n",
      "\n",
      "      SaleCondition  \n",
      "0            Normal  \n",
      "1            Normal  \n",
      "2            Normal  \n",
      "3           Abnorml  \n",
      "4            Normal  \n",
      "5            Normal  \n",
      "6            Normal  \n",
      "7            Normal  \n",
      "8           Abnorml  \n",
      "9            Normal  \n",
      "10           Normal  \n",
      "11          Partial  \n",
      "12           Normal  \n",
      "13          Partial  \n",
      "14           Normal  \n",
      "15           Normal  \n",
      "16           Normal  \n",
      "17           Normal  \n",
      "18           Normal  \n",
      "19          Abnorml  \n",
      "20          Partial  \n",
      "21           Normal  \n",
      "22           Normal  \n",
      "23           Normal  \n",
      "24           Normal  \n",
      "25           Normal  \n",
      "26           Normal  \n",
      "27           Normal  \n",
      "28           Normal  \n",
      "29           Normal  \n",
      "...             ...  \n",
      "1429         Normal  \n",
      "1430         Normal  \n",
      "1431        Abnorml  \n",
      "1432        Abnorml  \n",
      "1433         Normal  \n",
      "1434        Partial  \n",
      "1435         Normal  \n",
      "1436         Normal  \n",
      "1437         Normal  \n",
      "1438         Normal  \n",
      "1439         Normal  \n",
      "1440         Alloca  \n",
      "1441         Normal  \n",
      "1442        Partial  \n",
      "1443        Partial  \n",
      "1444         Normal  \n",
      "1445         Normal  \n",
      "1446         Normal  \n",
      "1447         Normal  \n",
      "1448         Normal  \n",
      "1449         Normal  \n",
      "1450         Normal  \n",
      "1451         Normal  \n",
      "1452        Abnorml  \n",
      "1453         Normal  \n",
      "1454         Normal  \n",
      "1455        Abnorml  \n",
      "1456        Abnorml  \n",
      "1457         Normal  \n",
      "1458         Normal  \n",
      "\n",
      "[2919 rows x 79 columns]\n"
     ]
    }
   ],
   "source": [
    "all_data = pd.concat((train.loc[:,'MSSubClass':'SaleCondition'],\n",
    "                      test.loc[:,'MSSubClass':'SaleCondition']))\n",
    "print (all_data)"
   ]
  },
  {
   "cell_type": "markdown",
   "metadata": {
    "_cell_guid": "29fa13df-61e8-b0c2-b3a7-ea92bffd4396"
   },
   "source": [
    "###Data preprocessing: \n",
    "We're not going to do anything fancy here: \n",
    " \n",
    "- First I'll transform the skewed numeric features by taking log(feature + 1) - this will make the features more normal    \n",
    "- Create Dummy variables for the categorical features    \n",
    "- Replace the numeric missing values (NaN's) with the mean of their respective columns"
   ]
  },
  {
   "cell_type": "code",
   "execution_count": 32,
   "metadata": {
    "_cell_guid": "9b5a3e5b-f683-3fd2-7269-4068975bbe42",
    "collapsed": false
   },
   "outputs": [
    {
     "data": {
      "text/plain": [
       "array([[<matplotlib.axes._subplots.AxesSubplot object at 0xe7af09ec>,\n",
       "        <matplotlib.axes._subplots.AxesSubplot object at 0xe7b278cc>]], dtype=object)"
      ]
     },
     "execution_count": 32,
     "metadata": {},
     "output_type": "execute_result"
    },
    {
     "data": {
      "image/png": "[encoded data removed]",
      "text/plain": [
       "<matplotlib.figure.Figure at 0xe7aed7cc>"
      ]
     },
     "metadata": {},
     "output_type": "display_data"
    }
   ],
   "source": [
    "import matplotlib\n",
    "matplotlib.rcParams['figure.figsize'] = (12.0, 6.0)\n",
    "prices = pd.DataFrame({\"price\":train[\"SalePrice\"], \"log(price + 1)\":np.log1p(train[\"SalePrice\"])})\n",
    "prices.hist()"
   ]
  },
  {
   "cell_type": "code",
   "execution_count": 35,
   "metadata": {
    "_cell_guid": "4ed54771-95c4-00e7-b2cd-569d17862878",
    "collapsed": false
   },
   "outputs": [
    {
     "ename": "NameError",
     "evalue": "(\"name 'skew' is not defined\", 'occurred at index MSSubClass')",
     "output_type": "error",
     "traceback": [
      "\u001b[1;31m---------------------------------------------------------------------------\u001b[0m",
      "\u001b[1;31mNameError\u001b[0m                                 Traceback (most recent call last)",
      "\u001b[1;32m<ipython-input-35-af90983cef09>\u001b[0m in \u001b[0;36m<module>\u001b[1;34m()\u001b[0m\n\u001b[0;32m      5\u001b[0m \u001b[0mnumeric_feats\u001b[0m \u001b[1;33m=\u001b[0m \u001b[0mall_data\u001b[0m\u001b[1;33m.\u001b[0m\u001b[0mdtypes\u001b[0m\u001b[1;33m[\u001b[0m\u001b[0mall_data\u001b[0m\u001b[1;33m.\u001b[0m\u001b[0mdtypes\u001b[0m \u001b[1;33m!=\u001b[0m \u001b[1;34m\"object\"\u001b[0m\u001b[1;33m]\u001b[0m\u001b[1;33m.\u001b[0m\u001b[0mindex\u001b[0m\u001b[1;33m\u001b[0m\u001b[0m\n\u001b[0;32m      6\u001b[0m \u001b[1;33m\u001b[0m\u001b[0m\n\u001b[1;32m----> 7\u001b[1;33m \u001b[0mskewed_feats\u001b[0m \u001b[1;33m=\u001b[0m \u001b[0mtrain\u001b[0m\u001b[1;33m[\u001b[0m\u001b[0mnumeric_feats\u001b[0m\u001b[1;33m]\u001b[0m\u001b[1;33m.\u001b[0m\u001b[0mapply\u001b[0m\u001b[1;33m(\u001b[0m\u001b[1;32mlambda\u001b[0m \u001b[0mx\u001b[0m\u001b[1;33m:\u001b[0m \u001b[0mskew\u001b[0m\u001b[1;33m(\u001b[0m\u001b[0mx\u001b[0m\u001b[1;33m.\u001b[0m\u001b[0mdropna\u001b[0m\u001b[1;33m(\u001b[0m\u001b[1;33m)\u001b[0m\u001b[1;33m)\u001b[0m\u001b[1;33m)\u001b[0m \u001b[1;31m#compute skewness\u001b[0m\u001b[1;33m\u001b[0m\u001b[0m\n\u001b[0m\u001b[0;32m      8\u001b[0m \u001b[0mskewed_feats\u001b[0m \u001b[1;33m=\u001b[0m \u001b[0mskewed_feats\u001b[0m\u001b[1;33m[\u001b[0m\u001b[0mskewed_feats\u001b[0m \u001b[1;33m>\u001b[0m \u001b[1;36m0.75\u001b[0m\u001b[1;33m]\u001b[0m\u001b[1;33m\u001b[0m\u001b[0m\n\u001b[0;32m      9\u001b[0m \u001b[0mskewed_feats\u001b[0m \u001b[1;33m=\u001b[0m \u001b[0mskewed_feats\u001b[0m\u001b[1;33m.\u001b[0m\u001b[0mindex\u001b[0m\u001b[1;33m\u001b[0m\u001b[0m\n",
      "\u001b[1;32m/home/megha/anaconda3/lib/python3.5/site-packages/pandas/core/frame.py\u001b[0m in \u001b[0;36mapply\u001b[1;34m(self, func, axis, broadcast, raw, reduce, args, **kwds)\u001b[0m\n\u001b[0;32m   4059\u001b[0m                     \u001b[1;32mif\u001b[0m \u001b[0mreduce\u001b[0m \u001b[1;32mis\u001b[0m \u001b[1;32mNone\u001b[0m\u001b[1;33m:\u001b[0m\u001b[1;33m\u001b[0m\u001b[0m\n\u001b[0;32m   4060\u001b[0m                         \u001b[0mreduce\u001b[0m \u001b[1;33m=\u001b[0m \u001b[1;32mTrue\u001b[0m\u001b[1;33m\u001b[0m\u001b[0m\n\u001b[1;32m-> 4061\u001b[1;33m                     \u001b[1;32mreturn\u001b[0m \u001b[0mself\u001b[0m\u001b[1;33m.\u001b[0m\u001b[0m_apply_standard\u001b[0m\u001b[1;33m(\u001b[0m\u001b[0mf\u001b[0m\u001b[1;33m,\u001b[0m \u001b[0maxis\u001b[0m\u001b[1;33m,\u001b[0m \u001b[0mreduce\u001b[0m\u001b[1;33m=\u001b[0m\u001b[0mreduce\u001b[0m\u001b[1;33m)\u001b[0m\u001b[1;33m\u001b[0m\u001b[0m\n\u001b[0m\u001b[0;32m   4062\u001b[0m             \u001b[1;32melse\u001b[0m\u001b[1;33m:\u001b[0m\u001b[1;33m\u001b[0m\u001b[0m\n\u001b[0;32m   4063\u001b[0m                 \u001b[1;32mreturn\u001b[0m \u001b[0mself\u001b[0m\u001b[1;33m.\u001b[0m\u001b[0m_apply_broadcast\u001b[0m\u001b[1;33m(\u001b[0m\u001b[0mf\u001b[0m\u001b[1;33m,\u001b[0m \u001b[0maxis\u001b[0m\u001b[1;33m)\u001b[0m\u001b[1;33m\u001b[0m\u001b[0m\n",
      "\u001b[1;32m/home/megha/anaconda3/lib/python3.5/site-packages/pandas/core/frame.py\u001b[0m in \u001b[0;36m_apply_standard\u001b[1;34m(self, func, axis, ignore_failures, reduce)\u001b[0m\n\u001b[0;32m   4155\u001b[0m             \u001b[1;32mtry\u001b[0m\u001b[1;33m:\u001b[0m\u001b[1;33m\u001b[0m\u001b[0m\n\u001b[0;32m   4156\u001b[0m                 \u001b[1;32mfor\u001b[0m \u001b[0mi\u001b[0m\u001b[1;33m,\u001b[0m \u001b[0mv\u001b[0m \u001b[1;32min\u001b[0m \u001b[0menumerate\u001b[0m\u001b[1;33m(\u001b[0m\u001b[0mseries_gen\u001b[0m\u001b[1;33m)\u001b[0m\u001b[1;33m:\u001b[0m\u001b[1;33m\u001b[0m\u001b[0m\n\u001b[1;32m-> 4157\u001b[1;33m                     \u001b[0mresults\u001b[0m\u001b[1;33m[\u001b[0m\u001b[0mi\u001b[0m\u001b[1;33m]\u001b[0m \u001b[1;33m=\u001b[0m \u001b[0mfunc\u001b[0m\u001b[1;33m(\u001b[0m\u001b[0mv\u001b[0m\u001b[1;33m)\u001b[0m\u001b[1;33m\u001b[0m\u001b[0m\n\u001b[0m\u001b[0;32m   4158\u001b[0m                     \u001b[0mkeys\u001b[0m\u001b[1;33m.\u001b[0m\u001b[0mappend\u001b[0m\u001b[1;33m(\u001b[0m\u001b[0mv\u001b[0m\u001b[1;33m.\u001b[0m\u001b[0mname\u001b[0m\u001b[1;33m)\u001b[0m\u001b[1;33m\u001b[0m\u001b[0m\n\u001b[0;32m   4159\u001b[0m             \u001b[1;32mexcept\u001b[0m \u001b[0mException\u001b[0m \u001b[1;32mas\u001b[0m \u001b[0me\u001b[0m\u001b[1;33m:\u001b[0m\u001b[1;33m\u001b[0m\u001b[0m\n",
      "\u001b[1;32m<ipython-input-35-af90983cef09>\u001b[0m in \u001b[0;36m<lambda>\u001b[1;34m(x)\u001b[0m\n\u001b[0;32m      5\u001b[0m \u001b[0mnumeric_feats\u001b[0m \u001b[1;33m=\u001b[0m \u001b[0mall_data\u001b[0m\u001b[1;33m.\u001b[0m\u001b[0mdtypes\u001b[0m\u001b[1;33m[\u001b[0m\u001b[0mall_data\u001b[0m\u001b[1;33m.\u001b[0m\u001b[0mdtypes\u001b[0m \u001b[1;33m!=\u001b[0m \u001b[1;34m\"object\"\u001b[0m\u001b[1;33m]\u001b[0m\u001b[1;33m.\u001b[0m\u001b[0mindex\u001b[0m\u001b[1;33m\u001b[0m\u001b[0m\n\u001b[0;32m      6\u001b[0m \u001b[1;33m\u001b[0m\u001b[0m\n\u001b[1;32m----> 7\u001b[1;33m \u001b[0mskewed_feats\u001b[0m \u001b[1;33m=\u001b[0m \u001b[0mtrain\u001b[0m\u001b[1;33m[\u001b[0m\u001b[0mnumeric_feats\u001b[0m\u001b[1;33m]\u001b[0m\u001b[1;33m.\u001b[0m\u001b[0mapply\u001b[0m\u001b[1;33m(\u001b[0m\u001b[1;32mlambda\u001b[0m \u001b[0mx\u001b[0m\u001b[1;33m:\u001b[0m \u001b[0mskew\u001b[0m\u001b[1;33m(\u001b[0m\u001b[0mx\u001b[0m\u001b[1;33m.\u001b[0m\u001b[0mdropna\u001b[0m\u001b[1;33m(\u001b[0m\u001b[1;33m)\u001b[0m\u001b[1;33m)\u001b[0m\u001b[1;33m)\u001b[0m \u001b[1;31m#compute skewness\u001b[0m\u001b[1;33m\u001b[0m\u001b[0m\n\u001b[0m\u001b[0;32m      8\u001b[0m \u001b[0mskewed_feats\u001b[0m \u001b[1;33m=\u001b[0m \u001b[0mskewed_feats\u001b[0m\u001b[1;33m[\u001b[0m\u001b[0mskewed_feats\u001b[0m \u001b[1;33m>\u001b[0m \u001b[1;36m0.75\u001b[0m\u001b[1;33m]\u001b[0m\u001b[1;33m\u001b[0m\u001b[0m\n\u001b[0;32m      9\u001b[0m \u001b[0mskewed_feats\u001b[0m \u001b[1;33m=\u001b[0m \u001b[0mskewed_feats\u001b[0m\u001b[1;33m.\u001b[0m\u001b[0mindex\u001b[0m\u001b[1;33m\u001b[0m\u001b[0m\n",
      "\u001b[1;31mNameError\u001b[0m: (\"name 'skew' is not defined\", 'occurred at index MSSubClass')"
     ]
    }
   ],
   "source": [
    "#log transform the target:\n",
    "train[\"SalePrice\"] = np.log1p(train[\"SalePrice\"])\n",
    "\n",
    "#log transform skewed numeric features:\n",
    "numeric_feats = all_data.dtypes[all_data.dtypes != \"object\"].index\n",
    "\n",
    "skewed_feats = train[numeric_feats].apply(lambda x: skew(x.dropna())) #compute skewness\n",
    "skewed_feats = skewed_feats[skewed_feats > 0.75]\n",
    "skewed_feats = skewed_feats.index\n",
    "\n",
    "all_data[skewed_feats] = np.log1p(all_data[skewed_feats])"
   ]
  },
  {
   "cell_type": "code",
   "execution_count": 20,
   "metadata": {
    "_cell_guid": "3854ab12-a4f3-4c88-fe6e-1fee08e18af2",
    "collapsed": true
   },
   "outputs": [],
   "source": [
    "all_data = pd.get_dummies(all_data)"
   ]
  },
  {
   "cell_type": "code",
   "execution_count": 22,
   "metadata": {
    "_cell_guid": "5d417300-0deb-3353-cabf-95f75af62678",
    "collapsed": true
   },
   "outputs": [],
   "source": [
    "#filling NA's with the mean of the column:\n",
    "all_data = all_data.fillna(all_data[:train.shape[0]].mean())"
   ]
  },
  {
   "cell_type": "code",
   "execution_count": 23,
   "metadata": {
    "_cell_guid": "fe687685-cdac-0a89-4d71-af2d11d87a81",
    "collapsed": true
   },
   "outputs": [],
   "source": [
    "#creating matrices for sklearn:\n",
    "X_train = all_data[:train.shape[0]]\n",
    "X_test = all_data[train.shape[0]:]\n",
    "y = train.SalePrice"
   ]
  },
  {
   "cell_type": "markdown",
   "metadata": {
    "_cell_guid": "cc4e3014-23b7-2971-ddb0-f67b03f83558"
   },
   "source": [
    "###Models\n",
    "\n",
    "Now we are going to use regularized linear regression models from the scikit learn module. I'm going to try both l_1(Lasso) and l_2(Ridge) regularization. I'll also define a function that returns the cross-validation rmse error so we can evaluate our models and pick the best tuning par"
   ]
  },
  {
   "cell_type": "code",
   "execution_count": 24,
   "metadata": {
    "_cell_guid": "82886739-eee6-5d7a-4be9-e1fe6ac059f1",
    "collapsed": true
   },
   "outputs": [],
   "source": [
    "from sklearn.linear_model import Ridge, RidgeCV, ElasticNet, LassoCV, LassoLarsCV\n",
    "from sklearn.model_selection import cross_val_score\n",
    "\n",
    "def rmse_cv(model):\n",
    "    rmse= np.sqrt(-cross_val_score(model, X_train, y, scoring=\"neg_mean_squared_error\", cv = 5))\n",
    "    return(rmse)"
   ]
  },
  {
   "cell_type": "code",
   "execution_count": 25,
   "metadata": {
    "_cell_guid": "436ce6e8-917f-8c88-3d7b-245e82a1619f",
    "collapsed": true
   },
   "outputs": [],
   "source": [
    "model_ridge = Ridge()"
   ]
  },
  {
   "cell_type": "markdown",
   "metadata": {
    "_cell_guid": "69ff958c-dbbb-4750-3fb0-d0ac17ff6363"
   },
   "source": [
    "The main tuning parameter for the Ridge model is alpha - a regularization parameter that measures how flexible our model is. The higher the regularization the less prone our model will be to overfit. However it will also lose flexibility and might not capture all of the signal in the data."
   ]
  },
  {
   "cell_type": "code",
   "execution_count": 26,
   "metadata": {
    "_cell_guid": "f6b86166-f581-6e05-5274-d3d3516ebaf3",
    "collapsed": true
   },
   "outputs": [],
   "source": [
    "alphas = [0.05, 0.1, 0.3, 1, 3, 5, 10, 15, 30, 50, 75]\n",
    "cv_ridge = [rmse_cv(Ridge(alpha = alpha)).mean() \n",
    "            for alpha in alphas]"
   ]
  },
  {
   "cell_type": "code",
   "execution_count": 27,
   "metadata": {
    "_cell_guid": "f8cf53ba-8441-9233-b7f5-a851d270b770",
    "collapsed": true
   },
   "outputs": [],
   "source": [
    "cv_ridge = pd.Series(cv_ridge, index = alphas)\n",
    "cv_ridge.plot(title = \"Validation - Just Do It\")\n",
    "plt.xlabel(\"alpha\")\n",
    "plt.ylabel(\"rmse\")"
   ]
  },
  {
   "cell_type": "markdown",
   "metadata": {
    "_cell_guid": "37486402-4a48-912f-84ee-a3611334b133"
   },
   "source": [
    "Note the U-ish shaped curve above. When alpha is too small the regularization is too strong and the model cannot capture all the complexities in the data. If however we let the model be too flexible (alpha large) the model begins to overfit. A value of alpha = 10 is about right based on the plot above."
   ]
  },
  {
   "cell_type": "code",
   "execution_count": 28,
   "metadata": {
    "_cell_guid": "d42c18c9-ee70-929f-ce63-aac7f77796cc",
    "collapsed": true
   },
   "outputs": [],
   "source": [
    "cv_ridge.min()"
   ]
  },
  {
   "cell_type": "markdown",
   "metadata": {
    "_cell_guid": "863fb699-7bcd-3748-3dbb-1c9b18afee9b"
   },
   "source": [
    "So for the Ridge regression we get a rmsle of about 0.127\n",
    "\n",
    "Let' try out the Lasso model. We will do a slightly different approach here and use the built in Lasso CV to figure out the best alpha for us. For some reason the alphas in Lasso CV are really the inverse or the alphas in Ridge."
   ]
  },
  {
   "cell_type": "code",
   "execution_count": 29,
   "metadata": {
    "_cell_guid": "8204520c-a595-2ad2-4685-0b84cc662b84",
    "collapsed": true
   },
   "outputs": [],
   "source": [
    "model_lasso = LassoCV(alphas = [1, 0.1, 0.001, 0.0005]).fit(X_train, y)"
   ]
  },
  {
   "cell_type": "code",
   "execution_count": 30,
   "metadata": {
    "_cell_guid": "e78e6126-4de0-08ad-250b-46a3f0f48de0",
    "collapsed": true
   },
   "outputs": [],
   "source": [
    "rmse_cv(model_lasso).mean()"
   ]
  },
  {
   "cell_type": "markdown",
   "metadata": {
    "_cell_guid": "abc5f43e-1c38-4c1e-cb70-a95c8d9be8de"
   },
   "source": [
    "Nice! The lasso performs even better so we'll just use this one to predict on the test set. Another neat thing about the Lasso is that it does feature selection for you - setting coefficients of features it deems unimportant to zero. Let's take a look at the coefficients:"
   ]
  },
  {
   "cell_type": "code",
   "execution_count": 20,
   "metadata": {
    "_cell_guid": "c7be87ca-412a-cb19-1524-cd94cf698d44",
    "collapsed": true
   },
   "outputs": [],
   "source": [
    "coef = pd.Series(model_lasso.coef_, index = X_train.columns)"
   ]
  },
  {
   "cell_type": "code",
   "execution_count": 21,
   "metadata": {
    "_cell_guid": "14be641e-bbe0-824d-d90f-f47698c8b5c5",
    "collapsed": true
   },
   "outputs": [],
   "source": [
    "print(\"Lasso picked \" + str(sum(coef != 0)) + \" variables and eliminated the other \" +  str(sum(coef == 0)) + \" variables\")"
   ]
  },
  {
   "cell_type": "markdown",
   "metadata": {
    "_cell_guid": "ca153134-b109-1afc-e066-44273f65d44c"
   },
   "source": [
    "Good job Lasso.  One thing to note here however is that the features selected are not necessarily the \"correct\" ones - especially since there are a lot of collinear features in this dataset. One idea to try here is run Lasso a few times on boostrapped samples and see how stable the feature selection is."
   ]
  },
  {
   "cell_type": "markdown",
   "metadata": {
    "_cell_guid": "632e23a8-948f-c692-f5e9-1aa8a75f21d5"
   },
   "source": [
    "We can also take a look directly at what the most important coefficients are:"
   ]
  },
  {
   "cell_type": "code",
   "execution_count": 22,
   "metadata": {
    "_cell_guid": "3efc02df-c877-b1fe-1807-5dd93c896c63",
    "collapsed": true
   },
   "outputs": [],
   "source": [
    "imp_coef = pd.concat([coef.sort_values().head(10),\n",
    "                     coef.sort_values().tail(10)])"
   ]
  },
  {
   "cell_type": "code",
   "execution_count": 27,
   "metadata": {
    "_cell_guid": "87317789-6e7e-d57f-0b54-d8ba0ee26abf",
    "collapsed": true
   },
   "outputs": [],
   "source": [
    "matplotlib.rcParams['figure.figsize'] = (8.0, 10.0)\n",
    "imp_coef.plot(kind = \"barh\")\n",
    "plt.title(\"Coefficients in the Lasso Model\")"
   ]
  },
  {
   "cell_type": "markdown",
   "metadata": {
    "_cell_guid": "f6e6f820-1ec6-4a69-c309-9992b80652da"
   },
   "source": [
    "The most important positive feature is `GrLivArea` -  the above ground area by area square feet. This definitely sense. Then a few other  location and quality features contributed positively. Some of the negative features make less sense and would be worth looking into more - it seems like they might come from unbalanced categorical variables.\n",
    "\n",
    " Also note that unlike the feature importance you'd get from a random forest these are _actual_ coefficients in your model - so you can say precisely why the predicted price is what it is. The only issue here is that we log_transformed both the target and the numeric features so the actual magnitudes are a bit hard to interpret. "
   ]
  },
  {
   "cell_type": "code",
   "execution_count": null,
   "metadata": {
    "_cell_guid": "cdeaa3d3-f9ad-2e06-1339-61b4425a43f8",
    "collapsed": true
   },
   "outputs": [],
   "source": [
    "#let's look at the residuals as well:\n",
    "matplotlib.rcParams['figure.figsize'] = (6.0, 6.0)\n",
    "\n",
    "preds = pd.DataFrame({\"preds\":model_lasso.predict(X_train), \"true\":y})\n",
    "preds[\"residuals\"] = preds[\"true\"] - preds[\"preds\"]\n",
    "#preds.plot(x = \"preds\", y = \"residuals\",kind = \"scatter\")"
   ]
  },
  {
   "cell_type": "markdown",
   "metadata": {
    "_cell_guid": "4780532e-2815-e355-9a96-fb1c598f6984"
   },
   "source": [
    "The residual plot looks pretty good.To wrap it up let's predict on the test set and submit on the leaderboard:"
   ]
  },
  {
   "cell_type": "code",
   "execution_count": 24,
   "metadata": {
    "_cell_guid": "ab95ec6a-a45c-af85-7677-bfc540802427",
    "collapsed": true
   },
   "outputs": [],
   "source": [
    "preds = np.expm1(model_lasso.predict(X_test))"
   ]
  },
  {
   "cell_type": "code",
   "execution_count": 25,
   "metadata": {
    "_cell_guid": "569d7154-e3b5-84ab-1d28-57bdc02955d9",
    "collapsed": true
   },
   "outputs": [],
   "source": [
    "solution = pd.DataFrame({\"id\":test.Id, \"SalePrice\":preds})\n",
    "solution.to_csv(\"ridge_sol.csv\", index = False)"
   ]
  }
 ],
 "metadata": {
  "_change_revision": 180,
  "_is_fork": false,
  "anaconda-cloud": {},
  "kernelspec": {
   "display_name": "Python [Root]",
   "language": "python",
   "name": "Python [Root]"
  },
  "language_info": {
   "codemirror_mode": {
    "name": "ipython",
    "version": 3
   },
   "file_extension": ".py",
   "mimetype": "text/x-python",
   "name": "python",
   "nbconvert_exporter": "python",
   "pygments_lexer": "ipython3",
   "version": "3.5.2"
  }
 },
 "nbformat": 4,
 "nbformat_minor": 0
}
