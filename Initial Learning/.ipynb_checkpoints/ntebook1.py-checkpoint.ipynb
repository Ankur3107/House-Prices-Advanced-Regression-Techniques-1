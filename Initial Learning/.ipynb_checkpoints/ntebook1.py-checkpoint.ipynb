{
 "cells": [
  {
   "cell_type": "markdown",
   "metadata": {
    "_cell_guid": "665d34c2-ee19-9c44-0990-14623195f1d3"
   },
   "source": [
    "**Overall**\n",
    "-----------------------"
   ]
  },
  {
   "cell_type": "code",
   "execution_count": 1,
   "metadata": {
    "_cell_guid": "6b8737b1-c7fe-9e90-3e9f-609f2a542d7a",
    "collapsed": true
   },
   "outputs": [],
   "source": [
    "import numpy as np\n",
    "import pandas as pd\n",
    "from subprocess import check_output"
   ]
  },
  {
   "cell_type": "code",
   "execution_count": 4,
   "metadata": {
    "_cell_guid": "6da786ce-51ef-3e73-477d-6cca278cb4ec",
    "collapsed": false
   },
   "outputs": [
    {
     "data": {
      "text/html": [
       "<div>\n",
       "<table border=\"1\" class=\"dataframe\">\n",
       "  <thead>\n",
       "    <tr style=\"text-align: right;\">\n",
       "      <th></th>\n",
       "      <th>Id</th>\n",
       "      <th>MSSubClass</th>\n",
       "      <th>MSZoning</th>\n",
       "      <th>LotFrontage</th>\n",
       "      <th>LotArea</th>\n",
       "      <th>Street</th>\n",
       "      <th>Alley</th>\n",
       "      <th>LotShape</th>\n",
       "      <th>LandContour</th>\n",
       "      <th>Utilities</th>\n",
       "      <th>...</th>\n",
       "      <th>PoolArea</th>\n",
       "      <th>PoolQC</th>\n",
       "      <th>Fence</th>\n",
       "      <th>MiscFeature</th>\n",
       "      <th>MiscVal</th>\n",
       "      <th>MoSold</th>\n",
       "      <th>YrSold</th>\n",
       "      <th>SaleType</th>\n",
       "      <th>SaleCondition</th>\n",
       "      <th>SalePrice</th>\n",
       "    </tr>\n",
       "  </thead>\n",
       "  <tbody>\n",
       "    <tr>\n",
       "      <th>0</th>\n",
       "      <td>1</td>\n",
       "      <td>60</td>\n",
       "      <td>RL</td>\n",
       "      <td>65.0</td>\n",
       "      <td>8450</td>\n",
       "      <td>Pave</td>\n",
       "      <td>NaN</td>\n",
       "      <td>Reg</td>\n",
       "      <td>Lvl</td>\n",
       "      <td>AllPub</td>\n",
       "      <td>...</td>\n",
       "      <td>0</td>\n",
       "      <td>NaN</td>\n",
       "      <td>NaN</td>\n",
       "      <td>NaN</td>\n",
       "      <td>0</td>\n",
       "      <td>2</td>\n",
       "      <td>2008</td>\n",
       "      <td>WD</td>\n",
       "      <td>Normal</td>\n",
       "      <td>208500</td>\n",
       "    </tr>\n",
       "    <tr>\n",
       "      <th>1</th>\n",
       "      <td>2</td>\n",
       "      <td>20</td>\n",
       "      <td>RL</td>\n",
       "      <td>80.0</td>\n",
       "      <td>9600</td>\n",
       "      <td>Pave</td>\n",
       "      <td>NaN</td>\n",
       "      <td>Reg</td>\n",
       "      <td>Lvl</td>\n",
       "      <td>AllPub</td>\n",
       "      <td>...</td>\n",
       "      <td>0</td>\n",
       "      <td>NaN</td>\n",
       "      <td>NaN</td>\n",
       "      <td>NaN</td>\n",
       "      <td>0</td>\n",
       "      <td>5</td>\n",
       "      <td>2007</td>\n",
       "      <td>WD</td>\n",
       "      <td>Normal</td>\n",
       "      <td>181500</td>\n",
       "    </tr>\n",
       "    <tr>\n",
       "      <th>2</th>\n",
       "      <td>3</td>\n",
       "      <td>60</td>\n",
       "      <td>RL</td>\n",
       "      <td>68.0</td>\n",
       "      <td>11250</td>\n",
       "      <td>Pave</td>\n",
       "      <td>NaN</td>\n",
       "      <td>IR1</td>\n",
       "      <td>Lvl</td>\n",
       "      <td>AllPub</td>\n",
       "      <td>...</td>\n",
       "      <td>0</td>\n",
       "      <td>NaN</td>\n",
       "      <td>NaN</td>\n",
       "      <td>NaN</td>\n",
       "      <td>0</td>\n",
       "      <td>9</td>\n",
       "      <td>2008</td>\n",
       "      <td>WD</td>\n",
       "      <td>Normal</td>\n",
       "      <td>223500</td>\n",
       "    </tr>\n",
       "    <tr>\n",
       "      <th>3</th>\n",
       "      <td>4</td>\n",
       "      <td>70</td>\n",
       "      <td>RL</td>\n",
       "      <td>60.0</td>\n",
       "      <td>9550</td>\n",
       "      <td>Pave</td>\n",
       "      <td>NaN</td>\n",
       "      <td>IR1</td>\n",
       "      <td>Lvl</td>\n",
       "      <td>AllPub</td>\n",
       "      <td>...</td>\n",
       "      <td>0</td>\n",
       "      <td>NaN</td>\n",
       "      <td>NaN</td>\n",
       "      <td>NaN</td>\n",
       "      <td>0</td>\n",
       "      <td>2</td>\n",
       "      <td>2006</td>\n",
       "      <td>WD</td>\n",
       "      <td>Abnorml</td>\n",
       "      <td>140000</td>\n",
       "    </tr>\n",
       "    <tr>\n",
       "      <th>4</th>\n",
       "      <td>5</td>\n",
       "      <td>60</td>\n",
       "      <td>RL</td>\n",
       "      <td>84.0</td>\n",
       "      <td>14260</td>\n",
       "      <td>Pave</td>\n",
       "      <td>NaN</td>\n",
       "      <td>IR1</td>\n",
       "      <td>Lvl</td>\n",
       "      <td>AllPub</td>\n",
       "      <td>...</td>\n",
       "      <td>0</td>\n",
       "      <td>NaN</td>\n",
       "      <td>NaN</td>\n",
       "      <td>NaN</td>\n",
       "      <td>0</td>\n",
       "      <td>12</td>\n",
       "      <td>2008</td>\n",
       "      <td>WD</td>\n",
       "      <td>Normal</td>\n",
       "      <td>250000</td>\n",
       "    </tr>\n",
       "  </tbody>\n",
       "</table>\n",
       "<p>5 rows × 81 columns</p>\n",
       "</div>"
      ],
      "text/plain": [
       "   Id  MSSubClass MSZoning  LotFrontage  LotArea Street Alley LotShape  \\\n",
       "0   1          60       RL         65.0     8450   Pave   NaN      Reg   \n",
       "1   2          20       RL         80.0     9600   Pave   NaN      Reg   \n",
       "2   3          60       RL         68.0    11250   Pave   NaN      IR1   \n",
       "3   4          70       RL         60.0     9550   Pave   NaN      IR1   \n",
       "4   5          60       RL         84.0    14260   Pave   NaN      IR1   \n",
       "\n",
       "  LandContour Utilities    ...     PoolArea PoolQC Fence MiscFeature MiscVal  \\\n",
       "0         Lvl    AllPub    ...            0    NaN   NaN         NaN       0   \n",
       "1         Lvl    AllPub    ...            0    NaN   NaN         NaN       0   \n",
       "2         Lvl    AllPub    ...            0    NaN   NaN         NaN       0   \n",
       "3         Lvl    AllPub    ...            0    NaN   NaN         NaN       0   \n",
       "4         Lvl    AllPub    ...            0    NaN   NaN         NaN       0   \n",
       "\n",
       "  MoSold YrSold  SaleType  SaleCondition  SalePrice  \n",
       "0      2   2008        WD         Normal     208500  \n",
       "1      5   2007        WD         Normal     181500  \n",
       "2      9   2008        WD         Normal     223500  \n",
       "3      2   2006        WD        Abnorml     140000  \n",
       "4     12   2008        WD         Normal     250000  \n",
       "\n",
       "[5 rows x 81 columns]"
      ]
     },
     "execution_count": 4,
     "metadata": {},
     "output_type": "execute_result"
    }
   ],
   "source": [
    "df = pd.read_csv('train.csv')\n",
    "df.head()"
   ]
  },
  {
   "cell_type": "code",
   "execution_count": 3,
   "metadata": {
    "_cell_guid": "db5a42a6-e2ab-dcf1-dfe8-c4e9c33d1aa9",
    "collapsed": true
   },
   "outputs": [],
   "source": [
    "\n",
    "df.describe()"
   ]
  },
  {
   "cell_type": "code",
   "execution_count": 4,
   "metadata": {
    "_cell_guid": "dc814d33-b861-0638-a0a6-84eb771038c4",
    "collapsed": true
   },
   "outputs": [],
   "source": [
    "df.columns"
   ]
  },
  {
   "cell_type": "code",
   "execution_count": 5,
   "metadata": {
    "_cell_guid": "6eb09609-9207-3223-b9e6-6565568e3d3c",
    "collapsed": true
   },
   "outputs": [],
   "source": [
    "import seaborn as sns\n",
    "import matplotlib.pyplot as plt\n",
    "%matplotlib inline  "
   ]
  },
  {
   "cell_type": "code",
   "execution_count": 6,
   "metadata": {
    "_cell_guid": "803e5ec4-2f42-f352-0a18-36e2736cc8ed",
    "collapsed": true
   },
   "outputs": [],
   "source": [
    "print(\"Some Statistics of the Housing Price:\\n\")\n",
    "print(df['SalePrice'].describe())\n",
    "print(\"\\nThe median of the Housing Price is: \", df['SalePrice'].median(axis = 0))"
   ]
  },
  {
   "cell_type": "code",
   "execution_count": 7,
   "metadata": {
    "_cell_guid": "d4e05606-f389-c364-f63b-c0064347c2e0",
    "collapsed": true
   },
   "outputs": [],
   "source": [
    "sns.distplot(df['SalePrice'], kde = False, color = 'b', hist_kws={'alpha': 0.9})"
   ]
  },
  {
   "cell_type": "markdown",
   "metadata": {
    "_cell_guid": "269cea96-8b89-0767-3b2c-a9659c1665be"
   },
   "source": [
    "Numerical Features\n",
    "--------------------"
   ]
  },
  {
   "cell_type": "code",
   "execution_count": 8,
   "metadata": {
    "_cell_guid": "954ec55a-f422-9aca-8c5b-b7201d47bc8c",
    "collapsed": true
   },
   "outputs": [],
   "source": [
    "corr = df.select_dtypes(include = ['float64', 'int64']).iloc[:, 1:].corr()\n",
    "plt.figure(figsize=(12, 12))\n",
    "sns.heatmap(corr, vmax=1, square=True)"
   ]
  },
  {
   "cell_type": "code",
   "execution_count": 9,
   "metadata": {
    "_cell_guid": "04a26038-5e81-cc79-ef1e-be0c5b720f47",
    "collapsed": true
   },
   "outputs": [],
   "source": [
    "cor_dict = corr['SalePrice'].to_dict()\n",
    "del cor_dict['SalePrice']\n",
    "print(\"List the numerical features decendingly by their correlation with Sale Price:\\n\")\n",
    "for ele in sorted(cor_dict.items(), key = lambda x: -abs(x[1])):\n",
    "    print(\"{0}: \\t{1}\".format(*ele))"
   ]
  },
  {
   "cell_type": "markdown",
   "metadata": {
    "_cell_guid": "8313370a-4edd-251a-e004-c138b455a5d2"
   },
   "source": [
    "The housing price correlates strongly with **OverallQual, GrLivArea(GarageCars), GargeArea, TotalBsmtSF, 1stFlrSF, FullBath, TotRmsAbvGrd, YearBuilt, YearRemodAdd, GargeYrBlt, MasVnrArea and Fireplaces.** But some of those features are highly correlated among each others."
   ]
  },
  {
   "cell_type": "code",
   "execution_count": 10,
   "metadata": {
    "_cell_guid": "b620a982-b844-dba1-2c8d-90542aacf716",
    "collapsed": true
   },
   "outputs": [],
   "source": [
    "sns.regplot(x = 'OverallQual', y = 'SalePrice', data = df, color = 'Orange')"
   ]
  },
  {
   "cell_type": "code",
   "execution_count": 11,
   "metadata": {
    "_cell_guid": "3a1acc1f-7a43-e7e3-2554-eecd6c134353",
    "collapsed": true
   },
   "outputs": [],
   "source": [
    "plt.figure(1)\n",
    "f, axarr = plt.subplots(3, 2, figsize=(10, 9))\n",
    "price = df.SalePrice.values\n",
    "axarr[0, 0].scatter(df.GrLivArea.values, price)\n",
    "axarr[0, 0].set_title('GrLiveArea')\n",
    "axarr[0, 1].scatter(df.GarageArea.values, price)\n",
    "axarr[0, 1].set_title('GarageArea')\n",
    "axarr[1, 0].scatter(df.TotalBsmtSF.values, price)\n",
    "axarr[1, 0].set_title('TotalBsmtSF')\n",
    "axarr[1, 1].scatter(df['1stFlrSF'].values, price)\n",
    "axarr[1, 1].set_title('1stFlrSF')\n",
    "axarr[2, 0].scatter(df.TotRmsAbvGrd.values, price)\n",
    "axarr[2, 0].set_title('TotRmsAbvGrd')\n",
    "axarr[2, 1].scatter(df.MasVnrArea.values, price)\n",
    "axarr[2, 1].set_title('MasVnrArea')\n",
    "f.text(-0.01, 0.5, 'Sale Price', va='center', rotation='vertical', fontsize = 12)\n",
    "plt.tight_layout()\n",
    "plt.show()"
   ]
  },
  {
   "cell_type": "code",
   "execution_count": 12,
   "metadata": {
    "_cell_guid": "95eb9a97-69eb-7c17-cd0a-4e72c6459834",
    "collapsed": true
   },
   "outputs": [],
   "source": [
    "fig = plt.figure(2, figsize=(9, 7))\n",
    "plt.subplot(211)\n",
    "plt.scatter(df.YearBuilt.values, price)\n",
    "plt.title('YearBuilt')\n",
    "\n",
    "plt.subplot(212)\n",
    "plt.scatter(df.YearRemodAdd.values, price)\n",
    "plt.title('YearRemodAdd')\n",
    "\n",
    "fig.text(-0.01, 0.5, 'Sale Price', va = 'center', rotation = 'vertical', fontsize = 12)\n",
    "\n",
    "plt.tight_layout()"
   ]
  },
  {
   "cell_type": "markdown",
   "metadata": {
    "_cell_guid": "aed42a55-340b-d6f3-caee-098adfc2e25b"
   },
   "source": [
    "## Categorical Features ##"
   ]
  },
  {
   "cell_type": "code",
   "execution_count": 13,
   "metadata": {
    "_cell_guid": "fda6688b-9466-a88d-0dec-b1b61cc7e2bc",
    "collapsed": true
   },
   "outputs": [],
   "source": [
    "print(df.select_dtypes(include=['object']).columns.values)"
   ]
  },
  {
   "cell_type": "markdown",
   "metadata": {
    "_cell_guid": "8a8825ec-699f-fd9f-8be7-9b2805f0dc44"
   },
   "source": [
    " * **Neighborhood**"
   ]
  },
  {
   "cell_type": "code",
   "execution_count": 14,
   "metadata": {
    "_cell_guid": "fbf61410-8551-27d5-49ca-f45bf9e07228",
    "collapsed": true
   },
   "outputs": [],
   "source": [
    "plt.figure(figsize = (12, 6))\n",
    "sns.boxplot(x = 'Neighborhood', y = 'SalePrice',  data = df)\n",
    "xt = plt.xticks(rotation=45)"
   ]
  },
  {
   "cell_type": "code",
   "execution_count": 15,
   "metadata": {
    "_cell_guid": "4367bfcd-3210-4070-9d7f-aa96ddc49971",
    "collapsed": true
   },
   "outputs": [],
   "source": [
    "plt.figure(figsize = (12, 6))\n",
    "sns.countplot(x = 'Neighborhood', data = df)\n",
    "xt = plt.xticks(rotation=45)"
   ]
  },
  {
   "cell_type": "markdown",
   "metadata": {
    "_cell_guid": "7f82b777-5700-d69f-eac7-bb658615e226"
   },
   "source": [
    "Could group those Neighborhoods with similar housing price into a same bucket for dimension-reduction."
   ]
  },
  {
   "cell_type": "markdown",
   "metadata": {
    "_cell_guid": "222cc23e-709d-76d3-1eb1-1af9cd262284"
   },
   "source": [
    "**Housing Price vs Sales**\n",
    " \n",
    " - Sale Type & Condition\n",
    " - Sales Seasonality"
   ]
  },
  {
   "cell_type": "code",
   "execution_count": null,
   "metadata": {
    "_cell_guid": "b1e62dc6-0860-75df-6a65-125e12f826a8",
    "collapsed": true
   },
   "outputs": [],
   "source": [
    "fig, ax = plt.subplots(2, 1, figsize = (10, 6))\n",
    "sns.boxplot(x = 'SaleType', y = 'SalePrice', data = df, ax = ax[0])\n",
    "sns.boxplot(x = 'SaleCondition', y = 'SalePrice', data = df, ax = ax[1])\n",
    "plt.tight_layout()"
   ]
  },
  {
   "cell_type": "code",
   "execution_count": null,
   "metadata": {
    "_cell_guid": "2637b429-a0d9-3783-290c-d05466c009c6",
    "collapsed": true
   },
   "outputs": [],
   "source": [
    "g = sns.FacetGrid(df, col = 'YrSold', col_wrap = 3)\n",
    "g.map(sns.boxplot, 'MoSold', 'SalePrice', palette='Set2', order = range(1, 13))\\\n",
    ".set(ylim = (0, 500000))\n",
    "plt.tight_layout()"
   ]
  },
  {
   "cell_type": "markdown",
   "metadata": {
    "_cell_guid": "50745e14-1593-4235-6697-4c970475f26e"
   },
   "source": [
    "Sale's timing does not seem to hugely affect the house. "
   ]
  },
  {
   "cell_type": "markdown",
   "metadata": {
    "_cell_guid": "766dfd0b-8363-bf7c-2f98-9a0a9b616713"
   },
   "source": [
    " * **Housing Style**"
   ]
  },
  {
   "cell_type": "code",
   "execution_count": null,
   "metadata": {
    "_cell_guid": "1f706539-429c-a4ad-dc3b-ca727e988e4f",
    "collapsed": true
   },
   "outputs": [],
   "source": [
    "fig, ax = plt.subplots(2, 1, figsize = (10, 8))\n",
    "sns.boxplot(x = 'BldgType', y = 'SalePrice', data = df, ax = ax[0])\n",
    "sns.boxplot(x = 'HouseStyle', y = 'SalePrice', data = df, ax = ax[1])"
   ]
  },
  {
   "cell_type": "markdown",
   "metadata": {
    "_cell_guid": "a84a44cb-7311-91a1-d0d0-d06ced7c8794"
   },
   "source": [
    " * **Housing Condition**"
   ]
  },
  {
   "cell_type": "code",
   "execution_count": null,
   "metadata": {
    "_cell_guid": "148782e3-6929-d180-d044-46653cfa15ad",
    "collapsed": true
   },
   "outputs": [],
   "source": [
    "fig, ax = plt.subplots(2, 1, figsize = (10, 8))\n",
    "sns.boxplot(x = 'Condition1', y = 'SalePrice', data = df, ax = ax[0])\n",
    "sns.boxplot(x = 'Exterior1st', y = 'SalePrice', data = df, ax = ax[1])\n",
    "x = plt.xticks(rotation = 45)\n",
    "plt.show()"
   ]
  },
  {
   "cell_type": "markdown",
   "metadata": {
    "_cell_guid": "753ada87-91db-2fab-5941-6b4782483c7c"
   },
   "source": [
    " * **Basement Conditions**"
   ]
  },
  {
   "cell_type": "code",
   "execution_count": null,
   "metadata": {
    "_cell_guid": "97e4b339-6c88-80ed-18e2-4f053739e323",
    "collapsed": true
   },
   "outputs": [],
   "source": [
    "fig, ax = plt.subplots(2, 2, figsize = (10, 8))\n",
    "sns.boxplot('BsmtCond', 'SalePrice', data = df, ax = ax[0, 0])\n",
    "sns.boxplot('BsmtQual', 'SalePrice', data = df, ax = ax[0, 1])\n",
    "sns.boxplot('BsmtExposure', 'SalePrice', data = df, ax = ax[1, 0])\n",
    "sns.boxplot('BsmtFinType1', 'SalePrice', data = df, ax = ax[1, 1])"
   ]
  },
  {
   "cell_type": "markdown",
   "metadata": {
    "_cell_guid": "4073a6eb-8d4b-bb25-503d-62e9e3dae7b3"
   },
   "source": [
    " * **Home Functionality** "
   ]
  },
  {
   "cell_type": "code",
   "execution_count": null,
   "metadata": {
    "_cell_guid": "2fe061dc-85cd-4801-0b10-1326fb84c195",
    "collapsed": true
   },
   "outputs": [],
   "source": [
    "sns.violinplot('Functional', 'SalePrice', data = df)"
   ]
  },
  {
   "cell_type": "markdown",
   "metadata": {
    "_cell_guid": "1a239c31-312b-eb8c-6131-fdc120877f63"
   },
   "source": [
    "* **FirePlaceQu**"
   ]
  },
  {
   "cell_type": "code",
   "execution_count": null,
   "metadata": {
    "_cell_guid": "f3b07ec5-7878-18c9-c29a-8fad3ae66c6e",
    "collapsed": true
   },
   "outputs": [],
   "source": [
    "sns.factorplot('FireplaceQu', 'SalePrice', data = df, color = 'm', \\\n",
    "               estimator = np.median, order = ['Ex', 'Gd', 'TA', 'Fa', 'Po'], size = 4.5,  aspect=1.35)"
   ]
  },
  {
   "cell_type": "code",
   "execution_count": null,
   "metadata": {
    "_cell_guid": "e8d4ffda-b1e4-1ccf-c0d7-225d077e5d3d",
    "collapsed": true
   },
   "outputs": [],
   "source": [
    "pd.crosstab(df.Fireplaces, df.FireplaceQu)"
   ]
  },
  {
   "cell_type": "code",
   "execution_count": null,
   "metadata": {
    "_cell_guid": "29b7a11b-5642-6561-c7ec-45ddaaf5b9f0",
    "collapsed": true
   },
   "outputs": [],
   "source": [
    "g = sns.FacetGrid(df, col = 'FireplaceQu', col_wrap = 3, col_order=['Ex', 'Gd', 'TA', 'Fa', 'Po'])\n",
    "g.map(sns.boxplot, 'Fireplaces', 'SalePrice', order = [1, 2, 3], palette = 'Set2')"
   ]
  },
  {
   "cell_type": "markdown",
   "metadata": {
    "_cell_guid": "6d651a10-bbd3-0353-2e27-483a8d5884d8"
   },
   "source": [
    " * **Heating**\n",
    "\n",
    "Ames is a cold place in winter, so heating (as well as fireplace qualities) are quite important."
   ]
  },
  {
   "cell_type": "code",
   "execution_count": null,
   "metadata": {
    "_cell_guid": "2d35fe95-c472-3b01-a69b-6127e10a692b",
    "collapsed": true
   },
   "outputs": [],
   "source": [
    "pd.crosstab(df.HeatingQC, df.CentralAir)"
   ]
  },
  {
   "cell_type": "code",
   "execution_count": null,
   "metadata": {
    "_cell_guid": "ba9645fb-a9fc-45e1-2bbb-b230dd900ffe",
    "collapsed": true
   },
   "outputs": [],
   "source": [
    "pd.crosstab(df.HeatingQC, df.FireplaceQu)"
   ]
  },
  {
   "cell_type": "code",
   "execution_count": null,
   "metadata": {
    "_cell_guid": "ccf12cca-eff5-dbfc-216a-9ab459cf8337",
    "collapsed": true
   },
   "outputs": [],
   "source": [
    "\n",
    "sns.factorplot('HeatingQC', 'SalePrice', hue = 'CentralAir', estimator = np.mean, data = df, \n",
    "             size = 4.5, aspect = 1.4)"
   ]
  },
  {
   "cell_type": "markdown",
   "metadata": {
    "_cell_guid": "c09ffb97-e05e-93f5-b64f-2a2e9ef25a1c"
   },
   "source": [
    "Clearly, having AC or not has a big impact on housing price.   "
   ]
  },
  {
   "cell_type": "code",
   "execution_count": null,
   "metadata": {
    "_cell_guid": "40285fee-4a9a-9eda-9588-7f163b5abe1b",
    "collapsed": true
   },
   "outputs": [],
   "source": [
    "fig, ax = plt.subplots(1, 2, figsize = (10, 4))\n",
    "sns.boxplot('Electrical', 'SalePrice', data = df, ax = ax[0]).set(ylim = (0, 400000))\n",
    "sns.countplot('Electrical', data = df)\n",
    "plt.tight_layout()"
   ]
  },
  {
   "cell_type": "markdown",
   "metadata": {
    "_cell_guid": "dd55e173-293b-51ea-60f8-0a0f0d5e40ce"
   },
   "source": [
    " * **Kitchen Quality**"
   ]
  },
  {
   "cell_type": "code",
   "execution_count": null,
   "metadata": {
    "_cell_guid": "5728c28b-3da2-a631-e300-bb8aa71ac18d",
    "collapsed": true
   },
   "outputs": [],
   "source": [
    "sns.factorplot('KitchenQual', 'SalePrice', estimator = np.mean, \n",
    "               size = 4.5, aspect = 1.4, data = df, order = ['Ex', 'Gd', 'TA', 'Fa'])"
   ]
  },
  {
   "cell_type": "markdown",
   "metadata": {
    "_cell_guid": "e7dcffa3-56b1-8d29-fbb7-1bad2110aa56"
   },
   "source": [
    " * **MSZonig**"
   ]
  },
  {
   "cell_type": "code",
   "execution_count": null,
   "metadata": {
    "_cell_guid": "5f8ebe1d-eadc-0492-87ca-97ba1fc84ad4",
    "collapsed": true
   },
   "outputs": [],
   "source": [
    "sns.boxplot(x = 'MSZoning', y = 'SalePrice', data = df)"
   ]
  },
  {
   "cell_type": "markdown",
   "metadata": {
    "_cell_guid": "765d1b60-92d3-484e-89f2-665ce0910ba2"
   },
   "source": [
    " * **Street & Alley Access**"
   ]
  },
  {
   "cell_type": "code",
   "execution_count": null,
   "metadata": {
    "_cell_guid": "d664d357-75f0-8315-8f14-bf0eb7ea164d",
    "collapsed": true
   },
   "outputs": [],
   "source": [
    "\n",
    "fig, ax = plt.subplots(1, 2, figsize = (10, 4))\n",
    "sns.boxplot(x = 'Street', y = 'SalePrice', data = df, ax = ax[0])\n",
    "sns.boxplot(x = 'Alley', y = 'SalePrice', data = df, ax = ax[1])\n",
    "plt.tight_layout()"
   ]
  },
  {
   "cell_type": "code",
   "execution_count": null,
   "metadata": {
    "_cell_guid": "d1260036-c5b0-1fcd-15c8-7e4b7a6298d4",
    "collapsed": true
   },
   "outputs": [],
   "source": [
    "print(\"The NA's in Alley is: \", df['Alley'].isnull().sum())\n",
    "print(\"\\nThere are so many NA's in Alley. When Alley is NA, Street = \", \n",
    "      df[df.Alley.notnull()].Street.unique())\n",
    "print(\"\\n\", pd.crosstab(df.Street, df.Alley))"
   ]
  },
  {
   "cell_type": "code",
   "execution_count": null,
   "metadata": {
    "_cell_guid": "74f0a806-f4d5-7cfd-0bfd-e66e01c0f79b",
    "collapsed": true
   },
   "outputs": [],
   "source": []
  }
 ],
 "metadata": {
  "_change_revision": 102,
  "_is_fork": false,
  "kernelspec": {
   "display_name": "Python [Root]",
   "language": "python",
   "name": "Python [Root]"
  },
  "language_info": {
   "codemirror_mode": {
    "name": "ipython",
    "version": 3
   },
   "file_extension": ".py",
   "mimetype": "text/x-python",
   "name": "python",
   "nbconvert_exporter": "python",
   "pygments_lexer": "ipython3",
   "version": "3.5.2"
  }
 },
 "nbformat": 4,
 "nbformat_minor": 0
}
