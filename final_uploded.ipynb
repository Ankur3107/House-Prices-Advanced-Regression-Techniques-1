{
 "cells": [
  {
   "cell_type": "markdown",
   "metadata": {
    "_cell_guid": "e6335977-1dcb-a5bc-4856-184dd7bce3f9"
   },
   "source": [
    "## Trying out a linear model: \n",
    "\n",
    "There have been a few [great](https://www.kaggle.com/comartel/house-prices-advanced-regression-techniques/house-price-xgboost-starter/run/348739)  [scripts](https://www.kaggle.com/zoupet/house-prices-advanced-regression-techniques/xgboost-10-kfolds-with-scikit-learn/run/357561) on [xgboost](https://www.kaggle.com/tadepalli/house-prices-advanced-regression-techniques/xgboost-with-n-trees-autostop-0-12638/run/353049) already so I'd figured I'd try something simpler: a regularized linear regression model. Surprisingly it does really well with very little feature engineering. The key point is to to log_transform the numeric variables since most of them are skewed."
   ]
  },
  {
   "cell_type": "code",
   "execution_count": 1,
   "metadata": {
    "_cell_guid": "0d706811-b70c-aeab-a78b-3c7abd9978d3",
    "collapsed": true
   },
   "outputs": [],
   "source": [
    "import pandas as pd\n",
    "import numpy as np\n",
    "import seaborn as sns\n",
    "import matplotlib\n",
    "import matplotlib.pyplot as plt\n",
    "from scipy.stats import skew\n",
    "\n",
    "%config InlineBackend.figure_format = 'png' #set 'png' here when working on notebook\n",
    "%matplotlib inline"
   ]
  },
  {
   "cell_type": "code",
   "execution_count": 2,
   "metadata": {
    "_cell_guid": "603292c1-44b7-d72a-5468-e6782f311603",
    "collapsed": false
   },
   "outputs": [],
   "source": [
    "train = pd.read_csv(\"train.csv\")\n",
    "test = pd.read_csv(\"test.csv\")"
   ]
  },
  {
   "cell_type": "code",
   "execution_count": 3,
   "metadata": {
    "_cell_guid": "d646bb1b-56c4-9b45-d5d4-27095f61b1c0",
    "collapsed": false
   },
   "outputs": [
    {
     "data": {
      "text/html": [
       "<div>\n",
       "<table border=\"1\" class=\"dataframe\">\n",
       "  <thead>\n",
       "    <tr style=\"text-align: right;\">\n",
       "      <th></th>\n",
       "      <th>Id</th>\n",
       "      <th>MSSubClass</th>\n",
       "      <th>MSZoning</th>\n",
       "      <th>LotFrontage</th>\n",
       "      <th>LotArea</th>\n",
       "      <th>Street</th>\n",
       "      <th>Alley</th>\n",
       "      <th>LotShape</th>\n",
       "      <th>LandContour</th>\n",
       "      <th>Utilities</th>\n",
       "      <th>...</th>\n",
       "      <th>PoolArea</th>\n",
       "      <th>PoolQC</th>\n",
       "      <th>Fence</th>\n",
       "      <th>MiscFeature</th>\n",
       "      <th>MiscVal</th>\n",
       "      <th>MoSold</th>\n",
       "      <th>YrSold</th>\n",
       "      <th>SaleType</th>\n",
       "      <th>SaleCondition</th>\n",
       "      <th>SalePrice</th>\n",
       "    </tr>\n",
       "  </thead>\n",
       "  <tbody>\n",
       "    <tr>\n",
       "      <th>0</th>\n",
       "      <td>1</td>\n",
       "      <td>60</td>\n",
       "      <td>RL</td>\n",
       "      <td>65.0</td>\n",
       "      <td>8450</td>\n",
       "      <td>Pave</td>\n",
       "      <td>NaN</td>\n",
       "      <td>Reg</td>\n",
       "      <td>Lvl</td>\n",
       "      <td>AllPub</td>\n",
       "      <td>...</td>\n",
       "      <td>0</td>\n",
       "      <td>NaN</td>\n",
       "      <td>NaN</td>\n",
       "      <td>NaN</td>\n",
       "      <td>0</td>\n",
       "      <td>2</td>\n",
       "      <td>2008</td>\n",
       "      <td>WD</td>\n",
       "      <td>Normal</td>\n",
       "      <td>208500</td>\n",
       "    </tr>\n",
       "    <tr>\n",
       "      <th>1</th>\n",
       "      <td>2</td>\n",
       "      <td>20</td>\n",
       "      <td>RL</td>\n",
       "      <td>80.0</td>\n",
       "      <td>9600</td>\n",
       "      <td>Pave</td>\n",
       "      <td>NaN</td>\n",
       "      <td>Reg</td>\n",
       "      <td>Lvl</td>\n",
       "      <td>AllPub</td>\n",
       "      <td>...</td>\n",
       "      <td>0</td>\n",
       "      <td>NaN</td>\n",
       "      <td>NaN</td>\n",
       "      <td>NaN</td>\n",
       "      <td>0</td>\n",
       "      <td>5</td>\n",
       "      <td>2007</td>\n",
       "      <td>WD</td>\n",
       "      <td>Normal</td>\n",
       "      <td>181500</td>\n",
       "    </tr>\n",
       "    <tr>\n",
       "      <th>2</th>\n",
       "      <td>3</td>\n",
       "      <td>60</td>\n",
       "      <td>RL</td>\n",
       "      <td>68.0</td>\n",
       "      <td>11250</td>\n",
       "      <td>Pave</td>\n",
       "      <td>NaN</td>\n",
       "      <td>IR1</td>\n",
       "      <td>Lvl</td>\n",
       "      <td>AllPub</td>\n",
       "      <td>...</td>\n",
       "      <td>0</td>\n",
       "      <td>NaN</td>\n",
       "      <td>NaN</td>\n",
       "      <td>NaN</td>\n",
       "      <td>0</td>\n",
       "      <td>9</td>\n",
       "      <td>2008</td>\n",
       "      <td>WD</td>\n",
       "      <td>Normal</td>\n",
       "      <td>223500</td>\n",
       "    </tr>\n",
       "    <tr>\n",
       "      <th>3</th>\n",
       "      <td>4</td>\n",
       "      <td>70</td>\n",
       "      <td>RL</td>\n",
       "      <td>60.0</td>\n",
       "      <td>9550</td>\n",
       "      <td>Pave</td>\n",
       "      <td>NaN</td>\n",
       "      <td>IR1</td>\n",
       "      <td>Lvl</td>\n",
       "      <td>AllPub</td>\n",
       "      <td>...</td>\n",
       "      <td>0</td>\n",
       "      <td>NaN</td>\n",
       "      <td>NaN</td>\n",
       "      <td>NaN</td>\n",
       "      <td>0</td>\n",
       "      <td>2</td>\n",
       "      <td>2006</td>\n",
       "      <td>WD</td>\n",
       "      <td>Abnorml</td>\n",
       "      <td>140000</td>\n",
       "    </tr>\n",
       "    <tr>\n",
       "      <th>4</th>\n",
       "      <td>5</td>\n",
       "      <td>60</td>\n",
       "      <td>RL</td>\n",
       "      <td>84.0</td>\n",
       "      <td>14260</td>\n",
       "      <td>Pave</td>\n",
       "      <td>NaN</td>\n",
       "      <td>IR1</td>\n",
       "      <td>Lvl</td>\n",
       "      <td>AllPub</td>\n",
       "      <td>...</td>\n",
       "      <td>0</td>\n",
       "      <td>NaN</td>\n",
       "      <td>NaN</td>\n",
       "      <td>NaN</td>\n",
       "      <td>0</td>\n",
       "      <td>12</td>\n",
       "      <td>2008</td>\n",
       "      <td>WD</td>\n",
       "      <td>Normal</td>\n",
       "      <td>250000</td>\n",
       "    </tr>\n",
       "  </tbody>\n",
       "</table>\n",
       "<p>5 rows × 81 columns</p>\n",
       "</div>"
      ],
      "text/plain": [
       "   Id  MSSubClass MSZoning  LotFrontage  LotArea Street Alley LotShape  \\\n",
       "0   1          60       RL         65.0     8450   Pave   NaN      Reg   \n",
       "1   2          20       RL         80.0     9600   Pave   NaN      Reg   \n",
       "2   3          60       RL         68.0    11250   Pave   NaN      IR1   \n",
       "3   4          70       RL         60.0     9550   Pave   NaN      IR1   \n",
       "4   5          60       RL         84.0    14260   Pave   NaN      IR1   \n",
       "\n",
       "  LandContour Utilities    ...     PoolArea PoolQC Fence MiscFeature MiscVal  \\\n",
       "0         Lvl    AllPub    ...            0    NaN   NaN         NaN       0   \n",
       "1         Lvl    AllPub    ...            0    NaN   NaN         NaN       0   \n",
       "2         Lvl    AllPub    ...            0    NaN   NaN         NaN       0   \n",
       "3         Lvl    AllPub    ...            0    NaN   NaN         NaN       0   \n",
       "4         Lvl    AllPub    ...            0    NaN   NaN         NaN       0   \n",
       "\n",
       "  MoSold YrSold  SaleType  SaleCondition  SalePrice  \n",
       "0      2   2008        WD         Normal     208500  \n",
       "1      5   2007        WD         Normal     181500  \n",
       "2      9   2008        WD         Normal     223500  \n",
       "3      2   2006        WD        Abnorml     140000  \n",
       "4     12   2008        WD         Normal     250000  \n",
       "\n",
       "[5 rows x 81 columns]"
      ]
     },
     "execution_count": 3,
     "metadata": {},
     "output_type": "execute_result"
    }
   ],
   "source": [
    "train.head()"
   ]
  },
  {
   "cell_type": "code",
   "execution_count": 4,
   "metadata": {
    "_cell_guid": "cb2d88d7-7f76-4b04-d28b-d2c315ae4346",
    "collapsed": true
   },
   "outputs": [],
   "source": [
    "all_data = pd.concat((train.loc[:,'MSSubClass':'SaleCondition'],\n",
    "                      test.loc[:,'MSSubClass':'SaleCondition']))"
   ]
  },
  {
   "cell_type": "markdown",
   "metadata": {
    "_cell_guid": "29fa13df-61e8-b0c2-b3a7-ea92bffd4396"
   },
   "source": [
    "###Data preprocessing: \n",
    "We're not going to do anything fancy here: \n",
    " \n",
    "- First I'll transform the skewed numeric features by taking log(feature + 1) - this will make the features more normal    \n",
    "- Create Dummy variables for the categorical features    \n",
    "- Replace the numeric missing values (NaN's) with the mean of their respective columns"
   ]
  },
  {
   "cell_type": "code",
   "execution_count": 5,
   "metadata": {
    "_cell_guid": "9b5a3e5b-f683-3fd2-7269-4068975bbe42",
    "collapsed": false
   },
   "outputs": [
    {
     "data": {
      "text/plain": [
       "array([[<matplotlib.axes._subplots.AxesSubplot object at 0x7fd8b9904f60>,\n",
       "        <matplotlib.axes._subplots.AxesSubplot object at 0x7fd8b7877898>]], dtype=object)"
      ]
     },
     "execution_count": 5,
     "metadata": {},
     "output_type": "execute_result"
    },
    {
     "data": {
      "image/png": "[encoded data removed]",
      "text/plain": [
       "<matplotlib.figure.Figure at 0x7fd8b9900a90>"
      ]
     },
     "metadata": {},
     "output_type": "display_data"
    }
   ],
   "source": [
    "matplotlib.rcParams['figure.figsize'] = (12.0, 6.0)\n",
    "prices = pd.DataFrame({\"price\":train[\"SalePrice\"], \"log(price + 1)\":np.log1p(train[\"SalePrice\"])})\n",
    "prices.hist()"
   ]
  },
  {
   "cell_type": "code",
   "execution_count": 6,
   "metadata": {
    "_cell_guid": "4ed54771-95c4-00e7-b2cd-569d17862878",
    "collapsed": true
   },
   "outputs": [],
   "source": [
    "#log transform the target:\n",
    "train[\"SalePrice\"] = np.log1p(train[\"SalePrice\"])\n",
    "\n",
    "#log transform skewed numeric features:\n",
    "numeric_feats = all_data.dtypes[all_data.dtypes != \"object\"].index\n",
    "\n",
    "skewed_feats = train[numeric_feats].apply(lambda x: skew(x.dropna())) #compute skewness\n",
    "skewed_feats = skewed_feats[skewed_feats > 0.75]\n",
    "skewed_feats = skewed_feats.index\n",
    "\n",
    "all_data[skewed_feats] = np.log1p(all_data[skewed_feats])"
   ]
  },
  {
   "cell_type": "code",
   "execution_count": 7,
   "metadata": {
    "_cell_guid": "3854ab12-a4f3-4c88-fe6e-1fee08e18af2",
    "collapsed": false
   },
   "outputs": [
    {
     "name": "stdout",
     "output_type": "stream",
     "text": [
      "      MSSubClass  LotFrontage    LotArea  OverallQual  OverallCond  YearBuilt  \\\n",
      "0       4.110874     4.189655   9.042040            7            5       2003   \n",
      "1       3.044522     4.394449   9.169623            6            8       1976   \n",
      "2       4.110874     4.234107   9.328212            7            5       2001   \n",
      "3       4.262680     4.110874   9.164401            7            5       1915   \n",
      "4       4.110874     4.442651   9.565284            8            5       2000   \n",
      "5       3.931826     4.454347   9.555064            5            5       1993   \n",
      "6       3.044522     4.330733   9.218804            8            5       2004   \n",
      "7       4.110874          NaN   9.247925            7            6       1973   \n",
      "8       3.931826     3.951244   8.719481            7            5       1931   \n",
      "9       5.252273     3.931826   8.912069            5            6       1939   \n",
      "10      3.044522     4.262680   9.323758            5            5       1965   \n",
      "11      4.110874     4.454347   9.386392            9            5       2005   \n",
      "12      3.044522          NaN   9.470317            5            6       1962   \n",
      "13      3.044522     4.521789   9.273597            7            5       2006   \n",
      "14      3.044522          NaN   9.298443            6            5       1960   \n",
      "15      3.828641     3.951244   8.719481            7            8       1929   \n",
      "16      3.044522          NaN   9.327412            6            7       1970   \n",
      "17      4.510860     4.290459   9.286560            4            5       1967   \n",
      "18      3.044522     4.204693   9.524859            5            5       2004   \n",
      "19      3.044522     4.262680   8.930759            5            6       1958   \n",
      "20      4.110874     4.624973   9.562123            8            5       2005   \n",
      "21      3.828641     4.060443   8.915969            7            7       1930   \n",
      "22      3.044522     4.330733   9.184304            8            5       2002   \n",
      "23      4.795791     3.806662   8.348775            5            7       1976   \n",
      "24      3.044522          NaN   9.017605            5            8       1968   \n",
      "25      3.044522     4.709530   9.563178            8            5       2007   \n",
      "26      3.044522     4.110874   8.881975            5            7       1951   \n",
      "27      3.044522     4.595120   9.348275            8            5       2007   \n",
      "28      3.044522     3.871201   9.700269            5            6       1957   \n",
      "29      3.433987     4.110874   8.752265            4            6       1927   \n",
      "...          ...          ...        ...          ...          ...        ...   \n",
      "1429    3.433987     3.931826   8.858084            4            6       1925   \n",
      "1430    3.931826     4.330733   9.111735            6            5       1957   \n",
      "1431    3.433987     4.248495   9.422787            3            5       1945   \n",
      "1432    5.252273     3.931826   9.105091            5            6       1951   \n",
      "1433    3.931826     4.110874   9.050289            3            5       1916   \n",
      "1434    4.795791     3.737670   8.656781            8            5       2005   \n",
      "1435    4.795791     3.806662   8.254009            8            5       2004   \n",
      "1436    3.044522     4.248495  10.068197            6            6       1979   \n",
      "1437    4.510860     4.189655   9.034319            6            5       1978   \n",
      "1438    3.044522     4.262680   9.117896            8            5       2001   \n",
      "1439    4.394449     4.948760   9.312987            6            6       1975   \n",
      "1440    3.044522          NaN  10.821836            6            5       1958   \n",
      "1441    3.044522          NaN   8.999496            6            5       2000   \n",
      "1442    3.044522     4.564348   9.519221            8            5       2005   \n",
      "1443    3.044522     4.488636   9.356862            9            5       2005   \n",
      "1444    3.044522     4.836282  10.349807            1            3       1951   \n",
      "1445    4.510860     4.369448   8.856661            7            5       1997   \n",
      "1446    5.081404     3.737670   7.888335            5            6       1977   \n",
      "1447    3.044522     4.077537   9.227492            5            7       1968   \n",
      "1448    4.510860          NaN   9.378985            5            5       1970   \n",
      "1449    5.198497     3.091042   7.293698            4            6       1970   \n",
      "1450    5.081404     3.091042   7.303170            4            4       1972   \n",
      "1451    3.044522     4.394449   9.501890            5            5       1969   \n",
      "1452    5.081404     3.091042   7.335634            4            5       1970   \n",
      "1453    5.081404     3.091042   7.331060            4            5       1970   \n",
      "1454    5.081404     3.091042   7.568896            4            7       1970   \n",
      "1455    5.081404     3.091042   7.546974            4            5       1970   \n",
      "1456    3.044522     5.081404   9.903538            5            7       1960   \n",
      "1457    4.454347     4.143135   9.253591            5            5       1992   \n",
      "1458    4.110874     4.317488   9.172431            7            5       1993   \n",
      "\n",
      "      YearRemodAdd  MasVnrArea  BsmtFinSF1  BsmtFinSF2          ...            \\\n",
      "0             2003    5.283204    6.561031    0.000000          ...             \n",
      "1             1976    0.000000    6.886532    0.000000          ...             \n",
      "2             2002    5.093750    6.188264    0.000000          ...             \n",
      "3             1970    0.000000    5.379897    0.000000          ...             \n",
      "4             2000    5.860786    6.486161    0.000000          ...             \n",
      "5             1995    0.000000    6.597146    0.000000          ...             \n",
      "6             2005    5.231109    7.222566    0.000000          ...             \n",
      "7             1973    5.484797    6.756932    3.496508          ...             \n",
      "8             1950    0.000000    0.000000    0.000000          ...             \n",
      "9             1950    0.000000    6.747587    0.000000          ...             \n",
      "10            1965    0.000000    6.810142    0.000000          ...             \n",
      "11            2006    5.659482    6.906755    0.000000          ...             \n",
      "12            1962    0.000000    6.603944    0.000000          ...             \n",
      "13            2007    5.726848    0.000000    0.000000          ...             \n",
      "14            1960    5.361292    6.598509    0.000000          ...             \n",
      "15            2001    0.000000    0.000000    0.000000          ...             \n",
      "16            1970    5.198497    6.361302    0.000000          ...             \n",
      "17            1967    0.000000    0.000000    0.000000          ...             \n",
      "18            2004    0.000000    6.472346    0.000000          ...             \n",
      "19            1965    0.000000    6.224558    0.000000          ...             \n",
      "20            2006    5.942799    0.000000    0.000000          ...             \n",
      "21            1950    0.000000    0.000000    0.000000          ...             \n",
      "22            2002    5.641907    0.000000    0.000000          ...             \n",
      "23            1976    0.000000    6.734592    0.000000          ...             \n",
      "24            2001    0.000000    5.241747    6.505784          ...             \n",
      "25            2007    6.463029    0.000000    0.000000          ...             \n",
      "26            2000    0.000000    5.459586    6.188264          ...             \n",
      "27            2008    5.303305    7.105786    0.000000          ...             \n",
      "28            1997    0.000000    7.153052    0.000000          ...             \n",
      "29            1950    0.000000    0.000000    0.000000          ...             \n",
      "...            ...         ...         ...         ...          ...             \n",
      "1429          1950    0.000000    0.000000    0.000000          ...             \n",
      "1430          1957    5.793014    0.000000    0.000000          ...             \n",
      "1431          1950    0.000000    0.000000    0.000000          ...             \n",
      "1432          1951    0.000000    0.000000    0.000000          ...             \n",
      "1433          1950    0.000000    0.000000    0.000000          ...             \n",
      "1434          2006    6.161207    7.361375    0.000000          ...             \n",
      "1435          2005    5.231109    7.355641    0.000000          ...             \n",
      "1436          1979    0.000000    6.655440    0.000000          ...             \n",
      "1437          1978    0.000000    0.000000    0.000000          ...             \n",
      "1438          2001    0.000000    0.000000    0.000000          ...             \n",
      "1439          1975    5.552960    6.357842    0.000000          ...             \n",
      "1440          1958    0.000000    6.813445    0.000000          ...             \n",
      "1441          2000    0.000000    7.036148    4.762174          ...             \n",
      "1442          2006    5.293305    7.208600    0.000000          ...             \n",
      "1443          2006    5.948035    7.283448    0.000000          ...             \n",
      "1444          1951    0.000000    0.000000    0.000000          ...             \n",
      "1445          1997    5.303305    7.126087    0.000000          ...             \n",
      "1446          1977    0.000000    0.000000    0.000000          ...             \n",
      "1447          2003    0.000000    6.091310    0.000000          ...             \n",
      "1448          1970    0.000000    5.010635    0.000000          ...             \n",
      "1449          1970    0.000000    6.259581    0.000000          ...             \n",
      "1450          1972    0.000000    5.533389    0.000000          ...             \n",
      "1451          1979    5.273000    4.787492    5.843544          ...             \n",
      "1452          1970    0.000000    6.013715    0.000000          ...             \n",
      "1453          1970    0.000000    0.000000    0.000000          ...             \n",
      "1454          1970    0.000000    0.000000    0.000000          ...             \n",
      "1455          1970    0.000000    5.533389    0.000000          ...             \n",
      "1456          1996    0.000000    7.110696    0.000000          ...             \n",
      "1457          1992    0.000000    5.823046    0.000000          ...             \n",
      "1458          1994    4.553877    6.632002    0.000000          ...             \n",
      "\n",
      "      SaleType_ConLw  SaleType_New  SaleType_Oth  SaleType_WD  \\\n",
      "0                0.0           0.0           0.0          1.0   \n",
      "1                0.0           0.0           0.0          1.0   \n",
      "2                0.0           0.0           0.0          1.0   \n",
      "3                0.0           0.0           0.0          1.0   \n",
      "4                0.0           0.0           0.0          1.0   \n",
      "5                0.0           0.0           0.0          1.0   \n",
      "6                0.0           0.0           0.0          1.0   \n",
      "7                0.0           0.0           0.0          1.0   \n",
      "8                0.0           0.0           0.0          1.0   \n",
      "9                0.0           0.0           0.0          1.0   \n",
      "10               0.0           0.0           0.0          1.0   \n",
      "11               0.0           1.0           0.0          0.0   \n",
      "12               0.0           0.0           0.0          1.0   \n",
      "13               0.0           1.0           0.0          0.0   \n",
      "14               0.0           0.0           0.0          1.0   \n",
      "15               0.0           0.0           0.0          1.0   \n",
      "16               0.0           0.0           0.0          1.0   \n",
      "17               0.0           0.0           0.0          1.0   \n",
      "18               0.0           0.0           0.0          1.0   \n",
      "19               0.0           0.0           0.0          0.0   \n",
      "20               0.0           1.0           0.0          0.0   \n",
      "21               0.0           0.0           0.0          1.0   \n",
      "22               0.0           0.0           0.0          1.0   \n",
      "23               0.0           0.0           0.0          1.0   \n",
      "24               0.0           0.0           0.0          1.0   \n",
      "25               0.0           0.0           0.0          1.0   \n",
      "26               0.0           0.0           0.0          1.0   \n",
      "27               0.0           0.0           0.0          1.0   \n",
      "28               0.0           0.0           0.0          1.0   \n",
      "29               0.0           0.0           0.0          1.0   \n",
      "...              ...           ...           ...          ...   \n",
      "1429             0.0           0.0           0.0          1.0   \n",
      "1430             0.0           0.0           0.0          1.0   \n",
      "1431             0.0           0.0           0.0          1.0   \n",
      "1432             0.0           0.0           0.0          1.0   \n",
      "1433             0.0           0.0           0.0          1.0   \n",
      "1434             0.0           1.0           0.0          0.0   \n",
      "1435             0.0           0.0           0.0          1.0   \n",
      "1436             0.0           0.0           0.0          1.0   \n",
      "1437             0.0           0.0           0.0          1.0   \n",
      "1438             0.0           0.0           0.0          1.0   \n",
      "1439             0.0           0.0           0.0          1.0   \n",
      "1440             0.0           0.0           0.0          1.0   \n",
      "1441             0.0           0.0           0.0          1.0   \n",
      "1442             0.0           1.0           0.0          0.0   \n",
      "1443             0.0           1.0           0.0          0.0   \n",
      "1444             0.0           0.0           0.0          1.0   \n",
      "1445             0.0           0.0           0.0          1.0   \n",
      "1446             0.0           0.0           0.0          1.0   \n",
      "1447             0.0           0.0           0.0          1.0   \n",
      "1448             0.0           0.0           0.0          1.0   \n",
      "1449             0.0           0.0           0.0          1.0   \n",
      "1450             0.0           0.0           0.0          1.0   \n",
      "1451             0.0           0.0           0.0          1.0   \n",
      "1452             0.0           0.0           0.0          1.0   \n",
      "1453             0.0           0.0           0.0          1.0   \n",
      "1454             0.0           0.0           0.0          1.0   \n",
      "1455             0.0           0.0           0.0          1.0   \n",
      "1456             0.0           0.0           0.0          1.0   \n",
      "1457             0.0           0.0           0.0          1.0   \n",
      "1458             0.0           0.0           0.0          1.0   \n",
      "\n",
      "      SaleCondition_Abnorml  SaleCondition_AdjLand  SaleCondition_Alloca  \\\n",
      "0                       0.0                    0.0                   0.0   \n",
      "1                       0.0                    0.0                   0.0   \n",
      "2                       0.0                    0.0                   0.0   \n",
      "3                       1.0                    0.0                   0.0   \n",
      "4                       0.0                    0.0                   0.0   \n",
      "5                       0.0                    0.0                   0.0   \n",
      "6                       0.0                    0.0                   0.0   \n",
      "7                       0.0                    0.0                   0.0   \n",
      "8                       1.0                    0.0                   0.0   \n",
      "9                       0.0                    0.0                   0.0   \n",
      "10                      0.0                    0.0                   0.0   \n",
      "11                      0.0                    0.0                   0.0   \n",
      "12                      0.0                    0.0                   0.0   \n",
      "13                      0.0                    0.0                   0.0   \n",
      "14                      0.0                    0.0                   0.0   \n",
      "15                      0.0                    0.0                   0.0   \n",
      "16                      0.0                    0.0                   0.0   \n",
      "17                      0.0                    0.0                   0.0   \n",
      "18                      0.0                    0.0                   0.0   \n",
      "19                      1.0                    0.0                   0.0   \n",
      "20                      0.0                    0.0                   0.0   \n",
      "21                      0.0                    0.0                   0.0   \n",
      "22                      0.0                    0.0                   0.0   \n",
      "23                      0.0                    0.0                   0.0   \n",
      "24                      0.0                    0.0                   0.0   \n",
      "25                      0.0                    0.0                   0.0   \n",
      "26                      0.0                    0.0                   0.0   \n",
      "27                      0.0                    0.0                   0.0   \n",
      "28                      0.0                    0.0                   0.0   \n",
      "29                      0.0                    0.0                   0.0   \n",
      "...                     ...                    ...                   ...   \n",
      "1429                    0.0                    0.0                   0.0   \n",
      "1430                    0.0                    0.0                   0.0   \n",
      "1431                    1.0                    0.0                   0.0   \n",
      "1432                    1.0                    0.0                   0.0   \n",
      "1433                    0.0                    0.0                   0.0   \n",
      "1434                    0.0                    0.0                   0.0   \n",
      "1435                    0.0                    0.0                   0.0   \n",
      "1436                    0.0                    0.0                   0.0   \n",
      "1437                    0.0                    0.0                   0.0   \n",
      "1438                    0.0                    0.0                   0.0   \n",
      "1439                    0.0                    0.0                   0.0   \n",
      "1440                    0.0                    0.0                   1.0   \n",
      "1441                    0.0                    0.0                   0.0   \n",
      "1442                    0.0                    0.0                   0.0   \n",
      "1443                    0.0                    0.0                   0.0   \n",
      "1444                    0.0                    0.0                   0.0   \n",
      "1445                    0.0                    0.0                   0.0   \n",
      "1446                    0.0                    0.0                   0.0   \n",
      "1447                    0.0                    0.0                   0.0   \n",
      "1448                    0.0                    0.0                   0.0   \n",
      "1449                    0.0                    0.0                   0.0   \n",
      "1450                    0.0                    0.0                   0.0   \n",
      "1451                    0.0                    0.0                   0.0   \n",
      "1452                    1.0                    0.0                   0.0   \n",
      "1453                    0.0                    0.0                   0.0   \n",
      "1454                    0.0                    0.0                   0.0   \n",
      "1455                    1.0                    0.0                   0.0   \n",
      "1456                    1.0                    0.0                   0.0   \n",
      "1457                    0.0                    0.0                   0.0   \n",
      "1458                    0.0                    0.0                   0.0   \n",
      "\n",
      "      SaleCondition_Family  SaleCondition_Normal  SaleCondition_Partial  \n",
      "0                      0.0                   1.0                    0.0  \n",
      "1                      0.0                   1.0                    0.0  \n",
      "2                      0.0                   1.0                    0.0  \n",
      "3                      0.0                   0.0                    0.0  \n",
      "4                      0.0                   1.0                    0.0  \n",
      "5                      0.0                   1.0                    0.0  \n",
      "6                      0.0                   1.0                    0.0  \n",
      "7                      0.0                   1.0                    0.0  \n",
      "8                      0.0                   0.0                    0.0  \n",
      "9                      0.0                   1.0                    0.0  \n",
      "10                     0.0                   1.0                    0.0  \n",
      "11                     0.0                   0.0                    1.0  \n",
      "12                     0.0                   1.0                    0.0  \n",
      "13                     0.0                   0.0                    1.0  \n",
      "14                     0.0                   1.0                    0.0  \n",
      "15                     0.0                   1.0                    0.0  \n",
      "16                     0.0                   1.0                    0.0  \n",
      "17                     0.0                   1.0                    0.0  \n",
      "18                     0.0                   1.0                    0.0  \n",
      "19                     0.0                   0.0                    0.0  \n",
      "20                     0.0                   0.0                    1.0  \n",
      "21                     0.0                   1.0                    0.0  \n",
      "22                     0.0                   1.0                    0.0  \n",
      "23                     0.0                   1.0                    0.0  \n",
      "24                     0.0                   1.0                    0.0  \n",
      "25                     0.0                   1.0                    0.0  \n",
      "26                     0.0                   1.0                    0.0  \n",
      "27                     0.0                   1.0                    0.0  \n",
      "28                     0.0                   1.0                    0.0  \n",
      "29                     0.0                   1.0                    0.0  \n",
      "...                    ...                   ...                    ...  \n",
      "1429                   0.0                   1.0                    0.0  \n",
      "1430                   0.0                   1.0                    0.0  \n",
      "1431                   0.0                   0.0                    0.0  \n",
      "1432                   0.0                   0.0                    0.0  \n",
      "1433                   0.0                   1.0                    0.0  \n",
      "1434                   0.0                   0.0                    1.0  \n",
      "1435                   0.0                   1.0                    0.0  \n",
      "1436                   0.0                   1.0                    0.0  \n",
      "1437                   0.0                   1.0                    0.0  \n",
      "1438                   0.0                   1.0                    0.0  \n",
      "1439                   0.0                   1.0                    0.0  \n",
      "1440                   0.0                   0.0                    0.0  \n",
      "1441                   0.0                   1.0                    0.0  \n",
      "1442                   0.0                   0.0                    1.0  \n",
      "1443                   0.0                   0.0                    1.0  \n",
      "1444                   0.0                   1.0                    0.0  \n",
      "1445                   0.0                   1.0                    0.0  \n",
      "1446                   0.0                   1.0                    0.0  \n",
      "1447                   0.0                   1.0                    0.0  \n",
      "1448                   0.0                   1.0                    0.0  \n",
      "1449                   0.0                   1.0                    0.0  \n",
      "1450                   0.0                   1.0                    0.0  \n",
      "1451                   0.0                   1.0                    0.0  \n",
      "1452                   0.0                   0.0                    0.0  \n",
      "1453                   0.0                   1.0                    0.0  \n",
      "1454                   0.0                   1.0                    0.0  \n",
      "1455                   0.0                   0.0                    0.0  \n",
      "1456                   0.0                   0.0                    0.0  \n",
      "1457                   0.0                   1.0                    0.0  \n",
      "1458                   0.0                   1.0                    0.0  \n",
      "\n",
      "[2919 rows x 288 columns]\n"
     ]
    }
   ],
   "source": [
    "all_data = pd.get_dummies(all_data)\n",
    "print(all_data)"
   ]
  },
  {
   "cell_type": "code",
   "execution_count": 8,
   "metadata": {
    "_cell_guid": "5d417300-0deb-3353-cabf-95f75af62678",
    "collapsed": true
   },
   "outputs": [],
   "source": [
    "#filling NA's with the mean of the column:\n",
    "all_data = all_data.fillna(all_data[:train.shape[0]].mean())"
   ]
  },
  {
   "cell_type": "code",
   "execution_count": 9,
   "metadata": {
    "_cell_guid": "fe687685-cdac-0a89-4d71-af2d11d87a81",
    "collapsed": true
   },
   "outputs": [],
   "source": [
    "#creating matrices for sklearn:\n",
    "X_train = all_data[:train.shape[0]]\n",
    "X_test = all_data[train.shape[0]:]\n",
    "y = train.SalePrice"
   ]
  },
  {
   "cell_type": "markdown",
   "metadata": {
    "_cell_guid": "cc4e3014-23b7-2971-ddb0-f67b03f83558"
   },
   "source": [
    "###Models\n",
    "\n",
    "Now we are going to use regularized linear regression models from the scikit learn module. I'm going to try both l_1(Lasso) and l_2(Ridge) regularization. I'll also define a function that returns the cross-validation rmse error so we can evaluate our models and pick the best tuning par"
   ]
  },
  {
   "cell_type": "code",
   "execution_count": 10,
   "metadata": {
    "_cell_guid": "82886739-eee6-5d7a-4be9-e1fe6ac059f1",
    "collapsed": true
   },
   "outputs": [],
   "source": [
    "from sklearn.linear_model import Ridge, RidgeCV, ElasticNet, LassoCV, LassoLarsCV\n",
    "from sklearn.model_selection import cross_val_score\n",
    "\n",
    "def rmse_cv(model):\n",
    "    rmse= np.sqrt(-cross_val_score(model, X_train, y, scoring=\"neg_mean_squared_error\", cv = 5))\n",
    "    return(rmse)"
   ]
  },
  {
   "cell_type": "code",
   "execution_count": 11,
   "metadata": {
    "_cell_guid": "436ce6e8-917f-8c88-3d7b-245e82a1619f",
    "collapsed": true
   },
   "outputs": [],
   "source": [
    "model_ridge = Ridge()"
   ]
  },
  {
   "cell_type": "markdown",
   "metadata": {
    "_cell_guid": "69ff958c-dbbb-4750-3fb0-d0ac17ff6363"
   },
   "source": [
    "The main tuning parameter for the Ridge model is alpha - a regularization parameter that measures how flexible our model is. The higher the regularization the less prone our model will be to overfit. However it will also lose flexibility and might not capture all of the signal in the data."
   ]
  },
  {
   "cell_type": "code",
   "execution_count": 12,
   "metadata": {
    "_cell_guid": "f6b86166-f581-6e05-5274-d3d3516ebaf3",
    "collapsed": true
   },
   "outputs": [],
   "source": [
    "alphas = [0.05, 0.1, 0.3, 1, 3, 5, 10, 15, 30, 50, 75]\n",
    "cv_ridge = [rmse_cv(Ridge(alpha = alpha)).mean() \n",
    "            for alpha in alphas]"
   ]
  },
  {
   "cell_type": "code",
   "execution_count": 13,
   "metadata": {
    "_cell_guid": "f8cf53ba-8441-9233-b7f5-a851d270b770",
    "collapsed": false
   },
   "outputs": [
    {
     "data": {
      "text/plain": [
       "<matplotlib.text.Text at 0x7fd8b42b7e80>"
      ]
     },
     "execution_count": 13,
     "metadata": {},
     "output_type": "execute_result"
    },
    {
     "data": {
      "image/png": "[encoded data removed]",
      "text/plain": [
       "<matplotlib.figure.Figure at 0x7fd8b49b3898>"
      ]
     },
     "metadata": {},
     "output_type": "display_data"
    }
   ],
   "source": [
    "cv_ridge = pd.Series(cv_ridge, index = alphas)\n",
    "cv_ridge.plot(title = \"Validation - Just Do It\")\n",
    "plt.xlabel(\"alpha\")\n",
    "plt.ylabel(\"rmse\")"
   ]
  },
  {
   "cell_type": "markdown",
   "metadata": {
    "_cell_guid": "37486402-4a48-912f-84ee-a3611334b133"
   },
   "source": [
    "Note the U-ish shaped curve above. When alpha is too small the regularization is too strong and the model cannot capture all the complexities in the data. If however we let the model be too flexible (alpha large) the model begins to overfit. A value of alpha = 10 is about right based on the plot above."
   ]
  },
  {
   "cell_type": "code",
   "execution_count": 14,
   "metadata": {
    "_cell_guid": "d42c18c9-ee70-929f-ce63-aac7f77796cc",
    "collapsed": false
   },
   "outputs": [
    {
     "data": {
      "text/plain": [
       "0.12733664928777008"
      ]
     },
     "execution_count": 14,
     "metadata": {},
     "output_type": "execute_result"
    }
   ],
   "source": [
    "cv_ridge.min()"
   ]
  },
  {
   "cell_type": "markdown",
   "metadata": {
    "_cell_guid": "863fb699-7bcd-3748-3dbb-1c9b18afee9b"
   },
   "source": [
    "So for the Ridge regression we get a rmsle of about 0.127\n",
    "\n",
    "Let' try out the Lasso model. We will do a slightly different approach here and use the built in Lasso CV to figure out the best alpha for us. For some reason the alphas in Lasso CV are really the inverse or the alphas in Ridge."
   ]
  },
  {
   "cell_type": "code",
   "execution_count": 15,
   "metadata": {
    "_cell_guid": "8204520c-a595-2ad2-4685-0b84cc662b84",
    "collapsed": true
   },
   "outputs": [],
   "source": [
    "model_lasso = LassoCV(alphas = [1, 0.1, 0.001, 0.0005]).fit(X_train, y)"
   ]
  },
  {
   "cell_type": "code",
   "execution_count": 16,
   "metadata": {
    "_cell_guid": "e78e6126-4de0-08ad-250b-46a3f0f48de0",
    "collapsed": false
   },
   "outputs": [
    {
     "data": {
      "text/plain": [
       "0.12314592817531504"
      ]
     },
     "execution_count": 16,
     "metadata": {},
     "output_type": "execute_result"
    }
   ],
   "source": [
    "rmse_cv(model_lasso).mean()"
   ]
  },
  {
   "cell_type": "markdown",
   "metadata": {
    "_cell_guid": "abc5f43e-1c38-4c1e-cb70-a95c8d9be8de"
   },
   "source": [
    "Nice! The lasso performs even better so we'll just use this one to predict on the test set. Another neat thing about the Lasso is that it does feature selection for you - setting coefficients of features it deems unimportant to zero. Let's take a look at the coefficients:"
   ]
  },
  {
   "cell_type": "code",
   "execution_count": 17,
   "metadata": {
    "_cell_guid": "c7be87ca-412a-cb19-1524-cd94cf698d44",
    "collapsed": true
   },
   "outputs": [],
   "source": [
    "coef = pd.Series(model_lasso.coef_, index = X_train.columns)"
   ]
  },
  {
   "cell_type": "code",
   "execution_count": 18,
   "metadata": {
    "_cell_guid": "14be641e-bbe0-824d-d90f-f47698c8b5c5",
    "collapsed": false
   },
   "outputs": [
    {
     "name": "stdout",
     "output_type": "stream",
     "text": [
      "Lasso picked 110 variables and eliminated the other 178 variables\n"
     ]
    }
   ],
   "source": [
    "print(\"Lasso picked \" + str(sum(coef != 0)) + \" variables and eliminated the other \" +  str(sum(coef == 0)) + \" variables\")"
   ]
  },
  {
   "cell_type": "markdown",
   "metadata": {
    "_cell_guid": "ca153134-b109-1afc-e066-44273f65d44c"
   },
   "source": [
    "Good job Lasso.  One thing to note here however is that the features selected are not necessarily the \"correct\" ones - especially since there are a lot of collinear features in this dataset. One idea to try here is run Lasso a few times on boostrapped samples and see how stable the feature selection is."
   ]
  },
  {
   "cell_type": "markdown",
   "metadata": {
    "_cell_guid": "632e23a8-948f-c692-f5e9-1aa8a75f21d5"
   },
   "source": [
    "We can also take a look directly at what the most important coefficients are:"
   ]
  },
  {
   "cell_type": "code",
   "execution_count": 19,
   "metadata": {
    "_cell_guid": "3efc02df-c877-b1fe-1807-5dd93c896c63",
    "collapsed": true
   },
   "outputs": [],
   "source": [
    "imp_coef = pd.concat([coef.sort_values().head(10),\n",
    "                     coef.sort_values().tail(10)])"
   ]
  },
  {
   "cell_type": "code",
   "execution_count": 20,
   "metadata": {
    "_cell_guid": "87317789-6e7e-d57f-0b54-d8ba0ee26abf",
    "collapsed": false,
    "scrolled": true
   },
   "outputs": [
    {
     "data": {
      "text/plain": [
       "<matplotlib.text.Text at 0x7fd8b4252c88>"
      ]
     },
     "execution_count": 20,
     "metadata": {},
     "output_type": "execute_result"
    },
    {
     "data": {
      "image/png": "[encoded data removed]",
      "text/plain": [
       "<matplotlib.figure.Figure at 0x7fd8b74d1048>"
      ]
     },
     "metadata": {},
     "output_type": "display_data"
    }
   ],
   "source": [
    "matplotlib.rcParams['figure.figsize'] = (8.0, 10.0)\n",
    "imp_coef.plot(kind = \"barh\")\n",
    "plt.title(\"Coefficients in the Lasso Model\")"
   ]
  },
  {
   "cell_type": "markdown",
   "metadata": {
    "_cell_guid": "f6e6f820-1ec6-4a69-c309-9992b80652da"
   },
   "source": [
    "The most important positive feature is `GrLivArea` -  the above ground area by area square feet. This definitely sense. Then a few other  location and quality features contributed positively. Some of the negative features make less sense and would be worth looking into more - it seems like they might come from unbalanced categorical variables.\n",
    "\n",
    " Also note that unlike the feature importance you'd get from a random forest these are _actual_ coefficients in your model - so you can say precisely why the predicted price is what it is. The only issue here is that we log_transformed both the target and the numeric features so the actual magnitudes are a bit hard to interpret. "
   ]
  },
  {
   "cell_type": "code",
   "execution_count": 21,
   "metadata": {
    "_cell_guid": "cdeaa3d3-f9ad-2e06-1339-61b4425a43f8",
    "collapsed": true
   },
   "outputs": [],
   "source": [
    "#let's look at the residuals as well:\n",
    "matplotlib.rcParams['figure.figsize'] = (6.0, 6.0)\n",
    "\n",
    "preds = pd.DataFrame({\"preds\":model_lasso.predict(X_train), \"true\":y})\n",
    "preds[\"residuals\"] = preds[\"true\"] - preds[\"preds\"]\n",
    "#preds.plot(x = \"preds\", y = \"residuals\",kind = \"scatter\")"
   ]
  },
  {
   "cell_type": "markdown",
   "metadata": {
    "_cell_guid": "4780532e-2815-e355-9a96-fb1c598f6984"
   },
   "source": [
    "The residual plot looks pretty good.To wrap it up let's predict on the test set and submit on the leaderboard:"
   ]
  },
  {
   "cell_type": "code",
   "execution_count": 22,
   "metadata": {
    "_cell_guid": "ab95ec6a-a45c-af85-7677-bfc540802427",
    "collapsed": true
   },
   "outputs": [],
   "source": [
    "preds = np.expm1(model_lasso.predict(X_test))"
   ]
  },
  {
   "cell_type": "code",
   "execution_count": 23,
   "metadata": {
    "_cell_guid": "569d7154-e3b5-84ab-1d28-57bdc02955d9",
    "collapsed": false
   },
   "outputs": [],
   "source": [
    "solution = pd.DataFrame({\"id\":test.Id, \"SalePrice\":preds})\n",
    "solution.to_csv(\"lasso_sol2.csv\", index = False)"
   ]
  },
  {
   "cell_type": "code",
   "execution_count": null,
   "metadata": {
    "collapsed": true
   },
   "outputs": [],
   "source": []
  }
 ],
 "metadata": {
  "_change_revision": 180,
  "_is_fork": false,
  "kernelspec": {
   "display_name": "Python 3",
   "language": "python",
   "name": "python3"
  },
  "language_info": {
   "codemirror_mode": {
    "name": "ipython",
    "version": 3
   },
   "file_extension": ".py",
   "mimetype": "text/x-python",
   "name": "python",
   "nbconvert_exporter": "python",
   "pygments_lexer": "ipython3",
   "version": "3.4.3"
  }
 },
 "nbformat": 4,
 "nbformat_minor": 0
}
